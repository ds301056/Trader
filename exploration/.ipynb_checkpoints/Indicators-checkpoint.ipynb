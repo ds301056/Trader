{
 "cells": [
  {
   "cell_type": "code",
   "execution_count": 1,
   "id": "f8c3bb74-a59d-44b7-b913-49397331f9f7",
   "metadata": {},
   "outputs": [
    {
     "ename": "ModuleNotFoundError",
     "evalue": "No module named 'plotting'",
     "output_type": "error",
     "traceback": [
      "\u001b[1;31m---------------------------------------------------------------------------\u001b[0m",
      "\u001b[1;31mModuleNotFoundError\u001b[0m                       Traceback (most recent call last)",
      "Cell \u001b[1;32mIn[1], line 3\u001b[0m\n\u001b[0;32m      1\u001b[0m \u001b[38;5;28;01mimport\u001b[39;00m \u001b[38;5;21;01msys\u001b[39;00m\n\u001b[0;32m      2\u001b[0m sys\u001b[38;5;241m.\u001b[39mpath\u001b[38;5;241m.\u001b[39mappend(\u001b[38;5;124m'\u001b[39m\u001b[38;5;124m../\u001b[39m\u001b[38;5;124m'\u001b[39m)\n\u001b[1;32m----> 3\u001b[0m \u001b[38;5;28;01mfrom\u001b[39;00m \u001b[38;5;21;01mplotting\u001b[39;00m \u001b[38;5;28;01mimport\u001b[39;00m CandlePlot\n\u001b[0;32m      4\u001b[0m \u001b[38;5;28;01mimport\u001b[39;00m \u001b[38;5;21;01mpandas\u001b[39;00m \u001b[38;5;28;01mas\u001b[39;00m \u001b[38;5;21;01mpd\u001b[39;00m\n\u001b[0;32m      5\u001b[0m \u001b[38;5;28;01mfrom\u001b[39;00m \u001b[38;5;21;01mtechnicals\u001b[39;00m\u001b[38;5;21;01m.\u001b[39;00m\u001b[38;5;21;01mindicators\u001b[39;00m \u001b[38;5;28;01mimport\u001b[39;00m BollingerBands, ATR, KeltnerChannels\n",
      "\u001b[1;31mModuleNotFoundError\u001b[0m: No module named 'plotting'"
     ]
    }
   ],
   "source": [
    "import sys\n",
    "sys.path.append('./')\n",
    "from plotting import CandlePlot\n",
    "import pandas as pd\n",
    "from technicals.indicators import BollingerBands, ATR, KeltnerChannels"
   ]
  },
  {
   "cell_type": "code",
   "execution_count": null,
   "id": "42b2f80a-9569-4896-8ec8-bc181205a50c",
   "metadata": {},
   "outputs": [],
   "source": [
    "df = pd.read_pickle(\"../data/AUD_CAD_H1.pkl\")"
   ]
  },
  {
   "cell_type": "code",
   "execution_count": null,
   "id": "7a7c2b8b-3e89-437b-8f1d-3787e443e39d",
   "metadata": {},
   "outputs": [],
   "source": [
    "df_an = df.copy()"
   ]
  },
  {
   "cell_type": "code",
   "execution_count": null,
   "id": "4e31522e-13ff-4b31-b4b6-7cf82237d410",
   "metadata": {},
   "outputs": [],
   "source": [
    "df_an = ATR(df, n=14)"
   ]
  },
  {
   "cell_type": "code",
   "execution_count": null,
   "id": "0fbe02e7-29a1-40ad-87da-d35a99d90687",
   "metadata": {},
   "outputs": [],
   "source": [
    "cp = CandlePlot(df_an.iloc[-200:], candles=True)\n",
    "cp.show_plot(line_traces=['BB_MA', 'BB_UP', 'BB_LW'])"
   ]
  },
  {
   "cell_type": "code",
   "execution_count": null,
   "id": "37d2f155-ec86-47fa-89c0-8e915c4ffa17",
   "metadata": {},
   "outputs": [],
   "source": []
  },
  {
   "cell_type": "code",
   "execution_count": null,
   "id": "b760e3c0-842a-4e94-805f-09a545e3558c",
   "metadata": {},
   "outputs": [],
   "source": []
  },
  {
   "cell_type": "code",
   "execution_count": null,
   "id": "a1030e95-18fd-47b8-b84a-d4dd7417d677",
   "metadata": {},
   "outputs": [],
   "source": []
  },
  {
   "cell_type": "code",
   "execution_count": null,
   "id": "11b5e271-a5c3-44e3-9367-33d2933584b3",
   "metadata": {},
   "outputs": [],
   "source": []
  }
 ],
 "metadata": {
  "kernelspec": {
   "display_name": "Python 3 (ipykernel)",
   "language": "python",
   "name": "python3"
  },
  "language_info": {
   "codemirror_mode": {
    "name": "ipython",
    "version": 3
   },
   "file_extension": ".py",
   "mimetype": "text/x-python",
   "name": "python",
   "nbconvert_exporter": "python",
   "pygments_lexer": "ipython3",
   "version": "3.12.1"
  }
 },
 "nbformat": 4,
 "nbformat_minor": 5
}
