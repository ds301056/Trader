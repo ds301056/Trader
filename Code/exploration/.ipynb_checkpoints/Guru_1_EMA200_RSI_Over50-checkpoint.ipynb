{
 "cells": [
  {
   "cell_type": "code",
   "execution_count": 66,
   "id": "d45bb3a8",
   "metadata": {},
   "outputs": [],
   "source": [
    "import sys\n",
    "sys.path.append(\"../\")"
   ]
  },
  {
   "cell_type": "code",
   "execution_count": 67,
   "id": "2276616b",
   "metadata": {},
   "outputs": [],
   "source": [
    "import pandas as pd\n",
    "import datetime as dt\n",
    "import plotly.graph_objects as go\n",
    "from technicals.indicators import RSI\n",
    "from technicals.patterns import apply_patterns\n",
    "from plotting import CandlePlot"
   ]
  },
  {
   "cell_type": "code",
   "execution_count": 68,
   "id": "5979a5ce",
   "metadata": {},
   "outputs": [],
   "source": [
    "df_raw = pd.read_pickle(\"../data/EUR_USD_H1.pkl\")"
   ]
  },
  {
   "cell_type": "code",
   "execution_count": 69,
   "id": "e55a7c2d",
   "metadata": {},
   "outputs": [
    {
     "data": {
      "text/plain": [
       "(49667, 14)"
      ]
     },
     "execution_count": 69,
     "metadata": {},
     "output_type": "execute_result"
    }
   ],
   "source": [
    "df_raw.shape"
   ]
  },
  {
   "cell_type": "code",
   "execution_count": 70,
   "id": "9f383be9",
   "metadata": {},
   "outputs": [],
   "source": [
    "df_an = df_raw.copy()#df_raw.iloc[-6000:].copy()\n",
    "df_an.reset_index(drop=True, inplace=True)"
   ]
  },
  {
   "cell_type": "code",
   "execution_count": 71,
   "id": "0cf825ed",
   "metadata": {},
   "outputs": [
    {
     "data": {
      "text/plain": [
       "(49667, 14)"
      ]
     },
     "execution_count": 71,
     "metadata": {},
     "output_type": "execute_result"
    }
   ],
   "source": [
    "df_an.shape"
   ]
  },
  {
   "cell_type": "code",
   "execution_count": 72,
   "id": "61d8e122",
   "metadata": {},
   "outputs": [],
   "source": [
    "df_an = RSI(df_an)"
   ]
  },
  {
   "cell_type": "code",
   "execution_count": 73,
   "id": "95780bfb",
   "metadata": {},
   "outputs": [
    {
     "data": {
      "text/html": [
       "<div>\n",
       "<style scoped>\n",
       "    .dataframe tbody tr th:only-of-type {\n",
       "        vertical-align: middle;\n",
       "    }\n",
       "\n",
       "    .dataframe tbody tr th {\n",
       "        vertical-align: top;\n",
       "    }\n",
       "\n",
       "    .dataframe thead th {\n",
       "        text-align: right;\n",
       "    }\n",
       "</style>\n",
       "<table border=\"1\" class=\"dataframe\">\n",
       "  <thead>\n",
       "    <tr style=\"text-align: right;\">\n",
       "      <th></th>\n",
       "      <th>time</th>\n",
       "      <th>volume</th>\n",
       "      <th>mid_o</th>\n",
       "      <th>mid_h</th>\n",
       "      <th>mid_l</th>\n",
       "      <th>mid_c</th>\n",
       "      <th>bid_o</th>\n",
       "      <th>bid_h</th>\n",
       "      <th>bid_l</th>\n",
       "      <th>bid_c</th>\n",
       "      <th>ask_o</th>\n",
       "      <th>ask_h</th>\n",
       "      <th>ask_l</th>\n",
       "      <th>ask_c</th>\n",
       "      <th>RSI_14</th>\n",
       "    </tr>\n",
       "  </thead>\n",
       "  <tbody>\n",
       "    <tr>\n",
       "      <th>49662</th>\n",
       "      <td>2023-12-29 17:00:00+00:00</td>\n",
       "      <td>4230</td>\n",
       "      <td>1.10607</td>\n",
       "      <td>1.10669</td>\n",
       "      <td>1.10529</td>\n",
       "      <td>1.10643</td>\n",
       "      <td>1.10600</td>\n",
       "      <td>1.10661</td>\n",
       "      <td>1.10521</td>\n",
       "      <td>1.10636</td>\n",
       "      <td>1.10614</td>\n",
       "      <td>1.10677</td>\n",
       "      <td>1.10537</td>\n",
       "      <td>1.10650</td>\n",
       "      <td>48.386811</td>\n",
       "    </tr>\n",
       "    <tr>\n",
       "      <th>49663</th>\n",
       "      <td>2023-12-29 18:00:00+00:00</td>\n",
       "      <td>5238</td>\n",
       "      <td>1.10641</td>\n",
       "      <td>1.10641</td>\n",
       "      <td>1.10493</td>\n",
       "      <td>1.10532</td>\n",
       "      <td>1.10634</td>\n",
       "      <td>1.10634</td>\n",
       "      <td>1.10485</td>\n",
       "      <td>1.10524</td>\n",
       "      <td>1.10648</td>\n",
       "      <td>1.10648</td>\n",
       "      <td>1.10501</td>\n",
       "      <td>1.10541</td>\n",
       "      <td>44.564009</td>\n",
       "    </tr>\n",
       "    <tr>\n",
       "      <th>49664</th>\n",
       "      <td>2023-12-29 19:00:00+00:00</td>\n",
       "      <td>2778</td>\n",
       "      <td>1.10530</td>\n",
       "      <td>1.10540</td>\n",
       "      <td>1.10382</td>\n",
       "      <td>1.10410</td>\n",
       "      <td>1.10522</td>\n",
       "      <td>1.10531</td>\n",
       "      <td>1.10375</td>\n",
       "      <td>1.10402</td>\n",
       "      <td>1.10538</td>\n",
       "      <td>1.10549</td>\n",
       "      <td>1.10389</td>\n",
       "      <td>1.10417</td>\n",
       "      <td>40.753032</td>\n",
       "    </tr>\n",
       "    <tr>\n",
       "      <th>49665</th>\n",
       "      <td>2023-12-29 20:00:00+00:00</td>\n",
       "      <td>2265</td>\n",
       "      <td>1.10411</td>\n",
       "      <td>1.10510</td>\n",
       "      <td>1.10384</td>\n",
       "      <td>1.10411</td>\n",
       "      <td>1.10403</td>\n",
       "      <td>1.10502</td>\n",
       "      <td>1.10376</td>\n",
       "      <td>1.10403</td>\n",
       "      <td>1.10419</td>\n",
       "      <td>1.10517</td>\n",
       "      <td>1.10392</td>\n",
       "      <td>1.10419</td>\n",
       "      <td>40.797723</td>\n",
       "    </tr>\n",
       "    <tr>\n",
       "      <th>49666</th>\n",
       "      <td>2023-12-29 21:00:00+00:00</td>\n",
       "      <td>1250</td>\n",
       "      <td>1.10410</td>\n",
       "      <td>1.10413</td>\n",
       "      <td>1.10342</td>\n",
       "      <td>1.10374</td>\n",
       "      <td>1.10403</td>\n",
       "      <td>1.10406</td>\n",
       "      <td>1.10333</td>\n",
       "      <td>1.10363</td>\n",
       "      <td>1.10418</td>\n",
       "      <td>1.10420</td>\n",
       "      <td>1.10349</td>\n",
       "      <td>1.10386</td>\n",
       "      <td>39.607275</td>\n",
       "    </tr>\n",
       "  </tbody>\n",
       "</table>\n",
       "</div>"
      ],
      "text/plain": [
       "                           time  volume    mid_o    mid_h    mid_l    mid_c  \\\n",
       "49662 2023-12-29 17:00:00+00:00    4230  1.10607  1.10669  1.10529  1.10643   \n",
       "49663 2023-12-29 18:00:00+00:00    5238  1.10641  1.10641  1.10493  1.10532   \n",
       "49664 2023-12-29 19:00:00+00:00    2778  1.10530  1.10540  1.10382  1.10410   \n",
       "49665 2023-12-29 20:00:00+00:00    2265  1.10411  1.10510  1.10384  1.10411   \n",
       "49666 2023-12-29 21:00:00+00:00    1250  1.10410  1.10413  1.10342  1.10374   \n",
       "\n",
       "         bid_o    bid_h    bid_l    bid_c    ask_o    ask_h    ask_l    ask_c  \\\n",
       "49662  1.10600  1.10661  1.10521  1.10636  1.10614  1.10677  1.10537  1.10650   \n",
       "49663  1.10634  1.10634  1.10485  1.10524  1.10648  1.10648  1.10501  1.10541   \n",
       "49664  1.10522  1.10531  1.10375  1.10402  1.10538  1.10549  1.10389  1.10417   \n",
       "49665  1.10403  1.10502  1.10376  1.10403  1.10419  1.10517  1.10392  1.10419   \n",
       "49666  1.10403  1.10406  1.10333  1.10363  1.10418  1.10420  1.10349  1.10386   \n",
       "\n",
       "          RSI_14  \n",
       "49662  48.386811  \n",
       "49663  44.564009  \n",
       "49664  40.753032  \n",
       "49665  40.797723  \n",
       "49666  39.607275  "
      ]
     },
     "execution_count": 73,
     "metadata": {},
     "output_type": "execute_result"
    }
   ],
   "source": [
    "df_an.tail()"
   ]
  },
  {
   "cell_type": "code",
   "execution_count": 74,
   "id": "23769d23",
   "metadata": {},
   "outputs": [],
   "source": [
    "df_an = apply_patterns(df_an)"
   ]
  },
  {
   "cell_type": "code",
   "execution_count": 75,
   "id": "8ac55bc7",
   "metadata": {},
   "outputs": [],
   "source": [
    "df_an['EMA_200'] = df_an.mid_c.ewm(span=200, min_periods=200).mean()"
   ]
  },
  {
   "cell_type": "code",
   "execution_count": 76,
   "id": "f2498b85",
   "metadata": {},
   "outputs": [
    {
     "data": {
      "text/plain": [
       "Index(['time', 'volume', 'mid_o', 'mid_h', 'mid_l', 'mid_c', 'bid_o', 'bid_h',\n",
       "       'bid_l', 'bid_c', 'ask_o', 'ask_h', 'ask_l', 'ask_c', 'RSI_14',\n",
       "       'body_lower', 'body_upper', 'body_bottom_perc', 'body_top_perc',\n",
       "       'body_perc', 'direction', 'body_size', 'low_change', 'high_change',\n",
       "       'body_size_change', 'mid_point', 'mid_point_prev_2', 'body_size_prev',\n",
       "       'direction_prev', 'direction_prev_2', 'body_perc_prev',\n",
       "       'body_perc_prev_2', 'HANGING_MAN', 'SHOOTING_STAR', 'SPINNING_TOP',\n",
       "       'MARUBOZU', 'ENGULFING', 'TWEEZER_TOP', 'TWEEZER_BOTTOM',\n",
       "       'MORNING_STAR', 'EVENING_STAR', 'EMA_200'],\n",
       "      dtype='object')"
      ]
     },
     "execution_count": 76,
     "metadata": {},
     "output_type": "execute_result"
    }
   ],
   "source": [
    "df_an.columns"
   ]
  },
  {
   "cell_type": "code",
   "execution_count": 77,
   "id": "881c992e",
   "metadata": {},
   "outputs": [],
   "source": [
    "our_cols = ['time', 'mid_o', 'mid_h', 'mid_l', 'mid_c',\n",
    "                'ask_c','bid_c', 'ENGULFING', 'direction', 'EMA_200', 'RSI_14' ]"
   ]
  },
  {
   "cell_type": "code",
   "execution_count": 78,
   "id": "c65c943c",
   "metadata": {},
   "outputs": [],
   "source": [
    "df_slim = df_an[our_cols].copy()\n",
    "df_slim.dropna(inplace=True)\n",
    "df_slim.reset_index(drop=True, inplace=True)"
   ]
  },
  {
   "cell_type": "code",
   "execution_count": 79,
   "id": "b33bb31e",
   "metadata": {},
   "outputs": [
    {
     "data": {
      "text/html": [
       "<div>\n",
       "<style scoped>\n",
       "    .dataframe tbody tr th:only-of-type {\n",
       "        vertical-align: middle;\n",
       "    }\n",
       "\n",
       "    .dataframe tbody tr th {\n",
       "        vertical-align: top;\n",
       "    }\n",
       "\n",
       "    .dataframe thead th {\n",
       "        text-align: right;\n",
       "    }\n",
       "</style>\n",
       "<table border=\"1\" class=\"dataframe\">\n",
       "  <thead>\n",
       "    <tr style=\"text-align: right;\">\n",
       "      <th></th>\n",
       "      <th>time</th>\n",
       "      <th>mid_o</th>\n",
       "      <th>mid_h</th>\n",
       "      <th>mid_l</th>\n",
       "      <th>mid_c</th>\n",
       "      <th>ask_c</th>\n",
       "      <th>bid_c</th>\n",
       "      <th>ENGULFING</th>\n",
       "      <th>direction</th>\n",
       "      <th>EMA_200</th>\n",
       "      <th>RSI_14</th>\n",
       "    </tr>\n",
       "  </thead>\n",
       "  <tbody>\n",
       "    <tr>\n",
       "      <th>0</th>\n",
       "      <td>2016-01-19 07:00:00+00:00</td>\n",
       "      <td>1.08736</td>\n",
       "      <td>1.08764</td>\n",
       "      <td>1.08595</td>\n",
       "      <td>1.08652</td>\n",
       "      <td>1.08660</td>\n",
       "      <td>1.08645</td>\n",
       "      <td>False</td>\n",
       "      <td>-1</td>\n",
       "      <td>1.088334</td>\n",
       "      <td>36.239350</td>\n",
       "    </tr>\n",
       "    <tr>\n",
       "      <th>1</th>\n",
       "      <td>2016-01-19 08:00:00+00:00</td>\n",
       "      <td>1.08654</td>\n",
       "      <td>1.08846</td>\n",
       "      <td>1.08636</td>\n",
       "      <td>1.08846</td>\n",
       "      <td>1.08861</td>\n",
       "      <td>1.08832</td>\n",
       "      <td>True</td>\n",
       "      <td>1</td>\n",
       "      <td>1.088336</td>\n",
       "      <td>47.615598</td>\n",
       "    </tr>\n",
       "    <tr>\n",
       "      <th>2</th>\n",
       "      <td>2016-01-19 09:00:00+00:00</td>\n",
       "      <td>1.08844</td>\n",
       "      <td>1.08890</td>\n",
       "      <td>1.08702</td>\n",
       "      <td>1.08724</td>\n",
       "      <td>1.08749</td>\n",
       "      <td>1.08699</td>\n",
       "      <td>False</td>\n",
       "      <td>-1</td>\n",
       "      <td>1.088323</td>\n",
       "      <td>42.482293</td>\n",
       "    </tr>\n",
       "    <tr>\n",
       "      <th>3</th>\n",
       "      <td>2016-01-19 10:00:00+00:00</td>\n",
       "      <td>1.08728</td>\n",
       "      <td>1.08834</td>\n",
       "      <td>1.08662</td>\n",
       "      <td>1.08730</td>\n",
       "      <td>1.08737</td>\n",
       "      <td>1.08722</td>\n",
       "      <td>False</td>\n",
       "      <td>1</td>\n",
       "      <td>1.088312</td>\n",
       "      <td>42.808846</td>\n",
       "    </tr>\n",
       "    <tr>\n",
       "      <th>4</th>\n",
       "      <td>2016-01-19 11:00:00+00:00</td>\n",
       "      <td>1.08728</td>\n",
       "      <td>1.08732</td>\n",
       "      <td>1.08599</td>\n",
       "      <td>1.08630</td>\n",
       "      <td>1.08637</td>\n",
       "      <td>1.08623</td>\n",
       "      <td>True</td>\n",
       "      <td>-1</td>\n",
       "      <td>1.088289</td>\n",
       "      <td>38.849941</td>\n",
       "    </tr>\n",
       "  </tbody>\n",
       "</table>\n",
       "</div>"
      ],
      "text/plain": [
       "                       time    mid_o    mid_h    mid_l    mid_c    ask_c  \\\n",
       "0 2016-01-19 07:00:00+00:00  1.08736  1.08764  1.08595  1.08652  1.08660   \n",
       "1 2016-01-19 08:00:00+00:00  1.08654  1.08846  1.08636  1.08846  1.08861   \n",
       "2 2016-01-19 09:00:00+00:00  1.08844  1.08890  1.08702  1.08724  1.08749   \n",
       "3 2016-01-19 10:00:00+00:00  1.08728  1.08834  1.08662  1.08730  1.08737   \n",
       "4 2016-01-19 11:00:00+00:00  1.08728  1.08732  1.08599  1.08630  1.08637   \n",
       "\n",
       "     bid_c  ENGULFING  direction   EMA_200     RSI_14  \n",
       "0  1.08645      False         -1  1.088334  36.239350  \n",
       "1  1.08832       True          1  1.088336  47.615598  \n",
       "2  1.08699      False         -1  1.088323  42.482293  \n",
       "3  1.08722      False          1  1.088312  42.808846  \n",
       "4  1.08623       True         -1  1.088289  38.849941  "
      ]
     },
     "execution_count": 79,
     "metadata": {},
     "output_type": "execute_result"
    }
   ],
   "source": [
    "df_slim.head()"
   ]
  },
  {
   "cell_type": "code",
   "execution_count": 80,
   "id": "a0d4271d",
   "metadata": {},
   "outputs": [],
   "source": [
    "BUY = 1\n",
    "SELL = -1\n",
    "NONE = 0\n",
    "RSI_LIMIT = 50.0\n",
    "\n",
    "def apply_signal(row):\n",
    "    if row.ENGULFING == True:\n",
    "        if row.direction == BUY and row.mid_l > row.EMA_200:\n",
    "            if row.RSI_14 > RSI_LIMIT:\n",
    "                return BUY\n",
    "        if row.direction == SELL and row.mid_h < row.EMA_200:\n",
    "            if row.RSI_14 < RSI_LIMIT:\n",
    "                return SELL\n",
    "    return NONE        "
   ]
  },
  {
   "cell_type": "code",
   "execution_count": 81,
   "id": "774e924d",
   "metadata": {},
   "outputs": [],
   "source": [
    "df_slim[\"SIGNAL\"] = df_slim.apply(apply_signal, axis=1)"
   ]
  },
  {
   "cell_type": "code",
   "execution_count": 82,
   "id": "cbf03c6f",
   "metadata": {},
   "outputs": [
    {
     "data": {
      "text/plain": [
       "SIGNAL\n",
       " 0    45070\n",
       "-1     2207\n",
       " 1     2191\n",
       "Name: count, dtype: int64"
      ]
     },
     "execution_count": 82,
     "metadata": {},
     "output_type": "execute_result"
    }
   ],
   "source": [
    "df_slim[\"SIGNAL\"].value_counts()"
   ]
  },
  {
   "cell_type": "code",
   "execution_count": 83,
   "id": "41839f66",
   "metadata": {},
   "outputs": [],
   "source": [
    "LOSS_FACTOR = -1.0\n",
    "PROFIT_FACTOR = 1.5\n",
    "\n",
    "def apply_take_profit(row):\n",
    "    if row.SIGNAL != NONE:\n",
    "        return (row.mid_c - row.mid_o) * 1.5 + row.mid_c\n",
    "    else:\n",
    "        return 0.0\n",
    "\n",
    "def apply_stop_loss(row):\n",
    "    if row.SIGNAL != NONE:\n",
    "        return row.mid_o\n",
    "    else:\n",
    "        return 0.0"
   ]
  },
  {
   "cell_type": "code",
   "execution_count": 84,
   "id": "914d768a",
   "metadata": {},
   "outputs": [],
   "source": [
    "df_slim[\"TP\"] = df_slim.apply(apply_take_profit, axis=1)\n",
    "df_slim[\"SL\"] = df_slim.apply(apply_stop_loss, axis=1)"
   ]
  },
  {
   "cell_type": "code",
   "execution_count": 85,
   "id": "fa1aef5e",
   "metadata": {},
   "outputs": [
    {
     "data": {
      "text/html": [
       "<div>\n",
       "<style scoped>\n",
       "    .dataframe tbody tr th:only-of-type {\n",
       "        vertical-align: middle;\n",
       "    }\n",
       "\n",
       "    .dataframe tbody tr th {\n",
       "        vertical-align: top;\n",
       "    }\n",
       "\n",
       "    .dataframe thead th {\n",
       "        text-align: right;\n",
       "    }\n",
       "</style>\n",
       "<table border=\"1\" class=\"dataframe\">\n",
       "  <thead>\n",
       "    <tr style=\"text-align: right;\">\n",
       "      <th></th>\n",
       "      <th>time</th>\n",
       "      <th>mid_o</th>\n",
       "      <th>mid_h</th>\n",
       "      <th>mid_l</th>\n",
       "      <th>mid_c</th>\n",
       "      <th>ask_c</th>\n",
       "      <th>bid_c</th>\n",
       "      <th>ENGULFING</th>\n",
       "      <th>direction</th>\n",
       "      <th>EMA_200</th>\n",
       "      <th>RSI_14</th>\n",
       "      <th>SIGNAL</th>\n",
       "      <th>TP</th>\n",
       "      <th>SL</th>\n",
       "    </tr>\n",
       "  </thead>\n",
       "  <tbody>\n",
       "    <tr>\n",
       "      <th>15</th>\n",
       "      <td>2016-01-19 22:00:00+00:00</td>\n",
       "      <td>1.09060</td>\n",
       "      <td>1.09143</td>\n",
       "      <td>1.09052</td>\n",
       "      <td>1.09140</td>\n",
       "      <td>1.09153</td>\n",
       "      <td>1.09127</td>\n",
       "      <td>True</td>\n",
       "      <td>1</td>\n",
       "      <td>1.088541</td>\n",
       "      <td>57.545307</td>\n",
       "      <td>1</td>\n",
       "      <td>1.092600</td>\n",
       "      <td>1.09060</td>\n",
       "    </tr>\n",
       "    <tr>\n",
       "      <th>17</th>\n",
       "      <td>2016-01-20 00:00:00+00:00</td>\n",
       "      <td>1.09112</td>\n",
       "      <td>1.09246</td>\n",
       "      <td>1.09100</td>\n",
       "      <td>1.09214</td>\n",
       "      <td>1.09223</td>\n",
       "      <td>1.09206</td>\n",
       "      <td>True</td>\n",
       "      <td>1</td>\n",
       "      <td>1.088610</td>\n",
       "      <td>59.970073</td>\n",
       "      <td>1</td>\n",
       "      <td>1.093670</td>\n",
       "      <td>1.09112</td>\n",
       "    </tr>\n",
       "    <tr>\n",
       "      <th>23</th>\n",
       "      <td>2016-01-20 06:00:00+00:00</td>\n",
       "      <td>1.09491</td>\n",
       "      <td>1.09635</td>\n",
       "      <td>1.09491</td>\n",
       "      <td>1.09546</td>\n",
       "      <td>1.09554</td>\n",
       "      <td>1.09538</td>\n",
       "      <td>True</td>\n",
       "      <td>1</td>\n",
       "      <td>1.088985</td>\n",
       "      <td>68.866726</td>\n",
       "      <td>1</td>\n",
       "      <td>1.096285</td>\n",
       "      <td>1.09491</td>\n",
       "    </tr>\n",
       "    <tr>\n",
       "      <th>25</th>\n",
       "      <td>2016-01-20 08:00:00+00:00</td>\n",
       "      <td>1.09398</td>\n",
       "      <td>1.09760</td>\n",
       "      <td>1.09397</td>\n",
       "      <td>1.09625</td>\n",
       "      <td>1.09631</td>\n",
       "      <td>1.09619</td>\n",
       "      <td>True</td>\n",
       "      <td>1</td>\n",
       "      <td>1.089121</td>\n",
       "      <td>67.087323</td>\n",
       "      <td>1</td>\n",
       "      <td>1.099655</td>\n",
       "      <td>1.09398</td>\n",
       "    </tr>\n",
       "    <tr>\n",
       "      <th>146</th>\n",
       "      <td>2016-01-27 09:00:00+00:00</td>\n",
       "      <td>1.08673</td>\n",
       "      <td>1.08764</td>\n",
       "      <td>1.08665</td>\n",
       "      <td>1.08726</td>\n",
       "      <td>1.08732</td>\n",
       "      <td>1.08719</td>\n",
       "      <td>True</td>\n",
       "      <td>1</td>\n",
       "      <td>1.085983</td>\n",
       "      <td>60.955020</td>\n",
       "      <td>1</td>\n",
       "      <td>1.088055</td>\n",
       "      <td>1.08673</td>\n",
       "    </tr>\n",
       "  </tbody>\n",
       "</table>\n",
       "</div>"
      ],
      "text/plain": [
       "                         time    mid_o    mid_h    mid_l    mid_c    ask_c  \\\n",
       "15  2016-01-19 22:00:00+00:00  1.09060  1.09143  1.09052  1.09140  1.09153   \n",
       "17  2016-01-20 00:00:00+00:00  1.09112  1.09246  1.09100  1.09214  1.09223   \n",
       "23  2016-01-20 06:00:00+00:00  1.09491  1.09635  1.09491  1.09546  1.09554   \n",
       "25  2016-01-20 08:00:00+00:00  1.09398  1.09760  1.09397  1.09625  1.09631   \n",
       "146 2016-01-27 09:00:00+00:00  1.08673  1.08764  1.08665  1.08726  1.08732   \n",
       "\n",
       "       bid_c  ENGULFING  direction   EMA_200     RSI_14  SIGNAL        TP  \\\n",
       "15   1.09127       True          1  1.088541  57.545307       1  1.092600   \n",
       "17   1.09206       True          1  1.088610  59.970073       1  1.093670   \n",
       "23   1.09538       True          1  1.088985  68.866726       1  1.096285   \n",
       "25   1.09619       True          1  1.089121  67.087323       1  1.099655   \n",
       "146  1.08719       True          1  1.085983  60.955020       1  1.088055   \n",
       "\n",
       "          SL  \n",
       "15   1.09060  \n",
       "17   1.09112  \n",
       "23   1.09491  \n",
       "25   1.09398  \n",
       "146  1.08673  "
      ]
     },
     "execution_count": 85,
     "metadata": {},
     "output_type": "execute_result"
    }
   ],
   "source": [
    "df_slim[df_slim.SIGNAL==BUY].head()"
   ]
  },
  {
   "cell_type": "code",
   "execution_count": 86,
   "id": "c8be66ff",
   "metadata": {},
   "outputs": [
    {
     "data": {
      "application/vnd.plotly.v1+json": {
       "config": {
        "plotlyServerURL": "https://plot.ly"
       },
       "data": [
        {
         "close": [
          1.08312,
          1.08324,
          1.08319,
          1.08417,
          1.08362,
          1.0843,
          1.08314,
          1.08182,
          1.08145,
          1.08186,
          1.0824,
          1.08134,
          1.08126,
          1.07971,
          1.07902,
          1.07967,
          1.07983,
          1.07932,
          1.07969,
          1.07964,
          1.08044,
          1.08104,
          1.08133,
          1.08111,
          1.08172,
          1.08068,
          1.08146,
          1.08272,
          1.08156,
          1.08152
         ],
         "decreasing": {
          "fillcolor": "#CC2E3C",
          "line": {
           "color": "#FF3A4C"
          }
         },
         "high": [
          1.08364,
          1.08428,
          1.08326,
          1.08488,
          1.0863,
          1.08454,
          1.08434,
          1.08342,
          1.08204,
          1.08254,
          1.08378,
          1.08329,
          1.08179,
          1.08148,
          1.07987,
          1.0798,
          1.08016,
          1.07974,
          1.07976,
          1.08018,
          1.08147,
          1.08138,
          1.0817,
          1.0816,
          1.08192,
          1.08186,
          1.08231,
          1.08356,
          1.08326,
          1.08242
         ],
         "increasing": {
          "fillcolor": "#24A06B",
          "line": {
           "color": "#2EC886"
          }
         },
         "line": {
          "width": 1
         },
         "low": [
          1.08276,
          1.08282,
          1.08133,
          1.08268,
          1.08346,
          1.08336,
          1.08245,
          1.08144,
          1.07944,
          1.08034,
          1.08044,
          1.08059,
          1.08069,
          1.0793,
          1.07892,
          1.07896,
          1.07938,
          1.07874,
          1.079,
          1.07901,
          1.07939,
          1.07991,
          1.08086,
          1.08097,
          1.08108,
          1.0806,
          1.08066,
          1.0814,
          1.0815,
          1.08136
         ],
         "opacity": 1,
         "open": [
          1.0834,
          1.08309,
          1.08322,
          1.08317,
          1.08416,
          1.08359,
          1.08434,
          1.08312,
          1.08185,
          1.08148,
          1.08183,
          1.08242,
          1.08135,
          1.08128,
          1.07974,
          1.07905,
          1.0797,
          1.0793,
          1.07928,
          1.0797,
          1.07962,
          1.08042,
          1.081,
          1.0813,
          1.08114,
          1.08174,
          1.08068,
          1.08148,
          1.08268,
          1.08158
         ],
         "type": "candlestick",
         "x": [
          "s16-01-22 05:00",
          "s16-01-22 06:00",
          "s16-01-22 07:00",
          "s16-01-22 08:00",
          "s16-01-22 09:00",
          "s16-01-22 10:00",
          "s16-01-22 11:00",
          "s16-01-22 12:00",
          "s16-01-22 13:00",
          "s16-01-22 14:00",
          "s16-01-22 15:00",
          "s16-01-22 16:00",
          "s16-01-22 17:00",
          "s16-01-22 18:00",
          "s16-01-22 19:00",
          "s16-01-22 20:00",
          "s16-01-22 21:00",
          "s16-01-24 22:00",
          "s16-01-24 23:00",
          "s16-01-25 00:00",
          "s16-01-25 01:00",
          "s16-01-25 02:00",
          "s16-01-25 03:00",
          "s16-01-25 04:00",
          "s16-01-25 05:00",
          "s16-01-25 06:00",
          "s16-01-25 07:00",
          "s16-01-25 08:00",
          "s16-01-25 09:00",
          "s16-01-25 10:00"
         ]
        },
        {
         "marker": {
          "color": "#0000FF",
          "size": 12
         },
         "mode": "markers",
         "type": "scatter",
         "x": [
          "s16-01-22 11:00",
          "s16-01-22 16:00",
          "s16-01-25 06:00"
         ],
         "y": [
          1.08314,
          1.08134,
          1.08068
         ]
        },
        {
         "marker": {
          "color": "#00FF00",
          "size": 12
         },
         "mode": "markers",
         "type": "scatter",
         "x": [
          "s16-01-22 11:00",
          "s16-01-22 16:00",
          "s16-01-25 06:00"
         ],
         "y": [
          1.08134,
          1.07972,
          1.0790900000000003
         ]
        },
        {
         "marker": {
          "color": "#FF0000",
          "size": 12
         },
         "mode": "markers",
         "type": "scatter",
         "x": [
          "s16-01-22 11:00",
          "s16-01-22 16:00",
          "s16-01-25 06:00"
         ],
         "y": [
          1.08434,
          1.08242,
          1.08174
         ]
        },
        {
         "line": {
          "shape": "spline",
          "width": 2
         },
         "name": "EMA_200",
         "type": "scatter",
         "x": [
          "s16-01-22 05:00",
          "s16-01-22 06:00",
          "s16-01-22 07:00",
          "s16-01-22 08:00",
          "s16-01-22 09:00",
          "s16-01-22 10:00",
          "s16-01-22 11:00",
          "s16-01-22 12:00",
          "s16-01-22 13:00",
          "s16-01-22 14:00",
          "s16-01-22 15:00",
          "s16-01-22 16:00",
          "s16-01-22 17:00",
          "s16-01-22 18:00",
          "s16-01-22 19:00",
          "s16-01-22 20:00",
          "s16-01-22 21:00",
          "s16-01-24 22:00",
          "s16-01-24 23:00",
          "s16-01-25 00:00",
          "s16-01-25 01:00",
          "s16-01-25 02:00",
          "s16-01-25 03:00",
          "s16-01-25 04:00",
          "s16-01-25 05:00",
          "s16-01-25 06:00",
          "s16-01-25 07:00",
          "s16-01-25 08:00",
          "s16-01-25 09:00",
          "s16-01-25 10:00"
         ],
         "xaxis": "x",
         "y": [
          1.0885761785131265,
          1.0885192976221345,
          1.0884625303390272,
          1.088416838684931,
          1.0883658143638912,
          1.088322595685197,
          1.0882675432853268,
          1.088199099926709,
          1.0881275030426383,
          1.0880610588395585,
          1.0880010828364783,
          1.0879305575291025,
          1.08785997689604,
          1.0877737969967178,
          1.0876812898768693,
          1.0875966815550562,
          1.0875147066524142,
          1.0874282663262493,
          1.087346689463417,
          1.0872654935325285,
          1.0871936237634436,
          1.0871288660374019,
          1.0870678765710615,
          1.0870052502380805,
          1.0869497253940463,
          1.0868838945863277,
          1.086826976104631,
          1.086783900820795,
          1.0867291403370707,
          1.0866745636411528
         ],
         "yaxis": "y"
        },
        {
         "line": {
          "shape": "spline",
          "width": 2
         },
         "name": "RSI_14",
         "type": "scatter",
         "x": [
          "s16-01-22 05:00",
          "s16-01-22 06:00",
          "s16-01-22 07:00",
          "s16-01-22 08:00",
          "s16-01-22 09:00",
          "s16-01-22 10:00",
          "s16-01-22 11:00",
          "s16-01-22 12:00",
          "s16-01-22 13:00",
          "s16-01-22 14:00",
          "s16-01-22 15:00",
          "s16-01-22 16:00",
          "s16-01-22 17:00",
          "s16-01-22 18:00",
          "s16-01-22 19:00",
          "s16-01-22 20:00",
          "s16-01-22 21:00",
          "s16-01-24 22:00",
          "s16-01-24 23:00",
          "s16-01-25 00:00",
          "s16-01-25 01:00",
          "s16-01-25 02:00",
          "s16-01-25 03:00",
          "s16-01-25 04:00",
          "s16-01-25 05:00",
          "s16-01-25 06:00",
          "s16-01-25 07:00",
          "s16-01-25 08:00",
          "s16-01-25 09:00",
          "s16-01-25 10:00"
         ],
         "xaxis": "x",
         "y": [
          38.85057771298176,
          39.35258927746316,
          39.208154689100986,
          43.57913070146873,
          41.76420595354664,
          44.82379296713283,
          40.87831557364518,
          36.89819107838745,
          35.844675895730944,
          37.95857523022005,
          40.72864703002017,
          37.21599088394417,
          36.95693088573117,
          32.26992855049778,
          30.420379008847675,
          34.24381249438545,
          35.18791421291614,
          33.5351268150839,
          35.88789812048053,
          35.70396626098072,
          40.921254920509305,
          44.555114336091265,
          46.27517322023161,
          45.13132275994379,
          48.9027890584527,
          43.42266486060382,
          48.118523812851215,
          54.66446273237091,
          48.58663267565161,
          48.386850147037315
         ],
         "yaxis": "y2"
        }
       ],
       "layout": {
        "font": {
         "color": "#e1e1e1",
         "size": 8
        },
        "height": 250,
        "margin": {
         "b": 10,
         "l": 10,
         "r": 10,
         "t": 10
        },
        "paper_bgcolor": "#2c303c",
        "plot_bgcolor": "#2c303c",
        "template": {
         "data": {
          "bar": [
           {
            "error_x": {
             "color": "#2a3f5f"
            },
            "error_y": {
             "color": "#2a3f5f"
            },
            "marker": {
             "line": {
              "color": "#E5ECF6",
              "width": 0.5
             },
             "pattern": {
              "fillmode": "overlay",
              "size": 10,
              "solidity": 0.2
             }
            },
            "type": "bar"
           }
          ],
          "barpolar": [
           {
            "marker": {
             "line": {
              "color": "#E5ECF6",
              "width": 0.5
             },
             "pattern": {
              "fillmode": "overlay",
              "size": 10,
              "solidity": 0.2
             }
            },
            "type": "barpolar"
           }
          ],
          "carpet": [
           {
            "aaxis": {
             "endlinecolor": "#2a3f5f",
             "gridcolor": "white",
             "linecolor": "white",
             "minorgridcolor": "white",
             "startlinecolor": "#2a3f5f"
            },
            "baxis": {
             "endlinecolor": "#2a3f5f",
             "gridcolor": "white",
             "linecolor": "white",
             "minorgridcolor": "white",
             "startlinecolor": "#2a3f5f"
            },
            "type": "carpet"
           }
          ],
          "choropleth": [
           {
            "colorbar": {
             "outlinewidth": 0,
             "ticks": ""
            },
            "type": "choropleth"
           }
          ],
          "contour": [
           {
            "colorbar": {
             "outlinewidth": 0,
             "ticks": ""
            },
            "colorscale": [
             [
              0,
              "#0d0887"
             ],
             [
              0.1111111111111111,
              "#46039f"
             ],
             [
              0.2222222222222222,
              "#7201a8"
             ],
             [
              0.3333333333333333,
              "#9c179e"
             ],
             [
              0.4444444444444444,
              "#bd3786"
             ],
             [
              0.5555555555555556,
              "#d8576b"
             ],
             [
              0.6666666666666666,
              "#ed7953"
             ],
             [
              0.7777777777777778,
              "#fb9f3a"
             ],
             [
              0.8888888888888888,
              "#fdca26"
             ],
             [
              1,
              "#f0f921"
             ]
            ],
            "type": "contour"
           }
          ],
          "contourcarpet": [
           {
            "colorbar": {
             "outlinewidth": 0,
             "ticks": ""
            },
            "type": "contourcarpet"
           }
          ],
          "heatmap": [
           {
            "colorbar": {
             "outlinewidth": 0,
             "ticks": ""
            },
            "colorscale": [
             [
              0,
              "#0d0887"
             ],
             [
              0.1111111111111111,
              "#46039f"
             ],
             [
              0.2222222222222222,
              "#7201a8"
             ],
             [
              0.3333333333333333,
              "#9c179e"
             ],
             [
              0.4444444444444444,
              "#bd3786"
             ],
             [
              0.5555555555555556,
              "#d8576b"
             ],
             [
              0.6666666666666666,
              "#ed7953"
             ],
             [
              0.7777777777777778,
              "#fb9f3a"
             ],
             [
              0.8888888888888888,
              "#fdca26"
             ],
             [
              1,
              "#f0f921"
             ]
            ],
            "type": "heatmap"
           }
          ],
          "heatmapgl": [
           {
            "colorbar": {
             "outlinewidth": 0,
             "ticks": ""
            },
            "colorscale": [
             [
              0,
              "#0d0887"
             ],
             [
              0.1111111111111111,
              "#46039f"
             ],
             [
              0.2222222222222222,
              "#7201a8"
             ],
             [
              0.3333333333333333,
              "#9c179e"
             ],
             [
              0.4444444444444444,
              "#bd3786"
             ],
             [
              0.5555555555555556,
              "#d8576b"
             ],
             [
              0.6666666666666666,
              "#ed7953"
             ],
             [
              0.7777777777777778,
              "#fb9f3a"
             ],
             [
              0.8888888888888888,
              "#fdca26"
             ],
             [
              1,
              "#f0f921"
             ]
            ],
            "type": "heatmapgl"
           }
          ],
          "histogram": [
           {
            "marker": {
             "pattern": {
              "fillmode": "overlay",
              "size": 10,
              "solidity": 0.2
             }
            },
            "type": "histogram"
           }
          ],
          "histogram2d": [
           {
            "colorbar": {
             "outlinewidth": 0,
             "ticks": ""
            },
            "colorscale": [
             [
              0,
              "#0d0887"
             ],
             [
              0.1111111111111111,
              "#46039f"
             ],
             [
              0.2222222222222222,
              "#7201a8"
             ],
             [
              0.3333333333333333,
              "#9c179e"
             ],
             [
              0.4444444444444444,
              "#bd3786"
             ],
             [
              0.5555555555555556,
              "#d8576b"
             ],
             [
              0.6666666666666666,
              "#ed7953"
             ],
             [
              0.7777777777777778,
              "#fb9f3a"
             ],
             [
              0.8888888888888888,
              "#fdca26"
             ],
             [
              1,
              "#f0f921"
             ]
            ],
            "type": "histogram2d"
           }
          ],
          "histogram2dcontour": [
           {
            "colorbar": {
             "outlinewidth": 0,
             "ticks": ""
            },
            "colorscale": [
             [
              0,
              "#0d0887"
             ],
             [
              0.1111111111111111,
              "#46039f"
             ],
             [
              0.2222222222222222,
              "#7201a8"
             ],
             [
              0.3333333333333333,
              "#9c179e"
             ],
             [
              0.4444444444444444,
              "#bd3786"
             ],
             [
              0.5555555555555556,
              "#d8576b"
             ],
             [
              0.6666666666666666,
              "#ed7953"
             ],
             [
              0.7777777777777778,
              "#fb9f3a"
             ],
             [
              0.8888888888888888,
              "#fdca26"
             ],
             [
              1,
              "#f0f921"
             ]
            ],
            "type": "histogram2dcontour"
           }
          ],
          "mesh3d": [
           {
            "colorbar": {
             "outlinewidth": 0,
             "ticks": ""
            },
            "type": "mesh3d"
           }
          ],
          "parcoords": [
           {
            "line": {
             "colorbar": {
              "outlinewidth": 0,
              "ticks": ""
             }
            },
            "type": "parcoords"
           }
          ],
          "pie": [
           {
            "automargin": true,
            "type": "pie"
           }
          ],
          "scatter": [
           {
            "fillpattern": {
             "fillmode": "overlay",
             "size": 10,
             "solidity": 0.2
            },
            "type": "scatter"
           }
          ],
          "scatter3d": [
           {
            "line": {
             "colorbar": {
              "outlinewidth": 0,
              "ticks": ""
             }
            },
            "marker": {
             "colorbar": {
              "outlinewidth": 0,
              "ticks": ""
             }
            },
            "type": "scatter3d"
           }
          ],
          "scattercarpet": [
           {
            "marker": {
             "colorbar": {
              "outlinewidth": 0,
              "ticks": ""
             }
            },
            "type": "scattercarpet"
           }
          ],
          "scattergeo": [
           {
            "marker": {
             "colorbar": {
              "outlinewidth": 0,
              "ticks": ""
             }
            },
            "type": "scattergeo"
           }
          ],
          "scattergl": [
           {
            "marker": {
             "colorbar": {
              "outlinewidth": 0,
              "ticks": ""
             }
            },
            "type": "scattergl"
           }
          ],
          "scattermapbox": [
           {
            "marker": {
             "colorbar": {
              "outlinewidth": 0,
              "ticks": ""
             }
            },
            "type": "scattermapbox"
           }
          ],
          "scatterpolar": [
           {
            "marker": {
             "colorbar": {
              "outlinewidth": 0,
              "ticks": ""
             }
            },
            "type": "scatterpolar"
           }
          ],
          "scatterpolargl": [
           {
            "marker": {
             "colorbar": {
              "outlinewidth": 0,
              "ticks": ""
             }
            },
            "type": "scatterpolargl"
           }
          ],
          "scatterternary": [
           {
            "marker": {
             "colorbar": {
              "outlinewidth": 0,
              "ticks": ""
             }
            },
            "type": "scatterternary"
           }
          ],
          "surface": [
           {
            "colorbar": {
             "outlinewidth": 0,
             "ticks": ""
            },
            "colorscale": [
             [
              0,
              "#0d0887"
             ],
             [
              0.1111111111111111,
              "#46039f"
             ],
             [
              0.2222222222222222,
              "#7201a8"
             ],
             [
              0.3333333333333333,
              "#9c179e"
             ],
             [
              0.4444444444444444,
              "#bd3786"
             ],
             [
              0.5555555555555556,
              "#d8576b"
             ],
             [
              0.6666666666666666,
              "#ed7953"
             ],
             [
              0.7777777777777778,
              "#fb9f3a"
             ],
             [
              0.8888888888888888,
              "#fdca26"
             ],
             [
              1,
              "#f0f921"
             ]
            ],
            "type": "surface"
           }
          ],
          "table": [
           {
            "cells": {
             "fill": {
              "color": "#EBF0F8"
             },
             "line": {
              "color": "white"
             }
            },
            "header": {
             "fill": {
              "color": "#C8D4E3"
             },
             "line": {
              "color": "white"
             }
            },
            "type": "table"
           }
          ]
         },
         "layout": {
          "annotationdefaults": {
           "arrowcolor": "#2a3f5f",
           "arrowhead": 0,
           "arrowwidth": 1
          },
          "autotypenumbers": "strict",
          "coloraxis": {
           "colorbar": {
            "outlinewidth": 0,
            "ticks": ""
           }
          },
          "colorscale": {
           "diverging": [
            [
             0,
             "#8e0152"
            ],
            [
             0.1,
             "#c51b7d"
            ],
            [
             0.2,
             "#de77ae"
            ],
            [
             0.3,
             "#f1b6da"
            ],
            [
             0.4,
             "#fde0ef"
            ],
            [
             0.5,
             "#f7f7f7"
            ],
            [
             0.6,
             "#e6f5d0"
            ],
            [
             0.7,
             "#b8e186"
            ],
            [
             0.8,
             "#7fbc41"
            ],
            [
             0.9,
             "#4d9221"
            ],
            [
             1,
             "#276419"
            ]
           ],
           "sequential": [
            [
             0,
             "#0d0887"
            ],
            [
             0.1111111111111111,
             "#46039f"
            ],
            [
             0.2222222222222222,
             "#7201a8"
            ],
            [
             0.3333333333333333,
             "#9c179e"
            ],
            [
             0.4444444444444444,
             "#bd3786"
            ],
            [
             0.5555555555555556,
             "#d8576b"
            ],
            [
             0.6666666666666666,
             "#ed7953"
            ],
            [
             0.7777777777777778,
             "#fb9f3a"
            ],
            [
             0.8888888888888888,
             "#fdca26"
            ],
            [
             1,
             "#f0f921"
            ]
           ],
           "sequentialminus": [
            [
             0,
             "#0d0887"
            ],
            [
             0.1111111111111111,
             "#46039f"
            ],
            [
             0.2222222222222222,
             "#7201a8"
            ],
            [
             0.3333333333333333,
             "#9c179e"
            ],
            [
             0.4444444444444444,
             "#bd3786"
            ],
            [
             0.5555555555555556,
             "#d8576b"
            ],
            [
             0.6666666666666666,
             "#ed7953"
            ],
            [
             0.7777777777777778,
             "#fb9f3a"
            ],
            [
             0.8888888888888888,
             "#fdca26"
            ],
            [
             1,
             "#f0f921"
            ]
           ]
          },
          "colorway": [
           "#636efa",
           "#EF553B",
           "#00cc96",
           "#ab63fa",
           "#FFA15A",
           "#19d3f3",
           "#FF6692",
           "#B6E880",
           "#FF97FF",
           "#FECB52"
          ],
          "font": {
           "color": "#2a3f5f"
          },
          "geo": {
           "bgcolor": "white",
           "lakecolor": "white",
           "landcolor": "#E5ECF6",
           "showlakes": true,
           "showland": true,
           "subunitcolor": "white"
          },
          "hoverlabel": {
           "align": "left"
          },
          "hovermode": "closest",
          "mapbox": {
           "style": "light"
          },
          "paper_bgcolor": "white",
          "plot_bgcolor": "#E5ECF6",
          "polar": {
           "angularaxis": {
            "gridcolor": "white",
            "linecolor": "white",
            "ticks": ""
           },
           "bgcolor": "#E5ECF6",
           "radialaxis": {
            "gridcolor": "white",
            "linecolor": "white",
            "ticks": ""
           }
          },
          "scene": {
           "xaxis": {
            "backgroundcolor": "#E5ECF6",
            "gridcolor": "white",
            "gridwidth": 2,
            "linecolor": "white",
            "showbackground": true,
            "ticks": "",
            "zerolinecolor": "white"
           },
           "yaxis": {
            "backgroundcolor": "#E5ECF6",
            "gridcolor": "white",
            "gridwidth": 2,
            "linecolor": "white",
            "showbackground": true,
            "ticks": "",
            "zerolinecolor": "white"
           },
           "zaxis": {
            "backgroundcolor": "#E5ECF6",
            "gridcolor": "white",
            "gridwidth": 2,
            "linecolor": "white",
            "showbackground": true,
            "ticks": "",
            "zerolinecolor": "white"
           }
          },
          "shapedefaults": {
           "line": {
            "color": "#2a3f5f"
           }
          },
          "ternary": {
           "aaxis": {
            "gridcolor": "white",
            "linecolor": "white",
            "ticks": ""
           },
           "baxis": {
            "gridcolor": "white",
            "linecolor": "white",
            "ticks": ""
           },
           "bgcolor": "#E5ECF6",
           "caxis": {
            "gridcolor": "white",
            "linecolor": "white",
            "ticks": ""
           }
          },
          "title": {
           "x": 0.05
          },
          "xaxis": {
           "automargin": true,
           "gridcolor": "white",
           "linecolor": "white",
           "ticks": "",
           "title": {
            "standoff": 15
           },
           "zerolinecolor": "white",
           "zerolinewidth": 2
          },
          "yaxis": {
           "automargin": true,
           "gridcolor": "white",
           "linecolor": "white",
           "ticks": "",
           "title": {
            "standoff": 15
           },
           "zerolinecolor": "white",
           "zerolinewidth": 2
          }
         }
        },
        "width": 900,
        "xaxis": {
         "anchor": "y",
         "autorange": true,
         "domain": [
          0,
          0.94
         ],
         "gridcolor": "#1f292f",
         "nticks": 5,
         "range": [
          -0.5,
          29.5
         ],
         "rangeslider": {
          "visible": false,
          "yaxis": {},
          "yaxis2": {}
         },
         "type": "category"
        },
        "yaxis": {
         "anchor": "x",
         "autorange": true,
         "domain": [
          0,
          1
         ],
         "gridcolor": "#1f292f",
         "range": [
          1.078166898768106,
          1.0891240353418117
         ],
         "type": "linear"
        },
        "yaxis2": {
         "anchor": "x",
         "autorange": true,
         "gridcolor": "#1f292f",
         "overlaying": "y",
         "range": [
          29.07348546865194,
          56.011356272566644
         ],
         "side": "right",
         "type": "linear"
        }
       }
      },
      "image/png": "[encoded data removed]",
      "text/html": [
       "<div>                            <div id=\"d6a6b615-9054-4bcd-b0ec-0c96f16699a9\" class=\"plotly-graph-div\" style=\"height:250px; width:900px;\"></div>            <script type=\"text/javascript\">                require([\"plotly\"], function(Plotly) {                    window.PLOTLYENV=window.PLOTLYENV || {};                                    if (document.getElementById(\"d6a6b615-9054-4bcd-b0ec-0c96f16699a9\")) {                    Plotly.newPlot(                        \"d6a6b615-9054-4bcd-b0ec-0c96f16699a9\",                        [{\"close\":[1.08312,1.08324,1.08319,1.08417,1.08362,1.0843,1.08314,1.08182,1.08145,1.08186,1.0824,1.08134,1.08126,1.07971,1.07902,1.07967,1.07983,1.07932,1.07969,1.07964,1.08044,1.08104,1.08133,1.08111,1.08172,1.08068,1.08146,1.08272,1.08156,1.08152],\"decreasing\":{\"fillcolor\":\"#CC2E3C\",\"line\":{\"color\":\"#FF3A4C\"}},\"high\":[1.08364,1.08428,1.08326,1.08488,1.0863,1.08454,1.08434,1.08342,1.08204,1.08254,1.08378,1.08329,1.08179,1.08148,1.07987,1.0798,1.08016,1.07974,1.07976,1.08018,1.08147,1.08138,1.0817,1.0816,1.08192,1.08186,1.08231,1.08356,1.08326,1.08242],\"increasing\":{\"fillcolor\":\"#24A06B\",\"line\":{\"color\":\"#2EC886\"}},\"line\":{\"width\":1},\"low\":[1.08276,1.08282,1.08133,1.08268,1.08346,1.08336,1.08245,1.08144,1.07944,1.08034,1.08044,1.08059,1.08069,1.0793,1.07892,1.07896,1.07938,1.07874,1.079,1.07901,1.07939,1.07991,1.08086,1.08097,1.08108,1.0806,1.08066,1.0814,1.0815,1.08136],\"opacity\":1,\"open\":[1.0834,1.08309,1.08322,1.08317,1.08416,1.08359,1.08434,1.08312,1.08185,1.08148,1.08183,1.08242,1.08135,1.08128,1.07974,1.07905,1.0797,1.0793,1.07928,1.0797,1.07962,1.08042,1.081,1.0813,1.08114,1.08174,1.08068,1.08148,1.08268,1.08158],\"x\":[\"s16-01-22 05:00\",\"s16-01-22 06:00\",\"s16-01-22 07:00\",\"s16-01-22 08:00\",\"s16-01-22 09:00\",\"s16-01-22 10:00\",\"s16-01-22 11:00\",\"s16-01-22 12:00\",\"s16-01-22 13:00\",\"s16-01-22 14:00\",\"s16-01-22 15:00\",\"s16-01-22 16:00\",\"s16-01-22 17:00\",\"s16-01-22 18:00\",\"s16-01-22 19:00\",\"s16-01-22 20:00\",\"s16-01-22 21:00\",\"s16-01-24 22:00\",\"s16-01-24 23:00\",\"s16-01-25 00:00\",\"s16-01-25 01:00\",\"s16-01-25 02:00\",\"s16-01-25 03:00\",\"s16-01-25 04:00\",\"s16-01-25 05:00\",\"s16-01-25 06:00\",\"s16-01-25 07:00\",\"s16-01-25 08:00\",\"s16-01-25 09:00\",\"s16-01-25 10:00\"],\"type\":\"candlestick\"},{\"marker\":{\"color\":\"#0000FF\",\"size\":12},\"mode\":\"markers\",\"x\":[\"s16-01-22 11:00\",\"s16-01-22 16:00\",\"s16-01-25 06:00\"],\"y\":[1.08314,1.08134,1.08068],\"type\":\"scatter\"},{\"marker\":{\"color\":\"#00FF00\",\"size\":12},\"mode\":\"markers\",\"x\":[\"s16-01-22 11:00\",\"s16-01-22 16:00\",\"s16-01-25 06:00\"],\"y\":[1.08134,1.07972,1.0790900000000003],\"type\":\"scatter\"},{\"marker\":{\"color\":\"#FF0000\",\"size\":12},\"mode\":\"markers\",\"x\":[\"s16-01-22 11:00\",\"s16-01-22 16:00\",\"s16-01-25 06:00\"],\"y\":[1.08434,1.08242,1.08174],\"type\":\"scatter\"},{\"line\":{\"shape\":\"spline\",\"width\":2},\"name\":\"EMA_200\",\"x\":[\"s16-01-22 05:00\",\"s16-01-22 06:00\",\"s16-01-22 07:00\",\"s16-01-22 08:00\",\"s16-01-22 09:00\",\"s16-01-22 10:00\",\"s16-01-22 11:00\",\"s16-01-22 12:00\",\"s16-01-22 13:00\",\"s16-01-22 14:00\",\"s16-01-22 15:00\",\"s16-01-22 16:00\",\"s16-01-22 17:00\",\"s16-01-22 18:00\",\"s16-01-22 19:00\",\"s16-01-22 20:00\",\"s16-01-22 21:00\",\"s16-01-24 22:00\",\"s16-01-24 23:00\",\"s16-01-25 00:00\",\"s16-01-25 01:00\",\"s16-01-25 02:00\",\"s16-01-25 03:00\",\"s16-01-25 04:00\",\"s16-01-25 05:00\",\"s16-01-25 06:00\",\"s16-01-25 07:00\",\"s16-01-25 08:00\",\"s16-01-25 09:00\",\"s16-01-25 10:00\"],\"y\":[1.0885761785131265,1.0885192976221345,1.0884625303390272,1.088416838684931,1.0883658143638912,1.088322595685197,1.0882675432853268,1.088199099926709,1.0881275030426383,1.0880610588395585,1.0880010828364783,1.0879305575291025,1.08785997689604,1.0877737969967178,1.0876812898768693,1.0875966815550562,1.0875147066524142,1.0874282663262493,1.087346689463417,1.0872654935325285,1.0871936237634436,1.0871288660374019,1.0870678765710615,1.0870052502380805,1.0869497253940463,1.0868838945863277,1.086826976104631,1.086783900820795,1.0867291403370707,1.0866745636411528],\"type\":\"scatter\",\"xaxis\":\"x\",\"yaxis\":\"y\"},{\"line\":{\"shape\":\"spline\",\"width\":2},\"name\":\"RSI_14\",\"x\":[\"s16-01-22 05:00\",\"s16-01-22 06:00\",\"s16-01-22 07:00\",\"s16-01-22 08:00\",\"s16-01-22 09:00\",\"s16-01-22 10:00\",\"s16-01-22 11:00\",\"s16-01-22 12:00\",\"s16-01-22 13:00\",\"s16-01-22 14:00\",\"s16-01-22 15:00\",\"s16-01-22 16:00\",\"s16-01-22 17:00\",\"s16-01-22 18:00\",\"s16-01-22 19:00\",\"s16-01-22 20:00\",\"s16-01-22 21:00\",\"s16-01-24 22:00\",\"s16-01-24 23:00\",\"s16-01-25 00:00\",\"s16-01-25 01:00\",\"s16-01-25 02:00\",\"s16-01-25 03:00\",\"s16-01-25 04:00\",\"s16-01-25 05:00\",\"s16-01-25 06:00\",\"s16-01-25 07:00\",\"s16-01-25 08:00\",\"s16-01-25 09:00\",\"s16-01-25 10:00\"],\"y\":[38.85057771298176,39.35258927746316,39.208154689100986,43.57913070146873,41.76420595354664,44.82379296713283,40.87831557364518,36.89819107838745,35.844675895730944,37.95857523022005,40.72864703002017,37.21599088394417,36.95693088573117,32.26992855049778,30.420379008847675,34.24381249438545,35.18791421291614,33.5351268150839,35.88789812048053,35.70396626098072,40.921254920509305,44.555114336091265,46.27517322023161,45.13132275994379,48.9027890584527,43.42266486060382,48.118523812851215,54.66446273237091,48.58663267565161,48.386850147037315],\"type\":\"scatter\",\"xaxis\":\"x\",\"yaxis\":\"y2\"}],                        {\"template\":{\"data\":{\"histogram2dcontour\":[{\"type\":\"histogram2dcontour\",\"colorbar\":{\"outlinewidth\":0,\"ticks\":\"\"},\"colorscale\":[[0.0,\"#0d0887\"],[0.1111111111111111,\"#46039f\"],[0.2222222222222222,\"#7201a8\"],[0.3333333333333333,\"#9c179e\"],[0.4444444444444444,\"#bd3786\"],[0.5555555555555556,\"#d8576b\"],[0.6666666666666666,\"#ed7953\"],[0.7777777777777778,\"#fb9f3a\"],[0.8888888888888888,\"#fdca26\"],[1.0,\"#f0f921\"]]}],\"choropleth\":[{\"type\":\"choropleth\",\"colorbar\":{\"outlinewidth\":0,\"ticks\":\"\"}}],\"histogram2d\":[{\"type\":\"histogram2d\",\"colorbar\":{\"outlinewidth\":0,\"ticks\":\"\"},\"colorscale\":[[0.0,\"#0d0887\"],[0.1111111111111111,\"#46039f\"],[0.2222222222222222,\"#7201a8\"],[0.3333333333333333,\"#9c179e\"],[0.4444444444444444,\"#bd3786\"],[0.5555555555555556,\"#d8576b\"],[0.6666666666666666,\"#ed7953\"],[0.7777777777777778,\"#fb9f3a\"],[0.8888888888888888,\"#fdca26\"],[1.0,\"#f0f921\"]]}],\"heatmap\":[{\"type\":\"heatmap\",\"colorbar\":{\"outlinewidth\":0,\"ticks\":\"\"},\"colorscale\":[[0.0,\"#0d0887\"],[0.1111111111111111,\"#46039f\"],[0.2222222222222222,\"#7201a8\"],[0.3333333333333333,\"#9c179e\"],[0.4444444444444444,\"#bd3786\"],[0.5555555555555556,\"#d8576b\"],[0.6666666666666666,\"#ed7953\"],[0.7777777777777778,\"#fb9f3a\"],[0.8888888888888888,\"#fdca26\"],[1.0,\"#f0f921\"]]}],\"heatmapgl\":[{\"type\":\"heatmapgl\",\"colorbar\":{\"outlinewidth\":0,\"ticks\":\"\"},\"colorscale\":[[0.0,\"#0d0887\"],[0.1111111111111111,\"#46039f\"],[0.2222222222222222,\"#7201a8\"],[0.3333333333333333,\"#9c179e\"],[0.4444444444444444,\"#bd3786\"],[0.5555555555555556,\"#d8576b\"],[0.6666666666666666,\"#ed7953\"],[0.7777777777777778,\"#fb9f3a\"],[0.8888888888888888,\"#fdca26\"],[1.0,\"#f0f921\"]]}],\"contourcarpet\":[{\"type\":\"contourcarpet\",\"colorbar\":{\"outlinewidth\":0,\"ticks\":\"\"}}],\"contour\":[{\"type\":\"contour\",\"colorbar\":{\"outlinewidth\":0,\"ticks\":\"\"},\"colorscale\":[[0.0,\"#0d0887\"],[0.1111111111111111,\"#46039f\"],[0.2222222222222222,\"#7201a8\"],[0.3333333333333333,\"#9c179e\"],[0.4444444444444444,\"#bd3786\"],[0.5555555555555556,\"#d8576b\"],[0.6666666666666666,\"#ed7953\"],[0.7777777777777778,\"#fb9f3a\"],[0.8888888888888888,\"#fdca26\"],[1.0,\"#f0f921\"]]}],\"surface\":[{\"type\":\"surface\",\"colorbar\":{\"outlinewidth\":0,\"ticks\":\"\"},\"colorscale\":[[0.0,\"#0d0887\"],[0.1111111111111111,\"#46039f\"],[0.2222222222222222,\"#7201a8\"],[0.3333333333333333,\"#9c179e\"],[0.4444444444444444,\"#bd3786\"],[0.5555555555555556,\"#d8576b\"],[0.6666666666666666,\"#ed7953\"],[0.7777777777777778,\"#fb9f3a\"],[0.8888888888888888,\"#fdca26\"],[1.0,\"#f0f921\"]]}],\"mesh3d\":[{\"type\":\"mesh3d\",\"colorbar\":{\"outlinewidth\":0,\"ticks\":\"\"}}],\"scatter\":[{\"fillpattern\":{\"fillmode\":\"overlay\",\"size\":10,\"solidity\":0.2},\"type\":\"scatter\"}],\"parcoords\":[{\"type\":\"parcoords\",\"line\":{\"colorbar\":{\"outlinewidth\":0,\"ticks\":\"\"}}}],\"scatterpolargl\":[{\"type\":\"scatterpolargl\",\"marker\":{\"colorbar\":{\"outlinewidth\":0,\"ticks\":\"\"}}}],\"bar\":[{\"error_x\":{\"color\":\"#2a3f5f\"},\"error_y\":{\"color\":\"#2a3f5f\"},\"marker\":{\"line\":{\"color\":\"#E5ECF6\",\"width\":0.5},\"pattern\":{\"fillmode\":\"overlay\",\"size\":10,\"solidity\":0.2}},\"type\":\"bar\"}],\"scattergeo\":[{\"type\":\"scattergeo\",\"marker\":{\"colorbar\":{\"outlinewidth\":0,\"ticks\":\"\"}}}],\"scatterpolar\":[{\"type\":\"scatterpolar\",\"marker\":{\"colorbar\":{\"outlinewidth\":0,\"ticks\":\"\"}}}],\"histogram\":[{\"marker\":{\"pattern\":{\"fillmode\":\"overlay\",\"size\":10,\"solidity\":0.2}},\"type\":\"histogram\"}],\"scattergl\":[{\"type\":\"scattergl\",\"marker\":{\"colorbar\":{\"outlinewidth\":0,\"ticks\":\"\"}}}],\"scatter3d\":[{\"type\":\"scatter3d\",\"line\":{\"colorbar\":{\"outlinewidth\":0,\"ticks\":\"\"}},\"marker\":{\"colorbar\":{\"outlinewidth\":0,\"ticks\":\"\"}}}],\"scattermapbox\":[{\"type\":\"scattermapbox\",\"marker\":{\"colorbar\":{\"outlinewidth\":0,\"ticks\":\"\"}}}],\"scatterternary\":[{\"type\":\"scatterternary\",\"marker\":{\"colorbar\":{\"outlinewidth\":0,\"ticks\":\"\"}}}],\"scattercarpet\":[{\"type\":\"scattercarpet\",\"marker\":{\"colorbar\":{\"outlinewidth\":0,\"ticks\":\"\"}}}],\"carpet\":[{\"aaxis\":{\"endlinecolor\":\"#2a3f5f\",\"gridcolor\":\"white\",\"linecolor\":\"white\",\"minorgridcolor\":\"white\",\"startlinecolor\":\"#2a3f5f\"},\"baxis\":{\"endlinecolor\":\"#2a3f5f\",\"gridcolor\":\"white\",\"linecolor\":\"white\",\"minorgridcolor\":\"white\",\"startlinecolor\":\"#2a3f5f\"},\"type\":\"carpet\"}],\"table\":[{\"cells\":{\"fill\":{\"color\":\"#EBF0F8\"},\"line\":{\"color\":\"white\"}},\"header\":{\"fill\":{\"color\":\"#C8D4E3\"},\"line\":{\"color\":\"white\"}},\"type\":\"table\"}],\"barpolar\":[{\"marker\":{\"line\":{\"color\":\"#E5ECF6\",\"width\":0.5},\"pattern\":{\"fillmode\":\"overlay\",\"size\":10,\"solidity\":0.2}},\"type\":\"barpolar\"}],\"pie\":[{\"automargin\":true,\"type\":\"pie\"}]},\"layout\":{\"autotypenumbers\":\"strict\",\"colorway\":[\"#636efa\",\"#EF553B\",\"#00cc96\",\"#ab63fa\",\"#FFA15A\",\"#19d3f3\",\"#FF6692\",\"#B6E880\",\"#FF97FF\",\"#FECB52\"],\"font\":{\"color\":\"#2a3f5f\"},\"hovermode\":\"closest\",\"hoverlabel\":{\"align\":\"left\"},\"paper_bgcolor\":\"white\",\"plot_bgcolor\":\"#E5ECF6\",\"polar\":{\"bgcolor\":\"#E5ECF6\",\"angularaxis\":{\"gridcolor\":\"white\",\"linecolor\":\"white\",\"ticks\":\"\"},\"radialaxis\":{\"gridcolor\":\"white\",\"linecolor\":\"white\",\"ticks\":\"\"}},\"ternary\":{\"bgcolor\":\"#E5ECF6\",\"aaxis\":{\"gridcolor\":\"white\",\"linecolor\":\"white\",\"ticks\":\"\"},\"baxis\":{\"gridcolor\":\"white\",\"linecolor\":\"white\",\"ticks\":\"\"},\"caxis\":{\"gridcolor\":\"white\",\"linecolor\":\"white\",\"ticks\":\"\"}},\"coloraxis\":{\"colorbar\":{\"outlinewidth\":0,\"ticks\":\"\"}},\"colorscale\":{\"sequential\":[[0.0,\"#0d0887\"],[0.1111111111111111,\"#46039f\"],[0.2222222222222222,\"#7201a8\"],[0.3333333333333333,\"#9c179e\"],[0.4444444444444444,\"#bd3786\"],[0.5555555555555556,\"#d8576b\"],[0.6666666666666666,\"#ed7953\"],[0.7777777777777778,\"#fb9f3a\"],[0.8888888888888888,\"#fdca26\"],[1.0,\"#f0f921\"]],\"sequentialminus\":[[0.0,\"#0d0887\"],[0.1111111111111111,\"#46039f\"],[0.2222222222222222,\"#7201a8\"],[0.3333333333333333,\"#9c179e\"],[0.4444444444444444,\"#bd3786\"],[0.5555555555555556,\"#d8576b\"],[0.6666666666666666,\"#ed7953\"],[0.7777777777777778,\"#fb9f3a\"],[0.8888888888888888,\"#fdca26\"],[1.0,\"#f0f921\"]],\"diverging\":[[0,\"#8e0152\"],[0.1,\"#c51b7d\"],[0.2,\"#de77ae\"],[0.3,\"#f1b6da\"],[0.4,\"#fde0ef\"],[0.5,\"#f7f7f7\"],[0.6,\"#e6f5d0\"],[0.7,\"#b8e186\"],[0.8,\"#7fbc41\"],[0.9,\"#4d9221\"],[1,\"#276419\"]]},\"xaxis\":{\"gridcolor\":\"white\",\"linecolor\":\"white\",\"ticks\":\"\",\"title\":{\"standoff\":15},\"zerolinecolor\":\"white\",\"automargin\":true,\"zerolinewidth\":2},\"yaxis\":{\"gridcolor\":\"white\",\"linecolor\":\"white\",\"ticks\":\"\",\"title\":{\"standoff\":15},\"zerolinecolor\":\"white\",\"automargin\":true,\"zerolinewidth\":2},\"scene\":{\"xaxis\":{\"backgroundcolor\":\"#E5ECF6\",\"gridcolor\":\"white\",\"linecolor\":\"white\",\"showbackground\":true,\"ticks\":\"\",\"zerolinecolor\":\"white\",\"gridwidth\":2},\"yaxis\":{\"backgroundcolor\":\"#E5ECF6\",\"gridcolor\":\"white\",\"linecolor\":\"white\",\"showbackground\":true,\"ticks\":\"\",\"zerolinecolor\":\"white\",\"gridwidth\":2},\"zaxis\":{\"backgroundcolor\":\"#E5ECF6\",\"gridcolor\":\"white\",\"linecolor\":\"white\",\"showbackground\":true,\"ticks\":\"\",\"zerolinecolor\":\"white\",\"gridwidth\":2}},\"shapedefaults\":{\"line\":{\"color\":\"#2a3f5f\"}},\"annotationdefaults\":{\"arrowcolor\":\"#2a3f5f\",\"arrowhead\":0,\"arrowwidth\":1},\"geo\":{\"bgcolor\":\"white\",\"landcolor\":\"#E5ECF6\",\"subunitcolor\":\"white\",\"showland\":true,\"showlakes\":true,\"lakecolor\":\"white\"},\"title\":{\"x\":0.05},\"mapbox\":{\"style\":\"light\"}}},\"xaxis\":{\"anchor\":\"y\",\"domain\":[0.0,0.94],\"rangeslider\":{\"visible\":false},\"gridcolor\":\"#1f292f\",\"nticks\":5},\"yaxis\":{\"anchor\":\"x\",\"domain\":[0.0,1.0],\"gridcolor\":\"#1f292f\"},\"yaxis2\":{\"anchor\":\"x\",\"overlaying\":\"y\",\"side\":\"right\",\"gridcolor\":\"#1f292f\"},\"margin\":{\"l\":10,\"r\":10,\"b\":10,\"t\":10},\"font\":{\"size\":8,\"color\":\"#e1e1e1\"},\"width\":900,\"height\":250,\"paper_bgcolor\":\"#2c303c\",\"plot_bgcolor\":\"#2c303c\"},                        {\"responsive\": true}                    ).then(function(){\n",
       "                            \n",
       "var gd = document.getElementById('d6a6b615-9054-4bcd-b0ec-0c96f16699a9');\n",
       "var x = new MutationObserver(function (mutations, observer) {{\n",
       "        var display = window.getComputedStyle(gd).display;\n",
       "        if (!display || display === 'none') {{\n",
       "            console.log([gd, 'removed!']);\n",
       "            Plotly.purge(gd);\n",
       "            observer.disconnect();\n",
       "        }}\n",
       "}});\n",
       "\n",
       "// Listen for the removal of the full notebook cells\n",
       "var notebookContainer = gd.closest('#notebook-container');\n",
       "if (notebookContainer) {{\n",
       "    x.observe(notebookContainer, {childList: true});\n",
       "}}\n",
       "\n",
       "// Listen for the clearing of the current output cell\n",
       "var outputEl = gd.closest('.output');\n",
       "if (outputEl) {{\n",
       "    x.observe(outputEl, {childList: true});\n",
       "}}\n",
       "\n",
       "                        })                };                });            </script>        </div>"
      ]
     },
     "metadata": {},
     "output_type": "display_data"
    }
   ],
   "source": [
    "df_plot = df_slim.iloc[70:100]\n",
    "cp = CandlePlot(df_plot, candles=True)\n",
    "\n",
    "trades = cp.df_plot[cp.df_plot.SIGNAL != NONE]\n",
    "\n",
    "markers = ['mid_c', 'TP', 'SL']\n",
    "marker_colors = ['#0000FF', '#00FF00', '#FF0000']\n",
    "\n",
    "for i in range(3):\n",
    "    cp.fig.add_trace(go.Scatter(\n",
    "        x = trades.sTime,\n",
    "        y = trades[markers[i]],\n",
    "        mode = 'markers',\n",
    "        marker=dict(color=marker_colors[i], size=12)\n",
    "    ))\n",
    "\n",
    "cp.show_plot(line_traces=[\"EMA_200\"], sec_traces=['RSI_14'], height=250)"
   ]
  },
  {
   "cell_type": "code",
   "execution_count": 87,
   "id": "48459b4f",
   "metadata": {},
   "outputs": [],
   "source": [
    "class Trade:\n",
    "    def __init__(self, row):\n",
    "        self.running = True\n",
    "        self.start_index = row.name\n",
    "        self.start_price = row.mid_c\n",
    "        self.trigger_price = row.mid_c\n",
    "        self.SIGNAL = row.SIGNAL\n",
    "        self.TP = row.TP\n",
    "        self.SL = row.SL\n",
    "        self.result = 0.0\n",
    "        self.end_time = row.time\n",
    "        self.start_time = row.time\n",
    "        self.duration = 0\n",
    "        \n",
    "    def close_trade(self, row, result, trigger_price):\n",
    "        self.running = False\n",
    "        self.result = result\n",
    "        self.end_time = row.time\n",
    "        self.trigger_price = trigger_price\n",
    "        \n",
    "    def update(self, row):\n",
    "        self.duration += 1\n",
    "        if self.SIGNAL == BUY:\n",
    "            if row.mid_h >= self.TP:\n",
    "                self.close_trade(row, PROFIT_FACTOR, row.mid_h)\n",
    "            elif row.mid_l <= self.SL:\n",
    "                self.close_trade(row, LOSS_FACTOR, row.mid_l)\n",
    "        if self.SIGNAL == SELL:\n",
    "            if row.mid_l <= self.TP:\n",
    "                self.close_trade(row, PROFIT_FACTOR, row.mid_l)\n",
    "            elif row.mid_h >= self.SL:\n",
    "                self.close_trade(row, LOSS_FACTOR, row.mid_h)    "
   ]
  },
  {
   "cell_type": "code",
   "execution_count": 88,
   "id": "f5fa22a7",
   "metadata": {},
   "outputs": [],
   "source": [
    "open_trades = []\n",
    "closed_trades = []\n",
    "\n",
    "for index, row in df_slim.iterrows():\n",
    "    for ot in open_trades:\n",
    "        ot.update(row)\n",
    "        if ot.running == False:\n",
    "            closed_trades.append(ot)\n",
    "    open_trades = [x for x in open_trades if x.running == True]\n",
    "    \n",
    "    if row.SIGNAL != NONE:\n",
    "        open_trades.append(Trade(row))    "
   ]
  },
  {
   "cell_type": "code",
   "execution_count": 89,
   "id": "4020ad76",
   "metadata": {},
   "outputs": [],
   "source": [
    "df_results = pd.DataFrame.from_dict([vars(x) for x in closed_trades])"
   ]
  },
  {
   "cell_type": "code",
   "execution_count": 90,
   "id": "bd745bed",
   "metadata": {},
   "outputs": [
    {
     "data": {
      "text/plain": [
       "367.0"
      ]
     },
     "execution_count": 90,
     "metadata": {},
     "output_type": "execute_result"
    }
   ],
   "source": [
    "df_results.result.sum()"
   ]
  },
  {
   "cell_type": "code",
   "execution_count": 91,
   "id": "7f6a9b79",
   "metadata": {},
   "outputs": [],
   "source": [
    "df_results.sort_values(by=\"start_index\", inplace=True)"
   ]
  },
  {
   "cell_type": "code",
   "execution_count": 92,
   "id": "0443a648",
   "metadata": {},
   "outputs": [],
   "source": [
    "df_m5 = pd.read_pickle(\"../data/EUR_USD_M5.pkl\")"
   ]
  },
  {
   "cell_type": "code",
   "execution_count": 93,
   "id": "de1da2fe",
   "metadata": {},
   "outputs": [
    {
     "data": {
      "text/plain": [
       "(594303, 14)"
      ]
     },
     "execution_count": 93,
     "metadata": {},
     "output_type": "execute_result"
    }
   ],
   "source": [
    "df_m5.shape"
   ]
  },
  {
   "cell_type": "code",
   "execution_count": 94,
   "id": "19afaaa4",
   "metadata": {},
   "outputs": [
    {
     "data": {
      "text/plain": [
       "Timestamp('2023-12-29 21:55:00+0000', tz='tzutc()')"
      ]
     },
     "execution_count": 94,
     "metadata": {},
     "output_type": "execute_result"
    }
   ],
   "source": [
    "df_m5.time.max()"
   ]
  },
  {
   "cell_type": "code",
   "execution_count": 95,
   "id": "a8b79e5b",
   "metadata": {},
   "outputs": [
    {
     "data": {
      "text/plain": [
       "Timestamp('2023-12-29 21:00:00+0000', tz='tzutc()')"
      ]
     },
     "execution_count": 95,
     "metadata": {},
     "output_type": "execute_result"
    }
   ],
   "source": [
    "df_raw.time.max()"
   ]
  },
  {
   "cell_type": "code",
   "execution_count": 96,
   "id": "9f63ad63",
   "metadata": {},
   "outputs": [],
   "source": [
    "from dateutil import parser"
   ]
  },
  {
   "cell_type": "code",
   "execution_count": 97,
   "id": "e2d4d185",
   "metadata": {},
   "outputs": [],
   "source": [
    "time_min = parser.parse(\"2021-12-15T10:00:00Z\")\n",
    "time_max = parser.parse(\"2021-12-15T11:00:00Z\")\n",
    "df_m5_s = df_m5[(df_m5.time>=time_min)&(df_m5.time<=time_max)]\n",
    "df_raw_s = df_raw[(df_raw.time>=time_min)&(df_raw.time<=time_max)]"
   ]
  },
  {
   "cell_type": "code",
   "execution_count": 98,
   "id": "0f7ff7a3",
   "metadata": {},
   "outputs": [
    {
     "data": {
      "text/html": [
       "<div>\n",
       "<style scoped>\n",
       "    .dataframe tbody tr th:only-of-type {\n",
       "        vertical-align: middle;\n",
       "    }\n",
       "\n",
       "    .dataframe tbody tr th {\n",
       "        vertical-align: top;\n",
       "    }\n",
       "\n",
       "    .dataframe thead th {\n",
       "        text-align: right;\n",
       "    }\n",
       "</style>\n",
       "<table border=\"1\" class=\"dataframe\">\n",
       "  <thead>\n",
       "    <tr style=\"text-align: right;\">\n",
       "      <th></th>\n",
       "      <th>time</th>\n",
       "      <th>volume</th>\n",
       "      <th>mid_o</th>\n",
       "      <th>mid_h</th>\n",
       "      <th>mid_l</th>\n",
       "      <th>mid_c</th>\n",
       "      <th>bid_o</th>\n",
       "      <th>bid_h</th>\n",
       "      <th>bid_l</th>\n",
       "      <th>bid_c</th>\n",
       "      <th>ask_o</th>\n",
       "      <th>ask_h</th>\n",
       "      <th>ask_l</th>\n",
       "      <th>ask_c</th>\n",
       "    </tr>\n",
       "  </thead>\n",
       "  <tbody>\n",
       "    <tr>\n",
       "      <th>441719</th>\n",
       "      <td>2021-12-15 10:00:00+00:00</td>\n",
       "      <td>208</td>\n",
       "      <td>1.12716</td>\n",
       "      <td>1.12745</td>\n",
       "      <td>1.12709</td>\n",
       "      <td>1.12734</td>\n",
       "      <td>1.12708</td>\n",
       "      <td>1.12738</td>\n",
       "      <td>1.12702</td>\n",
       "      <td>1.12727</td>\n",
       "      <td>1.12723</td>\n",
       "      <td>1.12752</td>\n",
       "      <td>1.12715</td>\n",
       "      <td>1.12742</td>\n",
       "    </tr>\n",
       "    <tr>\n",
       "      <th>441720</th>\n",
       "      <td>2021-12-15 10:05:00+00:00</td>\n",
       "      <td>132</td>\n",
       "      <td>1.12733</td>\n",
       "      <td>1.12754</td>\n",
       "      <td>1.12726</td>\n",
       "      <td>1.12746</td>\n",
       "      <td>1.12726</td>\n",
       "      <td>1.12747</td>\n",
       "      <td>1.12719</td>\n",
       "      <td>1.12739</td>\n",
       "      <td>1.12740</td>\n",
       "      <td>1.12760</td>\n",
       "      <td>1.12733</td>\n",
       "      <td>1.12752</td>\n",
       "    </tr>\n",
       "    <tr>\n",
       "      <th>441721</th>\n",
       "      <td>2021-12-15 10:10:00+00:00</td>\n",
       "      <td>166</td>\n",
       "      <td>1.12744</td>\n",
       "      <td>1.12752</td>\n",
       "      <td>1.12732</td>\n",
       "      <td>1.12746</td>\n",
       "      <td>1.12737</td>\n",
       "      <td>1.12745</td>\n",
       "      <td>1.12725</td>\n",
       "      <td>1.12739</td>\n",
       "      <td>1.12750</td>\n",
       "      <td>1.12760</td>\n",
       "      <td>1.12739</td>\n",
       "      <td>1.12753</td>\n",
       "    </tr>\n",
       "    <tr>\n",
       "      <th>441722</th>\n",
       "      <td>2021-12-15 10:15:00+00:00</td>\n",
       "      <td>138</td>\n",
       "      <td>1.12744</td>\n",
       "      <td>1.12770</td>\n",
       "      <td>1.12740</td>\n",
       "      <td>1.12761</td>\n",
       "      <td>1.12737</td>\n",
       "      <td>1.12763</td>\n",
       "      <td>1.12733</td>\n",
       "      <td>1.12754</td>\n",
       "      <td>1.12752</td>\n",
       "      <td>1.12776</td>\n",
       "      <td>1.12747</td>\n",
       "      <td>1.12768</td>\n",
       "    </tr>\n",
       "    <tr>\n",
       "      <th>441723</th>\n",
       "      <td>2021-12-15 10:20:00+00:00</td>\n",
       "      <td>252</td>\n",
       "      <td>1.12760</td>\n",
       "      <td>1.12762</td>\n",
       "      <td>1.12712</td>\n",
       "      <td>1.12712</td>\n",
       "      <td>1.12753</td>\n",
       "      <td>1.12756</td>\n",
       "      <td>1.12705</td>\n",
       "      <td>1.12705</td>\n",
       "      <td>1.12767</td>\n",
       "      <td>1.12769</td>\n",
       "      <td>1.12719</td>\n",
       "      <td>1.12719</td>\n",
       "    </tr>\n",
       "    <tr>\n",
       "      <th>441724</th>\n",
       "      <td>2021-12-15 10:25:00+00:00</td>\n",
       "      <td>198</td>\n",
       "      <td>1.12711</td>\n",
       "      <td>1.12726</td>\n",
       "      <td>1.12695</td>\n",
       "      <td>1.12695</td>\n",
       "      <td>1.12704</td>\n",
       "      <td>1.12719</td>\n",
       "      <td>1.12688</td>\n",
       "      <td>1.12688</td>\n",
       "      <td>1.12718</td>\n",
       "      <td>1.12733</td>\n",
       "      <td>1.12702</td>\n",
       "      <td>1.12702</td>\n",
       "    </tr>\n",
       "    <tr>\n",
       "      <th>441725</th>\n",
       "      <td>2021-12-15 10:30:00+00:00</td>\n",
       "      <td>142</td>\n",
       "      <td>1.12696</td>\n",
       "      <td>1.12698</td>\n",
       "      <td>1.12680</td>\n",
       "      <td>1.12696</td>\n",
       "      <td>1.12689</td>\n",
       "      <td>1.12691</td>\n",
       "      <td>1.12674</td>\n",
       "      <td>1.12690</td>\n",
       "      <td>1.12703</td>\n",
       "      <td>1.12706</td>\n",
       "      <td>1.12686</td>\n",
       "      <td>1.12703</td>\n",
       "    </tr>\n",
       "    <tr>\n",
       "      <th>441726</th>\n",
       "      <td>2021-12-15 10:35:00+00:00</td>\n",
       "      <td>121</td>\n",
       "      <td>1.12698</td>\n",
       "      <td>1.12712</td>\n",
       "      <td>1.12698</td>\n",
       "      <td>1.12700</td>\n",
       "      <td>1.12691</td>\n",
       "      <td>1.12705</td>\n",
       "      <td>1.12691</td>\n",
       "      <td>1.12693</td>\n",
       "      <td>1.12704</td>\n",
       "      <td>1.12718</td>\n",
       "      <td>1.12704</td>\n",
       "      <td>1.12706</td>\n",
       "    </tr>\n",
       "    <tr>\n",
       "      <th>441727</th>\n",
       "      <td>2021-12-15 10:40:00+00:00</td>\n",
       "      <td>206</td>\n",
       "      <td>1.12698</td>\n",
       "      <td>1.12707</td>\n",
       "      <td>1.12651</td>\n",
       "      <td>1.12656</td>\n",
       "      <td>1.12692</td>\n",
       "      <td>1.12700</td>\n",
       "      <td>1.12644</td>\n",
       "      <td>1.12649</td>\n",
       "      <td>1.12705</td>\n",
       "      <td>1.12714</td>\n",
       "      <td>1.12658</td>\n",
       "      <td>1.12663</td>\n",
       "    </tr>\n",
       "    <tr>\n",
       "      <th>441728</th>\n",
       "      <td>2021-12-15 10:45:00+00:00</td>\n",
       "      <td>165</td>\n",
       "      <td>1.12655</td>\n",
       "      <td>1.12668</td>\n",
       "      <td>1.12645</td>\n",
       "      <td>1.12654</td>\n",
       "      <td>1.12648</td>\n",
       "      <td>1.12661</td>\n",
       "      <td>1.12638</td>\n",
       "      <td>1.12648</td>\n",
       "      <td>1.12662</td>\n",
       "      <td>1.12675</td>\n",
       "      <td>1.12652</td>\n",
       "      <td>1.12661</td>\n",
       "    </tr>\n",
       "    <tr>\n",
       "      <th>441729</th>\n",
       "      <td>2021-12-15 10:50:00+00:00</td>\n",
       "      <td>125</td>\n",
       "      <td>1.12653</td>\n",
       "      <td>1.12653</td>\n",
       "      <td>1.12634</td>\n",
       "      <td>1.12640</td>\n",
       "      <td>1.12646</td>\n",
       "      <td>1.12646</td>\n",
       "      <td>1.12627</td>\n",
       "      <td>1.12633</td>\n",
       "      <td>1.12660</td>\n",
       "      <td>1.12660</td>\n",
       "      <td>1.12640</td>\n",
       "      <td>1.12648</td>\n",
       "    </tr>\n",
       "    <tr>\n",
       "      <th>441730</th>\n",
       "      <td>2021-12-15 10:55:00+00:00</td>\n",
       "      <td>185</td>\n",
       "      <td>1.12642</td>\n",
       "      <td>1.12678</td>\n",
       "      <td>1.12634</td>\n",
       "      <td>1.12673</td>\n",
       "      <td>1.12635</td>\n",
       "      <td>1.12672</td>\n",
       "      <td>1.12627</td>\n",
       "      <td>1.12666</td>\n",
       "      <td>1.12650</td>\n",
       "      <td>1.12685</td>\n",
       "      <td>1.12640</td>\n",
       "      <td>1.12680</td>\n",
       "    </tr>\n",
       "    <tr>\n",
       "      <th>441731</th>\n",
       "      <td>2021-12-15 11:00:00+00:00</td>\n",
       "      <td>202</td>\n",
       "      <td>1.12674</td>\n",
       "      <td>1.12674</td>\n",
       "      <td>1.12643</td>\n",
       "      <td>1.12644</td>\n",
       "      <td>1.12667</td>\n",
       "      <td>1.12667</td>\n",
       "      <td>1.12636</td>\n",
       "      <td>1.12638</td>\n",
       "      <td>1.12681</td>\n",
       "      <td>1.12681</td>\n",
       "      <td>1.12650</td>\n",
       "      <td>1.12651</td>\n",
       "    </tr>\n",
       "  </tbody>\n",
       "</table>\n",
       "</div>"
      ],
      "text/plain": [
       "                            time  volume    mid_o    mid_h    mid_l    mid_c  \\\n",
       "441719 2021-12-15 10:00:00+00:00     208  1.12716  1.12745  1.12709  1.12734   \n",
       "441720 2021-12-15 10:05:00+00:00     132  1.12733  1.12754  1.12726  1.12746   \n",
       "441721 2021-12-15 10:10:00+00:00     166  1.12744  1.12752  1.12732  1.12746   \n",
       "441722 2021-12-15 10:15:00+00:00     138  1.12744  1.12770  1.12740  1.12761   \n",
       "441723 2021-12-15 10:20:00+00:00     252  1.12760  1.12762  1.12712  1.12712   \n",
       "441724 2021-12-15 10:25:00+00:00     198  1.12711  1.12726  1.12695  1.12695   \n",
       "441725 2021-12-15 10:30:00+00:00     142  1.12696  1.12698  1.12680  1.12696   \n",
       "441726 2021-12-15 10:35:00+00:00     121  1.12698  1.12712  1.12698  1.12700   \n",
       "441727 2021-12-15 10:40:00+00:00     206  1.12698  1.12707  1.12651  1.12656   \n",
       "441728 2021-12-15 10:45:00+00:00     165  1.12655  1.12668  1.12645  1.12654   \n",
       "441729 2021-12-15 10:50:00+00:00     125  1.12653  1.12653  1.12634  1.12640   \n",
       "441730 2021-12-15 10:55:00+00:00     185  1.12642  1.12678  1.12634  1.12673   \n",
       "441731 2021-12-15 11:00:00+00:00     202  1.12674  1.12674  1.12643  1.12644   \n",
       "\n",
       "          bid_o    bid_h    bid_l    bid_c    ask_o    ask_h    ask_l    ask_c  \n",
       "441719  1.12708  1.12738  1.12702  1.12727  1.12723  1.12752  1.12715  1.12742  \n",
       "441720  1.12726  1.12747  1.12719  1.12739  1.12740  1.12760  1.12733  1.12752  \n",
       "441721  1.12737  1.12745  1.12725  1.12739  1.12750  1.12760  1.12739  1.12753  \n",
       "441722  1.12737  1.12763  1.12733  1.12754  1.12752  1.12776  1.12747  1.12768  \n",
       "441723  1.12753  1.12756  1.12705  1.12705  1.12767  1.12769  1.12719  1.12719  \n",
       "441724  1.12704  1.12719  1.12688  1.12688  1.12718  1.12733  1.12702  1.12702  \n",
       "441725  1.12689  1.12691  1.12674  1.12690  1.12703  1.12706  1.12686  1.12703  \n",
       "441726  1.12691  1.12705  1.12691  1.12693  1.12704  1.12718  1.12704  1.12706  \n",
       "441727  1.12692  1.12700  1.12644  1.12649  1.12705  1.12714  1.12658  1.12663  \n",
       "441728  1.12648  1.12661  1.12638  1.12648  1.12662  1.12675  1.12652  1.12661  \n",
       "441729  1.12646  1.12646  1.12627  1.12633  1.12660  1.12660  1.12640  1.12648  \n",
       "441730  1.12635  1.12672  1.12627  1.12666  1.12650  1.12685  1.12640  1.12680  \n",
       "441731  1.12667  1.12667  1.12636  1.12638  1.12681  1.12681  1.12650  1.12651  "
      ]
     },
     "execution_count": 98,
     "metadata": {},
     "output_type": "execute_result"
    }
   ],
   "source": [
    "df_m5_s"
   ]
  },
  {
   "cell_type": "code",
   "execution_count": 99,
   "id": "5fc89088",
   "metadata": {},
   "outputs": [
    {
     "data": {
      "text/html": [
       "<div>\n",
       "<style scoped>\n",
       "    .dataframe tbody tr th:only-of-type {\n",
       "        vertical-align: middle;\n",
       "    }\n",
       "\n",
       "    .dataframe tbody tr th {\n",
       "        vertical-align: top;\n",
       "    }\n",
       "\n",
       "    .dataframe thead th {\n",
       "        text-align: right;\n",
       "    }\n",
       "</style>\n",
       "<table border=\"1\" class=\"dataframe\">\n",
       "  <thead>\n",
       "    <tr style=\"text-align: right;\">\n",
       "      <th></th>\n",
       "      <th>time</th>\n",
       "      <th>volume</th>\n",
       "      <th>mid_o</th>\n",
       "      <th>mid_h</th>\n",
       "      <th>mid_l</th>\n",
       "      <th>mid_c</th>\n",
       "      <th>bid_o</th>\n",
       "      <th>bid_h</th>\n",
       "      <th>bid_l</th>\n",
       "      <th>bid_c</th>\n",
       "      <th>ask_o</th>\n",
       "      <th>ask_h</th>\n",
       "      <th>ask_l</th>\n",
       "      <th>ask_c</th>\n",
       "    </tr>\n",
       "  </thead>\n",
       "  <tbody>\n",
       "    <tr>\n",
       "      <th>36941</th>\n",
       "      <td>2021-12-15 10:00:00+00:00</td>\n",
       "      <td>2038</td>\n",
       "      <td>1.12716</td>\n",
       "      <td>1.1277</td>\n",
       "      <td>1.12634</td>\n",
       "      <td>1.12673</td>\n",
       "      <td>1.12708</td>\n",
       "      <td>1.12763</td>\n",
       "      <td>1.12627</td>\n",
       "      <td>1.12666</td>\n",
       "      <td>1.12723</td>\n",
       "      <td>1.12776</td>\n",
       "      <td>1.12640</td>\n",
       "      <td>1.12680</td>\n",
       "    </tr>\n",
       "    <tr>\n",
       "      <th>36942</th>\n",
       "      <td>2021-12-15 11:00:00+00:00</td>\n",
       "      <td>2138</td>\n",
       "      <td>1.12674</td>\n",
       "      <td>1.1270</td>\n",
       "      <td>1.12626</td>\n",
       "      <td>1.12698</td>\n",
       "      <td>1.12667</td>\n",
       "      <td>1.12693</td>\n",
       "      <td>1.12619</td>\n",
       "      <td>1.12691</td>\n",
       "      <td>1.12681</td>\n",
       "      <td>1.12706</td>\n",
       "      <td>1.12631</td>\n",
       "      <td>1.12705</td>\n",
       "    </tr>\n",
       "  </tbody>\n",
       "</table>\n",
       "</div>"
      ],
      "text/plain": [
       "                           time  volume    mid_o   mid_h    mid_l    mid_c  \\\n",
       "36941 2021-12-15 10:00:00+00:00    2038  1.12716  1.1277  1.12634  1.12673   \n",
       "36942 2021-12-15 11:00:00+00:00    2138  1.12674  1.1270  1.12626  1.12698   \n",
       "\n",
       "         bid_o    bid_h    bid_l    bid_c    ask_o    ask_h    ask_l    ask_c  \n",
       "36941  1.12708  1.12763  1.12627  1.12666  1.12723  1.12776  1.12640  1.12680  \n",
       "36942  1.12667  1.12693  1.12619  1.12691  1.12681  1.12706  1.12631  1.12705  "
      ]
     },
     "execution_count": 99,
     "metadata": {},
     "output_type": "execute_result"
    }
   ],
   "source": [
    "df_raw_s"
   ]
  },
  {
   "cell_type": "code",
   "execution_count": 100,
   "id": "301f614e",
   "metadata": {},
   "outputs": [],
   "source": [
    "df_m5_slim = df_m5[['time','mid_h', 'mid_l' ]].copy()"
   ]
  },
  {
   "cell_type": "code",
   "execution_count": 101,
   "id": "94d93243",
   "metadata": {},
   "outputs": [
    {
     "data": {
      "text/html": [
       "<div>\n",
       "<style scoped>\n",
       "    .dataframe tbody tr th:only-of-type {\n",
       "        vertical-align: middle;\n",
       "    }\n",
       "\n",
       "    .dataframe tbody tr th {\n",
       "        vertical-align: top;\n",
       "    }\n",
       "\n",
       "    .dataframe thead th {\n",
       "        text-align: right;\n",
       "    }\n",
       "</style>\n",
       "<table border=\"1\" class=\"dataframe\">\n",
       "  <thead>\n",
       "    <tr style=\"text-align: right;\">\n",
       "      <th></th>\n",
       "      <th>time</th>\n",
       "      <th>mid_h</th>\n",
       "      <th>mid_l</th>\n",
       "    </tr>\n",
       "  </thead>\n",
       "  <tbody>\n",
       "    <tr>\n",
       "      <th>0</th>\n",
       "      <td>2016-01-07 00:00:00+00:00</td>\n",
       "      <td>1.07811</td>\n",
       "      <td>1.07759</td>\n",
       "    </tr>\n",
       "    <tr>\n",
       "      <th>1</th>\n",
       "      <td>2016-01-07 00:05:00+00:00</td>\n",
       "      <td>1.07818</td>\n",
       "      <td>1.07764</td>\n",
       "    </tr>\n",
       "    <tr>\n",
       "      <th>2</th>\n",
       "      <td>2016-01-07 00:10:00+00:00</td>\n",
       "      <td>1.07832</td>\n",
       "      <td>1.07812</td>\n",
       "    </tr>\n",
       "    <tr>\n",
       "      <th>3</th>\n",
       "      <td>2016-01-07 00:15:00+00:00</td>\n",
       "      <td>1.07830</td>\n",
       "      <td>1.07798</td>\n",
       "    </tr>\n",
       "    <tr>\n",
       "      <th>4</th>\n",
       "      <td>2016-01-07 00:20:00+00:00</td>\n",
       "      <td>1.07799</td>\n",
       "      <td>1.07776</td>\n",
       "    </tr>\n",
       "  </tbody>\n",
       "</table>\n",
       "</div>"
      ],
      "text/plain": [
       "                       time    mid_h    mid_l\n",
       "0 2016-01-07 00:00:00+00:00  1.07811  1.07759\n",
       "1 2016-01-07 00:05:00+00:00  1.07818  1.07764\n",
       "2 2016-01-07 00:10:00+00:00  1.07832  1.07812\n",
       "3 2016-01-07 00:15:00+00:00  1.07830  1.07798\n",
       "4 2016-01-07 00:20:00+00:00  1.07799  1.07776"
      ]
     },
     "execution_count": 101,
     "metadata": {},
     "output_type": "execute_result"
    }
   ],
   "source": [
    "df_m5_slim.head()"
   ]
  },
  {
   "cell_type": "code",
   "execution_count": 102,
   "id": "a534aa58",
   "metadata": {},
   "outputs": [],
   "source": [
    "df_signals = df_slim[df_slim.SIGNAL != NONE].copy() "
   ]
  },
  {
   "cell_type": "code",
   "execution_count": 103,
   "id": "a634cf5b",
   "metadata": {},
   "outputs": [],
   "source": [
    "df_signals['m5_start'] = [x + dt.timedelta(hours=1) for x in df_signals.time]"
   ]
  },
  {
   "cell_type": "code",
   "execution_count": 104,
   "id": "a87b9c39",
   "metadata": {},
   "outputs": [],
   "source": [
    "df_signals['start_index_h1'] = df_signals.index"
   ]
  },
  {
   "cell_type": "code",
   "execution_count": 105,
   "id": "55b9d019",
   "metadata": {},
   "outputs": [
    {
     "data": {
      "text/html": [
       "<div>\n",
       "<style scoped>\n",
       "    .dataframe tbody tr th:only-of-type {\n",
       "        vertical-align: middle;\n",
       "    }\n",
       "\n",
       "    .dataframe tbody tr th {\n",
       "        vertical-align: top;\n",
       "    }\n",
       "\n",
       "    .dataframe thead th {\n",
       "        text-align: right;\n",
       "    }\n",
       "</style>\n",
       "<table border=\"1\" class=\"dataframe\">\n",
       "  <thead>\n",
       "    <tr style=\"text-align: right;\">\n",
       "      <th></th>\n",
       "      <th>time</th>\n",
       "      <th>mid_o</th>\n",
       "      <th>mid_h</th>\n",
       "      <th>mid_l</th>\n",
       "      <th>mid_c</th>\n",
       "      <th>ask_c</th>\n",
       "      <th>bid_c</th>\n",
       "      <th>ENGULFING</th>\n",
       "      <th>direction</th>\n",
       "      <th>EMA_200</th>\n",
       "      <th>RSI_14</th>\n",
       "      <th>SIGNAL</th>\n",
       "      <th>TP</th>\n",
       "      <th>SL</th>\n",
       "      <th>m5_start</th>\n",
       "      <th>start_index_h1</th>\n",
       "    </tr>\n",
       "  </thead>\n",
       "  <tbody>\n",
       "    <tr>\n",
       "      <th>4</th>\n",
       "      <td>2016-01-19 11:00:00+00:00</td>\n",
       "      <td>1.08728</td>\n",
       "      <td>1.08732</td>\n",
       "      <td>1.08599</td>\n",
       "      <td>1.08630</td>\n",
       "      <td>1.08637</td>\n",
       "      <td>1.08623</td>\n",
       "      <td>True</td>\n",
       "      <td>-1</td>\n",
       "      <td>1.088289</td>\n",
       "      <td>38.849941</td>\n",
       "      <td>-1</td>\n",
       "      <td>1.084830</td>\n",
       "      <td>1.08728</td>\n",
       "      <td>2016-01-19 12:00:00+00:00</td>\n",
       "      <td>4</td>\n",
       "    </tr>\n",
       "    <tr>\n",
       "      <th>15</th>\n",
       "      <td>2016-01-19 22:00:00+00:00</td>\n",
       "      <td>1.09060</td>\n",
       "      <td>1.09143</td>\n",
       "      <td>1.09052</td>\n",
       "      <td>1.09140</td>\n",
       "      <td>1.09153</td>\n",
       "      <td>1.09127</td>\n",
       "      <td>True</td>\n",
       "      <td>1</td>\n",
       "      <td>1.088541</td>\n",
       "      <td>57.545307</td>\n",
       "      <td>1</td>\n",
       "      <td>1.092600</td>\n",
       "      <td>1.09060</td>\n",
       "      <td>2016-01-19 23:00:00+00:00</td>\n",
       "      <td>15</td>\n",
       "    </tr>\n",
       "    <tr>\n",
       "      <th>17</th>\n",
       "      <td>2016-01-20 00:00:00+00:00</td>\n",
       "      <td>1.09112</td>\n",
       "      <td>1.09246</td>\n",
       "      <td>1.09100</td>\n",
       "      <td>1.09214</td>\n",
       "      <td>1.09223</td>\n",
       "      <td>1.09206</td>\n",
       "      <td>True</td>\n",
       "      <td>1</td>\n",
       "      <td>1.088610</td>\n",
       "      <td>59.970073</td>\n",
       "      <td>1</td>\n",
       "      <td>1.093670</td>\n",
       "      <td>1.09112</td>\n",
       "      <td>2016-01-20 01:00:00+00:00</td>\n",
       "      <td>17</td>\n",
       "    </tr>\n",
       "    <tr>\n",
       "      <th>23</th>\n",
       "      <td>2016-01-20 06:00:00+00:00</td>\n",
       "      <td>1.09491</td>\n",
       "      <td>1.09635</td>\n",
       "      <td>1.09491</td>\n",
       "      <td>1.09546</td>\n",
       "      <td>1.09554</td>\n",
       "      <td>1.09538</td>\n",
       "      <td>True</td>\n",
       "      <td>1</td>\n",
       "      <td>1.088985</td>\n",
       "      <td>68.866726</td>\n",
       "      <td>1</td>\n",
       "      <td>1.096285</td>\n",
       "      <td>1.09491</td>\n",
       "      <td>2016-01-20 07:00:00+00:00</td>\n",
       "      <td>23</td>\n",
       "    </tr>\n",
       "    <tr>\n",
       "      <th>25</th>\n",
       "      <td>2016-01-20 08:00:00+00:00</td>\n",
       "      <td>1.09398</td>\n",
       "      <td>1.09760</td>\n",
       "      <td>1.09397</td>\n",
       "      <td>1.09625</td>\n",
       "      <td>1.09631</td>\n",
       "      <td>1.09619</td>\n",
       "      <td>True</td>\n",
       "      <td>1</td>\n",
       "      <td>1.089121</td>\n",
       "      <td>67.087323</td>\n",
       "      <td>1</td>\n",
       "      <td>1.099655</td>\n",
       "      <td>1.09398</td>\n",
       "      <td>2016-01-20 09:00:00+00:00</td>\n",
       "      <td>25</td>\n",
       "    </tr>\n",
       "  </tbody>\n",
       "</table>\n",
       "</div>"
      ],
      "text/plain": [
       "                        time    mid_o    mid_h    mid_l    mid_c    ask_c  \\\n",
       "4  2016-01-19 11:00:00+00:00  1.08728  1.08732  1.08599  1.08630  1.08637   \n",
       "15 2016-01-19 22:00:00+00:00  1.09060  1.09143  1.09052  1.09140  1.09153   \n",
       "17 2016-01-20 00:00:00+00:00  1.09112  1.09246  1.09100  1.09214  1.09223   \n",
       "23 2016-01-20 06:00:00+00:00  1.09491  1.09635  1.09491  1.09546  1.09554   \n",
       "25 2016-01-20 08:00:00+00:00  1.09398  1.09760  1.09397  1.09625  1.09631   \n",
       "\n",
       "      bid_c  ENGULFING  direction   EMA_200     RSI_14  SIGNAL        TP  \\\n",
       "4   1.08623       True         -1  1.088289  38.849941      -1  1.084830   \n",
       "15  1.09127       True          1  1.088541  57.545307       1  1.092600   \n",
       "17  1.09206       True          1  1.088610  59.970073       1  1.093670   \n",
       "23  1.09538       True          1  1.088985  68.866726       1  1.096285   \n",
       "25  1.09619       True          1  1.089121  67.087323       1  1.099655   \n",
       "\n",
       "         SL                  m5_start  start_index_h1  \n",
       "4   1.08728 2016-01-19 12:00:00+00:00               4  \n",
       "15  1.09060 2016-01-19 23:00:00+00:00              15  \n",
       "17  1.09112 2016-01-20 01:00:00+00:00              17  \n",
       "23  1.09491 2016-01-20 07:00:00+00:00              23  \n",
       "25  1.09398 2016-01-20 09:00:00+00:00              25  "
      ]
     },
     "execution_count": 105,
     "metadata": {},
     "output_type": "execute_result"
    }
   ],
   "source": [
    "df_signals.head()"
   ]
  },
  {
   "cell_type": "code",
   "execution_count": 106,
   "id": "78d349b1",
   "metadata": {},
   "outputs": [
    {
     "data": {
      "text/plain": [
       "Index(['time', 'mid_o', 'mid_h', 'mid_l', 'mid_c', 'ask_c', 'bid_c',\n",
       "       'ENGULFING', 'direction', 'EMA_200', 'RSI_14', 'SIGNAL', 'TP', 'SL',\n",
       "       'm5_start', 'start_index_h1'],\n",
       "      dtype='object')"
      ]
     },
     "execution_count": 106,
     "metadata": {},
     "output_type": "execute_result"
    }
   ],
   "source": [
    "df_signals.columns"
   ]
  },
  {
   "cell_type": "code",
   "execution_count": 107,
   "id": "d16475b2",
   "metadata": {},
   "outputs": [],
   "source": [
    "df_signals.drop(['time', 'mid_o', 'mid_h', 'mid_l', 'ask_c', 'bid_c',\n",
    "                'ENGULFING', 'EMA_200', 'RSI_14', 'direction'], axis=1, inplace=True)"
   ]
  },
  {
   "cell_type": "code",
   "execution_count": 108,
   "id": "5924a24c",
   "metadata": {},
   "outputs": [
    {
     "data": {
      "text/html": [
       "<div>\n",
       "<style scoped>\n",
       "    .dataframe tbody tr th:only-of-type {\n",
       "        vertical-align: middle;\n",
       "    }\n",
       "\n",
       "    .dataframe tbody tr th {\n",
       "        vertical-align: top;\n",
       "    }\n",
       "\n",
       "    .dataframe thead th {\n",
       "        text-align: right;\n",
       "    }\n",
       "</style>\n",
       "<table border=\"1\" class=\"dataframe\">\n",
       "  <thead>\n",
       "    <tr style=\"text-align: right;\">\n",
       "      <th></th>\n",
       "      <th>mid_c</th>\n",
       "      <th>SIGNAL</th>\n",
       "      <th>TP</th>\n",
       "      <th>SL</th>\n",
       "      <th>m5_start</th>\n",
       "      <th>start_index_h1</th>\n",
       "    </tr>\n",
       "  </thead>\n",
       "  <tbody>\n",
       "    <tr>\n",
       "      <th>4</th>\n",
       "      <td>1.08630</td>\n",
       "      <td>-1</td>\n",
       "      <td>1.084830</td>\n",
       "      <td>1.08728</td>\n",
       "      <td>2016-01-19 12:00:00+00:00</td>\n",
       "      <td>4</td>\n",
       "    </tr>\n",
       "    <tr>\n",
       "      <th>15</th>\n",
       "      <td>1.09140</td>\n",
       "      <td>1</td>\n",
       "      <td>1.092600</td>\n",
       "      <td>1.09060</td>\n",
       "      <td>2016-01-19 23:00:00+00:00</td>\n",
       "      <td>15</td>\n",
       "    </tr>\n",
       "    <tr>\n",
       "      <th>17</th>\n",
       "      <td>1.09214</td>\n",
       "      <td>1</td>\n",
       "      <td>1.093670</td>\n",
       "      <td>1.09112</td>\n",
       "      <td>2016-01-20 01:00:00+00:00</td>\n",
       "      <td>17</td>\n",
       "    </tr>\n",
       "    <tr>\n",
       "      <th>23</th>\n",
       "      <td>1.09546</td>\n",
       "      <td>1</td>\n",
       "      <td>1.096285</td>\n",
       "      <td>1.09491</td>\n",
       "      <td>2016-01-20 07:00:00+00:00</td>\n",
       "      <td>23</td>\n",
       "    </tr>\n",
       "    <tr>\n",
       "      <th>25</th>\n",
       "      <td>1.09625</td>\n",
       "      <td>1</td>\n",
       "      <td>1.099655</td>\n",
       "      <td>1.09398</td>\n",
       "      <td>2016-01-20 09:00:00+00:00</td>\n",
       "      <td>25</td>\n",
       "    </tr>\n",
       "  </tbody>\n",
       "</table>\n",
       "</div>"
      ],
      "text/plain": [
       "      mid_c  SIGNAL        TP       SL                  m5_start  \\\n",
       "4   1.08630      -1  1.084830  1.08728 2016-01-19 12:00:00+00:00   \n",
       "15  1.09140       1  1.092600  1.09060 2016-01-19 23:00:00+00:00   \n",
       "17  1.09214       1  1.093670  1.09112 2016-01-20 01:00:00+00:00   \n",
       "23  1.09546       1  1.096285  1.09491 2016-01-20 07:00:00+00:00   \n",
       "25  1.09625       1  1.099655  1.09398 2016-01-20 09:00:00+00:00   \n",
       "\n",
       "    start_index_h1  \n",
       "4                4  \n",
       "15              15  \n",
       "17              17  \n",
       "23              23  \n",
       "25              25  "
      ]
     },
     "execution_count": 108,
     "metadata": {},
     "output_type": "execute_result"
    }
   ],
   "source": [
    "df_signals.head()"
   ]
  },
  {
   "cell_type": "code",
   "execution_count": 109,
   "id": "8d3db758",
   "metadata": {},
   "outputs": [],
   "source": [
    "df_signals.rename(columns={\n",
    "    'mid_c' : 'start_price',\n",
    "    'm5_start' : 'time'\n",
    "}, inplace=True)"
   ]
  },
  {
   "cell_type": "code",
   "execution_count": 110,
   "id": "aec9d5ae",
   "metadata": {},
   "outputs": [
    {
     "data": {
      "text/html": [
       "<div>\n",
       "<style scoped>\n",
       "    .dataframe tbody tr th:only-of-type {\n",
       "        vertical-align: middle;\n",
       "    }\n",
       "\n",
       "    .dataframe tbody tr th {\n",
       "        vertical-align: top;\n",
       "    }\n",
       "\n",
       "    .dataframe thead th {\n",
       "        text-align: right;\n",
       "    }\n",
       "</style>\n",
       "<table border=\"1\" class=\"dataframe\">\n",
       "  <thead>\n",
       "    <tr style=\"text-align: right;\">\n",
       "      <th></th>\n",
       "      <th>start_price</th>\n",
       "      <th>SIGNAL</th>\n",
       "      <th>TP</th>\n",
       "      <th>SL</th>\n",
       "      <th>time</th>\n",
       "      <th>start_index_h1</th>\n",
       "    </tr>\n",
       "  </thead>\n",
       "  <tbody>\n",
       "    <tr>\n",
       "      <th>4</th>\n",
       "      <td>1.0863</td>\n",
       "      <td>-1</td>\n",
       "      <td>1.08483</td>\n",
       "      <td>1.08728</td>\n",
       "      <td>2016-01-19 12:00:00+00:00</td>\n",
       "      <td>4</td>\n",
       "    </tr>\n",
       "    <tr>\n",
       "      <th>15</th>\n",
       "      <td>1.0914</td>\n",
       "      <td>1</td>\n",
       "      <td>1.09260</td>\n",
       "      <td>1.09060</td>\n",
       "      <td>2016-01-19 23:00:00+00:00</td>\n",
       "      <td>15</td>\n",
       "    </tr>\n",
       "  </tbody>\n",
       "</table>\n",
       "</div>"
      ],
      "text/plain": [
       "    start_price  SIGNAL       TP       SL                      time  \\\n",
       "4        1.0863      -1  1.08483  1.08728 2016-01-19 12:00:00+00:00   \n",
       "15       1.0914       1  1.09260  1.09060 2016-01-19 23:00:00+00:00   \n",
       "\n",
       "    start_index_h1  \n",
       "4                4  \n",
       "15              15  "
      ]
     },
     "execution_count": 110,
     "metadata": {},
     "output_type": "execute_result"
    }
   ],
   "source": [
    "df_signals.head(2)"
   ]
  },
  {
   "cell_type": "code",
   "execution_count": 111,
   "id": "ae7ca4af",
   "metadata": {},
   "outputs": [
    {
     "data": {
      "text/html": [
       "<div>\n",
       "<style scoped>\n",
       "    .dataframe tbody tr th:only-of-type {\n",
       "        vertical-align: middle;\n",
       "    }\n",
       "\n",
       "    .dataframe tbody tr th {\n",
       "        vertical-align: top;\n",
       "    }\n",
       "\n",
       "    .dataframe thead th {\n",
       "        text-align: right;\n",
       "    }\n",
       "</style>\n",
       "<table border=\"1\" class=\"dataframe\">\n",
       "  <thead>\n",
       "    <tr style=\"text-align: right;\">\n",
       "      <th></th>\n",
       "      <th>time</th>\n",
       "      <th>mid_h</th>\n",
       "      <th>mid_l</th>\n",
       "    </tr>\n",
       "  </thead>\n",
       "  <tbody>\n",
       "    <tr>\n",
       "      <th>0</th>\n",
       "      <td>2016-01-07 00:00:00+00:00</td>\n",
       "      <td>1.07811</td>\n",
       "      <td>1.07759</td>\n",
       "    </tr>\n",
       "    <tr>\n",
       "      <th>1</th>\n",
       "      <td>2016-01-07 00:05:00+00:00</td>\n",
       "      <td>1.07818</td>\n",
       "      <td>1.07764</td>\n",
       "    </tr>\n",
       "  </tbody>\n",
       "</table>\n",
       "</div>"
      ],
      "text/plain": [
       "                       time    mid_h    mid_l\n",
       "0 2016-01-07 00:00:00+00:00  1.07811  1.07759\n",
       "1 2016-01-07 00:05:00+00:00  1.07818  1.07764"
      ]
     },
     "execution_count": 111,
     "metadata": {},
     "output_type": "execute_result"
    }
   ],
   "source": [
    "df_m5_slim.head(2)"
   ]
  },
  {
   "cell_type": "code",
   "execution_count": 113,
   "id": "48ffdab0",
   "metadata": {},
   "outputs": [],
   "source": [
    "merged = pd.merge(left=df_m5_slim, right=df_signals, on='time', how='left')"
   ]
  },
  {
   "cell_type": "code",
   "execution_count": 114,
   "id": "e82a939b",
   "metadata": {},
   "outputs": [],
   "source": [
    "merged.fillna(0, inplace=True)"
   ]
  },
  {
   "cell_type": "code",
   "execution_count": 115,
   "id": "4b9fac68",
   "metadata": {},
   "outputs": [],
   "source": [
    "merged.SIGNAL = merged.SIGNAL.astype(int)\n",
    "merged.start_index_h1 = merged.start_index_h1.astype(int)"
   ]
  },
  {
   "cell_type": "code",
   "execution_count": 117,
   "id": "d6b724e3",
   "metadata": {},
   "outputs": [
    {
     "data": {
      "text/html": [
       "<div>\n",
       "<style scoped>\n",
       "    .dataframe tbody tr th:only-of-type {\n",
       "        vertical-align: middle;\n",
       "    }\n",
       "\n",
       "    .dataframe tbody tr th {\n",
       "        vertical-align: top;\n",
       "    }\n",
       "\n",
       "    .dataframe thead th {\n",
       "        text-align: right;\n",
       "    }\n",
       "</style>\n",
       "<table border=\"1\" class=\"dataframe\">\n",
       "  <thead>\n",
       "    <tr style=\"text-align: right;\">\n",
       "      <th></th>\n",
       "      <th>time</th>\n",
       "      <th>mid_h</th>\n",
       "      <th>mid_l</th>\n",
       "      <th>start_price</th>\n",
       "      <th>SIGNAL</th>\n",
       "      <th>TP</th>\n",
       "      <th>SL</th>\n",
       "      <th>start_index_h1</th>\n",
       "    </tr>\n",
       "  </thead>\n",
       "  <tbody>\n",
       "    <tr>\n",
       "      <th>0</th>\n",
       "      <td>2016-01-07 00:00:00+00:00</td>\n",
       "      <td>1.07811</td>\n",
       "      <td>1.07759</td>\n",
       "      <td>0.0</td>\n",
       "      <td>0</td>\n",
       "      <td>0.0</td>\n",
       "      <td>0.0</td>\n",
       "      <td>0</td>\n",
       "    </tr>\n",
       "    <tr>\n",
       "      <th>1</th>\n",
       "      <td>2016-01-07 00:05:00+00:00</td>\n",
       "      <td>1.07818</td>\n",
       "      <td>1.07764</td>\n",
       "      <td>0.0</td>\n",
       "      <td>0</td>\n",
       "      <td>0.0</td>\n",
       "      <td>0.0</td>\n",
       "      <td>0</td>\n",
       "    </tr>\n",
       "    <tr>\n",
       "      <th>2</th>\n",
       "      <td>2016-01-07 00:10:00+00:00</td>\n",
       "      <td>1.07832</td>\n",
       "      <td>1.07812</td>\n",
       "      <td>0.0</td>\n",
       "      <td>0</td>\n",
       "      <td>0.0</td>\n",
       "      <td>0.0</td>\n",
       "      <td>0</td>\n",
       "    </tr>\n",
       "    <tr>\n",
       "      <th>3</th>\n",
       "      <td>2016-01-07 00:15:00+00:00</td>\n",
       "      <td>1.07830</td>\n",
       "      <td>1.07798</td>\n",
       "      <td>0.0</td>\n",
       "      <td>0</td>\n",
       "      <td>0.0</td>\n",
       "      <td>0.0</td>\n",
       "      <td>0</td>\n",
       "    </tr>\n",
       "    <tr>\n",
       "      <th>4</th>\n",
       "      <td>2016-01-07 00:20:00+00:00</td>\n",
       "      <td>1.07799</td>\n",
       "      <td>1.07776</td>\n",
       "      <td>0.0</td>\n",
       "      <td>0</td>\n",
       "      <td>0.0</td>\n",
       "      <td>0.0</td>\n",
       "      <td>0</td>\n",
       "    </tr>\n",
       "  </tbody>\n",
       "</table>\n",
       "</div>"
      ],
      "text/plain": [
       "                       time    mid_h    mid_l  start_price  SIGNAL   TP   SL  \\\n",
       "0 2016-01-07 00:00:00+00:00  1.07811  1.07759          0.0       0  0.0  0.0   \n",
       "1 2016-01-07 00:05:00+00:00  1.07818  1.07764          0.0       0  0.0  0.0   \n",
       "2 2016-01-07 00:10:00+00:00  1.07832  1.07812          0.0       0  0.0  0.0   \n",
       "3 2016-01-07 00:15:00+00:00  1.07830  1.07798          0.0       0  0.0  0.0   \n",
       "4 2016-01-07 00:20:00+00:00  1.07799  1.07776          0.0       0  0.0  0.0   \n",
       "\n",
       "   start_index_h1  \n",
       "0               0  \n",
       "1               0  \n",
       "2               0  \n",
       "3               0  \n",
       "4               0  "
      ]
     },
     "execution_count": 117,
     "metadata": {},
     "output_type": "execute_result"
    }
   ],
   "source": [
    "merged.head()"
   ]
  },
  {
   "cell_type": "code",
   "execution_count": 118,
   "id": "21750564",
   "metadata": {},
   "outputs": [],
   "source": [
    "class TradeM5:\n",
    "    def __init__(self, row):\n",
    "        self.running = True\n",
    "        self.start_index_m5 = row.name\n",
    "        self.start_index_h1 = row.start_index_h1\n",
    "        self.start_price = row.start_price\n",
    "        self.trigger_price = row.start_price\n",
    "        self.SIGNAL = row.SIGNAL\n",
    "        self.TP = row.TP\n",
    "        self.SL = row.SL\n",
    "        self.result = 0.0\n",
    "        self.end_time = row.time\n",
    "        self.start_time = row.time\n",
    "        self.duration = 1\n",
    "        \n",
    "    def close_trade(self, row, result, trigger_price):\n",
    "        self.running = False\n",
    "        self.result = result\n",
    "        self.end_time = row.time\n",
    "        self.trigger_price = trigger_price\n",
    "        \n",
    "    def update(self, row):\n",
    "        self.duration += 1\n",
    "        if self.SIGNAL == BUY:\n",
    "            if row.mid_h >= self.TP:\n",
    "                self.close_trade(row, PROFIT_FACTOR, row.mid_h)\n",
    "            elif row.mid_l <= self.SL:\n",
    "                self.close_trade(row, LOSS_FACTOR, row.mid_l)\n",
    "        if self.SIGNAL == SELL:\n",
    "            if row.mid_l <= self.TP:\n",
    "                self.close_trade(row, PROFIT_FACTOR, row.mid_l)\n",
    "            elif row.mid_h >= self.SL:\n",
    "                self.close_trade(row, LOSS_FACTOR, row.mid_h)   "
   ]
  },
  {
   "cell_type": "code",
   "execution_count": 119,
   "id": "9899d481",
   "metadata": {},
   "outputs": [],
   "source": [
    "open_trades_m5 = []\n",
    "closed_trades_m5 = []\n",
    "\n",
    "for index, row in merged.iterrows():\n",
    "    for ot in open_trades_m5:\n",
    "        ot.update(row)\n",
    "        if ot.running == False:\n",
    "            closed_trades_m5.append(ot)\n",
    "    open_trades_m5 = [x for x in open_trades_m5 if x.running == True]\n",
    "    \n",
    "    if row.SIGNAL != NONE:\n",
    "        open_trades_m5.append(TradeM5(row))   "
   ]
  },
  {
   "cell_type": "code",
   "execution_count": 120,
   "id": "0bb7407d",
   "metadata": {},
   "outputs": [],
   "source": [
    "df_res_m5 = pd.DataFrame.from_dict([vars(x) for x in closed_trades_m5])"
   ]
  },
  {
   "cell_type": "code",
   "execution_count": 121,
   "id": "356f448c",
   "metadata": {},
   "outputs": [
    {
     "data": {
      "text/html": [
       "<div>\n",
       "<style scoped>\n",
       "    .dataframe tbody tr th:only-of-type {\n",
       "        vertical-align: middle;\n",
       "    }\n",
       "\n",
       "    .dataframe tbody tr th {\n",
       "        vertical-align: top;\n",
       "    }\n",
       "\n",
       "    .dataframe thead th {\n",
       "        text-align: right;\n",
       "    }\n",
       "</style>\n",
       "<table border=\"1\" class=\"dataframe\">\n",
       "  <thead>\n",
       "    <tr style=\"text-align: right;\">\n",
       "      <th></th>\n",
       "      <th>running</th>\n",
       "      <th>start_index_m5</th>\n",
       "      <th>start_index_h1</th>\n",
       "      <th>start_price</th>\n",
       "      <th>trigger_price</th>\n",
       "      <th>SIGNAL</th>\n",
       "      <th>TP</th>\n",
       "      <th>SL</th>\n",
       "      <th>result</th>\n",
       "      <th>end_time</th>\n",
       "      <th>start_time</th>\n",
       "      <th>duration</th>\n",
       "    </tr>\n",
       "  </thead>\n",
       "  <tbody>\n",
       "    <tr>\n",
       "      <th>0</th>\n",
       "      <td>False</td>\n",
       "      <td>2445</td>\n",
       "      <td>4</td>\n",
       "      <td>1.08630</td>\n",
       "      <td>1.08740</td>\n",
       "      <td>-1</td>\n",
       "      <td>1.084830</td>\n",
       "      <td>1.08728</td>\n",
       "      <td>-1.0</td>\n",
       "      <td>2016-01-19 12:05:00+00:00</td>\n",
       "      <td>2016-01-19 12:00:00+00:00</td>\n",
       "      <td>2</td>\n",
       "    </tr>\n",
       "    <tr>\n",
       "      <th>1</th>\n",
       "      <td>False</td>\n",
       "      <td>2577</td>\n",
       "      <td>15</td>\n",
       "      <td>1.09140</td>\n",
       "      <td>1.09056</td>\n",
       "      <td>1</td>\n",
       "      <td>1.092600</td>\n",
       "      <td>1.09060</td>\n",
       "      <td>-1.0</td>\n",
       "      <td>2016-01-19 23:20:00+00:00</td>\n",
       "      <td>2016-01-19 23:00:00+00:00</td>\n",
       "      <td>5</td>\n",
       "    </tr>\n",
       "    <tr>\n",
       "      <th>2</th>\n",
       "      <td>False</td>\n",
       "      <td>2601</td>\n",
       "      <td>17</td>\n",
       "      <td>1.09214</td>\n",
       "      <td>1.09412</td>\n",
       "      <td>1</td>\n",
       "      <td>1.093670</td>\n",
       "      <td>1.09112</td>\n",
       "      <td>1.5</td>\n",
       "      <td>2016-01-20 03:00:00+00:00</td>\n",
       "      <td>2016-01-20 01:00:00+00:00</td>\n",
       "      <td>25</td>\n",
       "    </tr>\n",
       "    <tr>\n",
       "      <th>3</th>\n",
       "      <td>False</td>\n",
       "      <td>2673</td>\n",
       "      <td>23</td>\n",
       "      <td>1.09546</td>\n",
       "      <td>1.09469</td>\n",
       "      <td>1</td>\n",
       "      <td>1.096285</td>\n",
       "      <td>1.09491</td>\n",
       "      <td>-1.0</td>\n",
       "      <td>2016-01-20 07:30:00+00:00</td>\n",
       "      <td>2016-01-20 07:00:00+00:00</td>\n",
       "      <td>7</td>\n",
       "    </tr>\n",
       "    <tr>\n",
       "      <th>4</th>\n",
       "      <td>False</td>\n",
       "      <td>2697</td>\n",
       "      <td>25</td>\n",
       "      <td>1.09625</td>\n",
       "      <td>1.09370</td>\n",
       "      <td>1</td>\n",
       "      <td>1.099655</td>\n",
       "      <td>1.09398</td>\n",
       "      <td>-1.0</td>\n",
       "      <td>2016-01-20 09:20:00+00:00</td>\n",
       "      <td>2016-01-20 09:00:00+00:00</td>\n",
       "      <td>5</td>\n",
       "    </tr>\n",
       "  </tbody>\n",
       "</table>\n",
       "</div>"
      ],
      "text/plain": [
       "   running  start_index_m5  start_index_h1  start_price  trigger_price  \\\n",
       "0    False            2445               4      1.08630        1.08740   \n",
       "1    False            2577              15      1.09140        1.09056   \n",
       "2    False            2601              17      1.09214        1.09412   \n",
       "3    False            2673              23      1.09546        1.09469   \n",
       "4    False            2697              25      1.09625        1.09370   \n",
       "\n",
       "   SIGNAL        TP       SL  result                  end_time  \\\n",
       "0      -1  1.084830  1.08728    -1.0 2016-01-19 12:05:00+00:00   \n",
       "1       1  1.092600  1.09060    -1.0 2016-01-19 23:20:00+00:00   \n",
       "2       1  1.093670  1.09112     1.5 2016-01-20 03:00:00+00:00   \n",
       "3       1  1.096285  1.09491    -1.0 2016-01-20 07:30:00+00:00   \n",
       "4       1  1.099655  1.09398    -1.0 2016-01-20 09:20:00+00:00   \n",
       "\n",
       "                 start_time  duration  \n",
       "0 2016-01-19 12:00:00+00:00         2  \n",
       "1 2016-01-19 23:00:00+00:00         5  \n",
       "2 2016-01-20 01:00:00+00:00        25  \n",
       "3 2016-01-20 07:00:00+00:00         7  \n",
       "4 2016-01-20 09:00:00+00:00         5  "
      ]
     },
     "execution_count": 121,
     "metadata": {},
     "output_type": "execute_result"
    }
   ],
   "source": [
    "df_res_m5.head()"
   ]
  },
  {
   "cell_type": "code",
   "execution_count": 122,
   "id": "8f4fb66c",
   "metadata": {},
   "outputs": [
    {
     "data": {
      "text/plain": [
       "-86.5"
      ]
     },
     "execution_count": 122,
     "metadata": {},
     "output_type": "execute_result"
    }
   ],
   "source": [
    "df_res_m5.result.sum()"
   ]
  },
  {
   "cell_type": "code",
   "execution_count": null,
   "id": "36fab442",
   "metadata": {},
   "outputs": [],
   "source": []
  },
  {
   "cell_type": "code",
   "execution_count": null,
   "id": "d9b1f5f0",
   "metadata": {},
   "outputs": [],
   "source": []
  },
  {
   "cell_type": "code",
   "execution_count": null,
   "id": "b3aae0b2",
   "metadata": {},
   "outputs": [],
   "source": []
  },
  {
   "cell_type": "code",
   "execution_count": null,
   "id": "990d4bde",
   "metadata": {},
   "outputs": [],
   "source": []
  },
  {
   "cell_type": "code",
   "execution_count": null,
   "id": "3f968cf3",
   "metadata": {},
   "outputs": [],
   "source": []
  }
 ],
 "metadata": {
  "kernelspec": {
   "display_name": "Python 3 (ipykernel)",
   "language": "python",
   "name": "python3"
  },
  "language_info": {
   "codemirror_mode": {
    "name": "ipython",
    "version": 3
   },
   "file_extension": ".py",
   "mimetype": "text/x-python",
   "name": "python",
   "nbconvert_exporter": "python",
   "pygments_lexer": "ipython3",
   "version": "3.12.1"
  }
 },
 "nbformat": 4,
 "nbformat_minor": 5
}
