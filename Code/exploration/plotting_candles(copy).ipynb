{
 "cells": [
  {
   "cell_type": "code",
   "execution_count": 1,
   "id": "1a9397de-ba92-47ed-8d13-59ed12b08b52",
   "metadata": {},
   "outputs": [],
   "source": [
    "import pandas as pd\n",
    "import plotly.graph_objects as go\n",
    "import datetime as dt"
   ]
  },
  {
   "cell_type": "code",
   "execution_count": 2,
   "id": "198c7322-7992-4391-be35-5196ca1b731c",
   "metadata": {},
   "outputs": [],
   "source": [
    "pair = \"EUR_USD\"\n",
    "granularity=\"H4\"\n",
    "df = pd.read_pickle(f\"../data/{pair}_{granularity}.pkl\")"
   ]
  },
  {
   "cell_type": "code",
   "execution_count": 33,
   "id": "bbcc0452-a28b-4253-a55e-5b0115d70d31",
   "metadata": {},
   "outputs": [
    {
     "data": {
      "text/html": [
       "<div>\n",
       "<style scoped>\n",
       "    .dataframe tbody tr th:only-of-type {\n",
       "        vertical-align: middle;\n",
       "    }\n",
       "\n",
       "    .dataframe tbody tr th {\n",
       "        vertical-align: top;\n",
       "    }\n",
       "\n",
       "    .dataframe thead th {\n",
       "        text-align: right;\n",
       "    }\n",
       "</style>\n",
       "<table border=\"1\" class=\"dataframe\">\n",
       "  <thead>\n",
       "    <tr style=\"text-align: right;\">\n",
       "      <th></th>\n",
       "      <th>time</th>\n",
       "      <th>volume</th>\n",
       "      <th>mid_o</th>\n",
       "      <th>mid_h</th>\n",
       "      <th>mid_l</th>\n",
       "      <th>mid_c</th>\n",
       "      <th>bid_o</th>\n",
       "      <th>bid_h</th>\n",
       "      <th>bid_l</th>\n",
       "      <th>bid_c</th>\n",
       "      <th>ask_o</th>\n",
       "      <th>ask_h</th>\n",
       "      <th>ask_l</th>\n",
       "      <th>ask_c</th>\n",
       "      <th>sTime</th>\n",
       "    </tr>\n",
       "  </thead>\n",
       "  <tbody>\n",
       "    <tr>\n",
       "      <th>3996</th>\n",
       "      <td>2024-01-19 02:00:00+00:00</td>\n",
       "      <td>7271</td>\n",
       "      <td>1.08854</td>\n",
       "      <td>1.08898</td>\n",
       "      <td>1.08796</td>\n",
       "      <td>1.08810</td>\n",
       "      <td>1.08847</td>\n",
       "      <td>1.08890</td>\n",
       "      <td>1.08789</td>\n",
       "      <td>1.08802</td>\n",
       "      <td>1.08862</td>\n",
       "      <td>1.08905</td>\n",
       "      <td>1.08804</td>\n",
       "      <td>1.08817</td>\n",
       "      <td>s24-01-19 02:00</td>\n",
       "    </tr>\n",
       "    <tr>\n",
       "      <th>3997</th>\n",
       "      <td>2024-01-19 06:00:00+00:00</td>\n",
       "      <td>15481</td>\n",
       "      <td>1.08806</td>\n",
       "      <td>1.08864</td>\n",
       "      <td>1.08680</td>\n",
       "      <td>1.08831</td>\n",
       "      <td>1.08799</td>\n",
       "      <td>1.08857</td>\n",
       "      <td>1.08673</td>\n",
       "      <td>1.08823</td>\n",
       "      <td>1.08814</td>\n",
       "      <td>1.08871</td>\n",
       "      <td>1.08688</td>\n",
       "      <td>1.08839</td>\n",
       "      <td>s24-01-19 06:00</td>\n",
       "    </tr>\n",
       "    <tr>\n",
       "      <th>3998</th>\n",
       "      <td>2024-01-19 10:00:00+00:00</td>\n",
       "      <td>15346</td>\n",
       "      <td>1.08828</td>\n",
       "      <td>1.08932</td>\n",
       "      <td>1.08731</td>\n",
       "      <td>1.08807</td>\n",
       "      <td>1.08821</td>\n",
       "      <td>1.08924</td>\n",
       "      <td>1.08723</td>\n",
       "      <td>1.08800</td>\n",
       "      <td>1.08836</td>\n",
       "      <td>1.08940</td>\n",
       "      <td>1.08739</td>\n",
       "      <td>1.08814</td>\n",
       "      <td>s24-01-19 10:00</td>\n",
       "    </tr>\n",
       "    <tr>\n",
       "      <th>3999</th>\n",
       "      <td>2024-01-19 14:00:00+00:00</td>\n",
       "      <td>27273</td>\n",
       "      <td>1.08806</td>\n",
       "      <td>1.08935</td>\n",
       "      <td>1.08657</td>\n",
       "      <td>1.08898</td>\n",
       "      <td>1.08799</td>\n",
       "      <td>1.08927</td>\n",
       "      <td>1.08649</td>\n",
       "      <td>1.08890</td>\n",
       "      <td>1.08813</td>\n",
       "      <td>1.08943</td>\n",
       "      <td>1.08665</td>\n",
       "      <td>1.08905</td>\n",
       "      <td>s24-01-19 14:00</td>\n",
       "    </tr>\n",
       "    <tr>\n",
       "      <th>4000</th>\n",
       "      <td>2024-01-19 18:00:00+00:00</td>\n",
       "      <td>11775</td>\n",
       "      <td>1.08898</td>\n",
       "      <td>1.08978</td>\n",
       "      <td>1.08858</td>\n",
       "      <td>1.08976</td>\n",
       "      <td>1.08891</td>\n",
       "      <td>1.08970</td>\n",
       "      <td>1.08851</td>\n",
       "      <td>1.08966</td>\n",
       "      <td>1.08905</td>\n",
       "      <td>1.08986</td>\n",
       "      <td>1.08866</td>\n",
       "      <td>1.08986</td>\n",
       "      <td>s24-01-19 18:00</td>\n",
       "    </tr>\n",
       "  </tbody>\n",
       "</table>\n",
       "</div>"
      ],
      "text/plain": [
       "                          time  volume    mid_o    mid_h    mid_l    mid_c  \\\n",
       "3996 2024-01-19 02:00:00+00:00    7271  1.08854  1.08898  1.08796  1.08810   \n",
       "3997 2024-01-19 06:00:00+00:00   15481  1.08806  1.08864  1.08680  1.08831   \n",
       "3998 2024-01-19 10:00:00+00:00   15346  1.08828  1.08932  1.08731  1.08807   \n",
       "3999 2024-01-19 14:00:00+00:00   27273  1.08806  1.08935  1.08657  1.08898   \n",
       "4000 2024-01-19 18:00:00+00:00   11775  1.08898  1.08978  1.08858  1.08976   \n",
       "\n",
       "        bid_o    bid_h    bid_l    bid_c    ask_o    ask_h    ask_l    ask_c  \\\n",
       "3996  1.08847  1.08890  1.08789  1.08802  1.08862  1.08905  1.08804  1.08817   \n",
       "3997  1.08799  1.08857  1.08673  1.08823  1.08814  1.08871  1.08688  1.08839   \n",
       "3998  1.08821  1.08924  1.08723  1.08800  1.08836  1.08940  1.08739  1.08814   \n",
       "3999  1.08799  1.08927  1.08649  1.08890  1.08813  1.08943  1.08665  1.08905   \n",
       "4000  1.08891  1.08970  1.08851  1.08966  1.08905  1.08986  1.08866  1.08986   \n",
       "\n",
       "                sTime  \n",
       "3996  s24-01-19 02:00  \n",
       "3997  s24-01-19 06:00  \n",
       "3998  s24-01-19 10:00  \n",
       "3999  s24-01-19 14:00  \n",
       "4000  s24-01-19 18:00  "
      ]
     },
     "execution_count": 33,
     "metadata": {},
     "output_type": "execute_result"
    }
   ],
   "source": [
    "df.tail()"
   ]
  },
  {
   "cell_type": "code",
   "execution_count": 30,
   "id": "668e8b05-8bed-4662-b765-185b4927444a",
   "metadata": {},
   "outputs": [],
   "source": [
    "df['sTime']=[dt.datetime.strftime(x, \"s%y-%m-%d %H:%M\") for x in df.time]"
   ]
  },
  {
   "cell_type": "code",
   "execution_count": 36,
   "id": "cae1d5d0-df80-4ce8-b8a4-867820241a30",
   "metadata": {},
   "outputs": [],
   "source": [
    "df_plot = df.iloc[:100]"
   ]
  },
  {
   "cell_type": "code",
   "execution_count": 38,
   "id": "818d5a1b-cfd8-4029-b7d6-6c46d0c582ea",
   "metadata": {},
   "outputs": [
    {
     "data": {
      "application/vnd.plotly.v1+json": {
       "config": {
        "plotlyServerURL": "https://plot.ly"
       },
       "data": [
        {
         "close": [
          1.19226,
          1.19414,
          1.19216,
          1.19228,
          1.19244,
          1.19192,
          1.19104,
          1.19016,
          1.18826,
          1.18962,
          1.18969,
          1.19003,
          1.18998,
          1.18862,
          1.18824,
          1.18486,
          1.18566,
          1.18487,
          1.18492,
          1.18447,
          1.18784,
          1.18492,
          1.18496,
          1.18431,
          1.18447,
          1.18278,
          1.18476,
          1.18436,
          1.18654,
          1.18574,
          1.1857,
          1.18704,
          1.18634,
          1.1868,
          1.18637,
          1.18606,
          1.18744,
          1.18454,
          1.18362,
          1.18147,
          1.18231,
          1.1821,
          1.18238,
          1.18242,
          1.18158,
          1.18002,
          1.17911,
          1.17911,
          1.17961,
          1.18222,
          1.18516,
          1.18446,
          1.18461,
          1.18408,
          1.18318,
          1.18324,
          1.18687,
          1.18682,
          1.1877,
          1.18754,
          1.18684,
          1.18708,
          1.18532,
          1.18574,
          1.18604,
          1.18666,
          1.18638,
          1.185,
          1.17994,
          1.18044,
          1.17763,
          1.17764,
          1.17838,
          1.17838,
          1.1822,
          1.18325,
          1.18364,
          1.18336,
          1.18309,
          1.1849,
          1.18066,
          1.1803,
          1.18106,
          1.18116,
          1.18096,
          1.18181,
          1.18019,
          1.18112,
          1.18052,
          1.18021,
          1.18062,
          1.17733,
          1.17869,
          1.1799,
          1.17986,
          1.17949,
          1.17888,
          1.1788,
          1.17726,
          1.17778
         ],
         "decreasing": {
          "fillcolor": "#CC2E3C",
          "line": {
           "color": "#FF3A4C"
          }
         },
         "high": [
          1.19384,
          1.19447,
          1.19439,
          1.19398,
          1.19292,
          1.19304,
          1.19246,
          1.19232,
          1.19134,
          1.19116,
          1.19056,
          1.19067,
          1.1909,
          1.1908,
          1.18982,
          1.18826,
          1.18615,
          1.18604,
          1.18542,
          1.18602,
          1.18842,
          1.18822,
          1.18548,
          1.18524,
          1.18467,
          1.18478,
          1.18572,
          1.18594,
          1.18743,
          1.18705,
          1.18629,
          1.18734,
          1.18808,
          1.18695,
          1.187,
          1.18694,
          1.1876,
          1.18954,
          1.18511,
          1.18429,
          1.18281,
          1.1825,
          1.1827,
          1.18346,
          1.18361,
          1.18185,
          1.18204,
          1.17991,
          1.17963,
          1.18253,
          1.18594,
          1.1868,
          1.18486,
          1.18501,
          1.18437,
          1.18468,
          1.18688,
          1.1875,
          1.18814,
          1.1878,
          1.18802,
          1.188,
          1.18735,
          1.18744,
          1.18622,
          1.18686,
          1.18752,
          1.18655,
          1.18509,
          1.1833,
          1.18044,
          1.17822,
          1.17854,
          1.17994,
          1.1828,
          1.18354,
          1.18388,
          1.18387,
          1.18348,
          1.18508,
          1.18499,
          1.18236,
          1.18131,
          1.1817,
          1.18126,
          1.18196,
          1.18225,
          1.18144,
          1.1819,
          1.18139,
          1.18086,
          1.18086,
          1.17887,
          1.18246,
          1.18026,
          1.18025,
          1.18022,
          1.1795,
          1.18026,
          1.17807
         ],
         "increasing": {
          "fillcolor": "#24A06B",
          "line": {
           "color": "#2EC886"
          }
         },
         "line": {
          "width": 1
         },
         "low": [
          1.19202,
          1.1922,
          1.19024,
          1.19112,
          1.192,
          1.19178,
          1.19076,
          1.18993,
          1.18798,
          1.18778,
          1.1893,
          1.18966,
          1.18967,
          1.1885,
          1.18762,
          1.18451,
          1.1846,
          1.18466,
          1.18462,
          1.18374,
          1.18404,
          1.18472,
          1.1841,
          1.1841,
          1.18406,
          1.18222,
          1.18075,
          1.18258,
          1.18414,
          1.18536,
          1.18514,
          1.18519,
          1.186,
          1.18554,
          1.18612,
          1.18599,
          1.18585,
          1.18426,
          1.18311,
          1.1807,
          1.18133,
          1.18155,
          1.18176,
          1.1812,
          1.18126,
          1.17815,
          1.17893,
          1.17896,
          1.17836,
          1.17923,
          1.18215,
          1.18368,
          1.18352,
          1.18384,
          1.18316,
          1.1825,
          1.18288,
          1.18555,
          1.18674,
          1.1866,
          1.18654,
          1.1856,
          1.1836,
          1.18508,
          1.18552,
          1.18587,
          1.18622,
          1.18412,
          1.1794,
          1.17918,
          1.17721,
          1.17719,
          1.17758,
          1.17801,
          1.1776,
          1.1813,
          1.18255,
          1.18288,
          1.18212,
          1.18258,
          1.18036,
          1.18006,
          1.17962,
          1.1809,
          1.18021,
          1.17971,
          1.17922,
          1.17958,
          1.1803,
          1.18012,
          1.1798,
          1.17654,
          1.17638,
          1.17838,
          1.17911,
          1.17902,
          1.17882,
          1.17722,
          1.1765,
          1.17556
         ],
         "opacity": 1,
         "open": [
          1.19366,
          1.19228,
          1.19416,
          1.19214,
          1.19226,
          1.19252,
          1.19194,
          1.19106,
          1.19018,
          1.18825,
          1.18961,
          1.18974,
          1.19001,
          1.18996,
          1.18864,
          1.18826,
          1.18486,
          1.1857,
          1.18486,
          1.18494,
          1.18448,
          1.18785,
          1.1849,
          1.18506,
          1.1843,
          1.18446,
          1.1828,
          1.18474,
          1.18434,
          1.18665,
          1.18572,
          1.18568,
          1.18702,
          1.18636,
          1.18678,
          1.18644,
          1.18608,
          1.18743,
          1.18456,
          1.1836,
          1.18148,
          1.1824,
          1.18209,
          1.18238,
          1.1824,
          1.18157,
          1.18004,
          1.17908,
          1.17912,
          1.1796,
          1.18224,
          1.18514,
          1.18448,
          1.18444,
          1.18406,
          1.1832,
          1.18323,
          1.18686,
          1.18681,
          1.1876,
          1.18756,
          1.18682,
          1.1871,
          1.18533,
          1.18575,
          1.18602,
          1.1867,
          1.18639,
          1.18498,
          1.17996,
          1.18043,
          1.17765,
          1.17766,
          1.17836,
          1.17836,
          1.18222,
          1.18324,
          1.18378,
          1.18338,
          1.1831,
          1.18488,
          1.18066,
          1.18028,
          1.18106,
          1.18117,
          1.18098,
          1.1818,
          1.18018,
          1.18114,
          1.181,
          1.18022,
          1.18061,
          1.17732,
          1.1787,
          1.17991,
          1.17997,
          1.1795,
          1.17886,
          1.17878,
          1.17726
         ],
         "type": "candlestick",
         "x": [
          "s21-06-28 01:00",
          "s21-06-28 05:00",
          "s21-06-28 09:00",
          "s21-06-28 13:00",
          "s21-06-28 17:00",
          "s21-06-28 21:00",
          "s21-06-29 01:00",
          "s21-06-29 05:00",
          "s21-06-29 09:00",
          "s21-06-29 13:00",
          "s21-06-29 17:00",
          "s21-06-29 21:00",
          "s21-06-30 01:00",
          "s21-06-30 05:00",
          "s21-06-30 09:00",
          "s21-06-30 13:00",
          "s21-06-30 17:00",
          "s21-06-30 21:00",
          "s21-07-01 01:00",
          "s21-07-01 05:00",
          "s21-07-01 09:00",
          "s21-07-01 13:00",
          "s21-07-01 17:00",
          "s21-07-01 21:00",
          "s21-07-02 01:00",
          "s21-07-02 05:00",
          "s21-07-02 09:00",
          "s21-07-02 13:00",
          "s21-07-02 17:00",
          "s21-07-04 21:00",
          "s21-07-05 01:00",
          "s21-07-05 05:00",
          "s21-07-05 09:00",
          "s21-07-05 13:00",
          "s21-07-05 17:00",
          "s21-07-05 21:00",
          "s21-07-06 01:00",
          "s21-07-06 05:00",
          "s21-07-06 09:00",
          "s21-07-06 13:00",
          "s21-07-06 17:00",
          "s21-07-06 21:00",
          "s21-07-07 01:00",
          "s21-07-07 05:00",
          "s21-07-07 09:00",
          "s21-07-07 13:00",
          "s21-07-07 17:00",
          "s21-07-07 21:00",
          "s21-07-08 01:00",
          "s21-07-08 05:00",
          "s21-07-08 09:00",
          "s21-07-08 13:00",
          "s21-07-08 17:00",
          "s21-07-08 21:00",
          "s21-07-09 01:00",
          "s21-07-09 05:00",
          "s21-07-09 09:00",
          "s21-07-09 13:00",
          "s21-07-09 17:00",
          "s21-07-11 21:00",
          "s21-07-12 01:00",
          "s21-07-12 05:00",
          "s21-07-12 09:00",
          "s21-07-12 13:00",
          "s21-07-12 17:00",
          "s21-07-12 21:00",
          "s21-07-13 01:00",
          "s21-07-13 05:00",
          "s21-07-13 09:00",
          "s21-07-13 13:00",
          "s21-07-13 17:00",
          "s21-07-13 21:00",
          "s21-07-14 01:00",
          "s21-07-14 05:00",
          "s21-07-14 09:00",
          "s21-07-14 13:00",
          "s21-07-14 17:00",
          "s21-07-14 21:00",
          "s21-07-15 01:00",
          "s21-07-15 05:00",
          "s21-07-15 09:00",
          "s21-07-15 13:00",
          "s21-07-15 17:00",
          "s21-07-15 21:00",
          "s21-07-16 01:00",
          "s21-07-16 05:00",
          "s21-07-16 09:00",
          "s21-07-16 13:00",
          "s21-07-16 17:00",
          "s21-07-18 21:00",
          "s21-07-19 01:00",
          "s21-07-19 05:00",
          "s21-07-19 09:00",
          "s21-07-19 13:00",
          "s21-07-19 17:00",
          "s21-07-19 21:00",
          "s21-07-20 01:00",
          "s21-07-20 05:00",
          "s21-07-20 09:00",
          "s21-07-20 13:00"
         ]
        }
       ],
       "layout": {
        "font": {
         "color": "#e1e1e1",
         "size": 8
        },
        "height": 600,
        "margin": {
         "b": 10,
         "l": 10,
         "r": 10,
         "t": 10
        },
        "paper_bgcolor": "#2c303c",
        "plot_bgcolor": "#2c303c",
        "template": {
         "data": {
          "bar": [
           {
            "error_x": {
             "color": "#2a3f5f"
            },
            "error_y": {
             "color": "#2a3f5f"
            },
            "marker": {
             "line": {
              "color": "#E5ECF6",
              "width": 0.5
             },
             "pattern": {
              "fillmode": "overlay",
              "size": 10,
              "solidity": 0.2
             }
            },
            "type": "bar"
           }
          ],
          "barpolar": [
           {
            "marker": {
             "line": {
              "color": "#E5ECF6",
              "width": 0.5
             },
             "pattern": {
              "fillmode": "overlay",
              "size": 10,
              "solidity": 0.2
             }
            },
            "type": "barpolar"
           }
          ],
          "carpet": [
           {
            "aaxis": {
             "endlinecolor": "#2a3f5f",
             "gridcolor": "white",
             "linecolor": "white",
             "minorgridcolor": "white",
             "startlinecolor": "#2a3f5f"
            },
            "baxis": {
             "endlinecolor": "#2a3f5f",
             "gridcolor": "white",
             "linecolor": "white",
             "minorgridcolor": "white",
             "startlinecolor": "#2a3f5f"
            },
            "type": "carpet"
           }
          ],
          "choropleth": [
           {
            "colorbar": {
             "outlinewidth": 0,
             "ticks": ""
            },
            "type": "choropleth"
           }
          ],
          "contour": [
           {
            "colorbar": {
             "outlinewidth": 0,
             "ticks": ""
            },
            "colorscale": [
             [
              0,
              "#0d0887"
             ],
             [
              0.1111111111111111,
              "#46039f"
             ],
             [
              0.2222222222222222,
              "#7201a8"
             ],
             [
              0.3333333333333333,
              "#9c179e"
             ],
             [
              0.4444444444444444,
              "#bd3786"
             ],
             [
              0.5555555555555556,
              "#d8576b"
             ],
             [
              0.6666666666666666,
              "#ed7953"
             ],
             [
              0.7777777777777778,
              "#fb9f3a"
             ],
             [
              0.8888888888888888,
              "#fdca26"
             ],
             [
              1,
              "#f0f921"
             ]
            ],
            "type": "contour"
           }
          ],
          "contourcarpet": [
           {
            "colorbar": {
             "outlinewidth": 0,
             "ticks": ""
            },
            "type": "contourcarpet"
           }
          ],
          "heatmap": [
           {
            "colorbar": {
             "outlinewidth": 0,
             "ticks": ""
            },
            "colorscale": [
             [
              0,
              "#0d0887"
             ],
             [
              0.1111111111111111,
              "#46039f"
             ],
             [
              0.2222222222222222,
              "#7201a8"
             ],
             [
              0.3333333333333333,
              "#9c179e"
             ],
             [
              0.4444444444444444,
              "#bd3786"
             ],
             [
              0.5555555555555556,
              "#d8576b"
             ],
             [
              0.6666666666666666,
              "#ed7953"
             ],
             [
              0.7777777777777778,
              "#fb9f3a"
             ],
             [
              0.8888888888888888,
              "#fdca26"
             ],
             [
              1,
              "#f0f921"
             ]
            ],
            "type": "heatmap"
           }
          ],
          "heatmapgl": [
           {
            "colorbar": {
             "outlinewidth": 0,
             "ticks": ""
            },
            "colorscale": [
             [
              0,
              "#0d0887"
             ],
             [
              0.1111111111111111,
              "#46039f"
             ],
             [
              0.2222222222222222,
              "#7201a8"
             ],
             [
              0.3333333333333333,
              "#9c179e"
             ],
             [
              0.4444444444444444,
              "#bd3786"
             ],
             [
              0.5555555555555556,
              "#d8576b"
             ],
             [
              0.6666666666666666,
              "#ed7953"
             ],
             [
              0.7777777777777778,
              "#fb9f3a"
             ],
             [
              0.8888888888888888,
              "#fdca26"
             ],
             [
              1,
              "#f0f921"
             ]
            ],
            "type": "heatmapgl"
           }
          ],
          "histogram": [
           {
            "marker": {
             "pattern": {
              "fillmode": "overlay",
              "size": 10,
              "solidity": 0.2
             }
            },
            "type": "histogram"
           }
          ],
          "histogram2d": [
           {
            "colorbar": {
             "outlinewidth": 0,
             "ticks": ""
            },
            "colorscale": [
             [
              0,
              "#0d0887"
             ],
             [
              0.1111111111111111,
              "#46039f"
             ],
             [
              0.2222222222222222,
              "#7201a8"
             ],
             [
              0.3333333333333333,
              "#9c179e"
             ],
             [
              0.4444444444444444,
              "#bd3786"
             ],
             [
              0.5555555555555556,
              "#d8576b"
             ],
             [
              0.6666666666666666,
              "#ed7953"
             ],
             [
              0.7777777777777778,
              "#fb9f3a"
             ],
             [
              0.8888888888888888,
              "#fdca26"
             ],
             [
              1,
              "#f0f921"
             ]
            ],
            "type": "histogram2d"
           }
          ],
          "histogram2dcontour": [
           {
            "colorbar": {
             "outlinewidth": 0,
             "ticks": ""
            },
            "colorscale": [
             [
              0,
              "#0d0887"
             ],
             [
              0.1111111111111111,
              "#46039f"
             ],
             [
              0.2222222222222222,
              "#7201a8"
             ],
             [
              0.3333333333333333,
              "#9c179e"
             ],
             [
              0.4444444444444444,
              "#bd3786"
             ],
             [
              0.5555555555555556,
              "#d8576b"
             ],
             [
              0.6666666666666666,
              "#ed7953"
             ],
             [
              0.7777777777777778,
              "#fb9f3a"
             ],
             [
              0.8888888888888888,
              "#fdca26"
             ],
             [
              1,
              "#f0f921"
             ]
            ],
            "type": "histogram2dcontour"
           }
          ],
          "mesh3d": [
           {
            "colorbar": {
             "outlinewidth": 0,
             "ticks": ""
            },
            "type": "mesh3d"
           }
          ],
          "parcoords": [
           {
            "line": {
             "colorbar": {
              "outlinewidth": 0,
              "ticks": ""
             }
            },
            "type": "parcoords"
           }
          ],
          "pie": [
           {
            "automargin": true,
            "type": "pie"
           }
          ],
          "scatter": [
           {
            "fillpattern": {
             "fillmode": "overlay",
             "size": 10,
             "solidity": 0.2
            },
            "type": "scatter"
           }
          ],
          "scatter3d": [
           {
            "line": {
             "colorbar": {
              "outlinewidth": 0,
              "ticks": ""
             }
            },
            "marker": {
             "colorbar": {
              "outlinewidth": 0,
              "ticks": ""
             }
            },
            "type": "scatter3d"
           }
          ],
          "scattercarpet": [
           {
            "marker": {
             "colorbar": {
              "outlinewidth": 0,
              "ticks": ""
             }
            },
            "type": "scattercarpet"
           }
          ],
          "scattergeo": [
           {
            "marker": {
             "colorbar": {
              "outlinewidth": 0,
              "ticks": ""
             }
            },
            "type": "scattergeo"
           }
          ],
          "scattergl": [
           {
            "marker": {
             "colorbar": {
              "outlinewidth": 0,
              "ticks": ""
             }
            },
            "type": "scattergl"
           }
          ],
          "scattermapbox": [
           {
            "marker": {
             "colorbar": {
              "outlinewidth": 0,
              "ticks": ""
             }
            },
            "type": "scattermapbox"
           }
          ],
          "scatterpolar": [
           {
            "marker": {
             "colorbar": {
              "outlinewidth": 0,
              "ticks": ""
             }
            },
            "type": "scatterpolar"
           }
          ],
          "scatterpolargl": [
           {
            "marker": {
             "colorbar": {
              "outlinewidth": 0,
              "ticks": ""
             }
            },
            "type": "scatterpolargl"
           }
          ],
          "scatterternary": [
           {
            "marker": {
             "colorbar": {
              "outlinewidth": 0,
              "ticks": ""
             }
            },
            "type": "scatterternary"
           }
          ],
          "surface": [
           {
            "colorbar": {
             "outlinewidth": 0,
             "ticks": ""
            },
            "colorscale": [
             [
              0,
              "#0d0887"
             ],
             [
              0.1111111111111111,
              "#46039f"
             ],
             [
              0.2222222222222222,
              "#7201a8"
             ],
             [
              0.3333333333333333,
              "#9c179e"
             ],
             [
              0.4444444444444444,
              "#bd3786"
             ],
             [
              0.5555555555555556,
              "#d8576b"
             ],
             [
              0.6666666666666666,
              "#ed7953"
             ],
             [
              0.7777777777777778,
              "#fb9f3a"
             ],
             [
              0.8888888888888888,
              "#fdca26"
             ],
             [
              1,
              "#f0f921"
             ]
            ],
            "type": "surface"
           }
          ],
          "table": [
           {
            "cells": {
             "fill": {
              "color": "#EBF0F8"
             },
             "line": {
              "color": "white"
             }
            },
            "header": {
             "fill": {
              "color": "#C8D4E3"
             },
             "line": {
              "color": "white"
             }
            },
            "type": "table"
           }
          ]
         },
         "layout": {
          "annotationdefaults": {
           "arrowcolor": "#2a3f5f",
           "arrowhead": 0,
           "arrowwidth": 1
          },
          "autotypenumbers": "strict",
          "coloraxis": {
           "colorbar": {
            "outlinewidth": 0,
            "ticks": ""
           }
          },
          "colorscale": {
           "diverging": [
            [
             0,
             "#8e0152"
            ],
            [
             0.1,
             "#c51b7d"
            ],
            [
             0.2,
             "#de77ae"
            ],
            [
             0.3,
             "#f1b6da"
            ],
            [
             0.4,
             "#fde0ef"
            ],
            [
             0.5,
             "#f7f7f7"
            ],
            [
             0.6,
             "#e6f5d0"
            ],
            [
             0.7,
             "#b8e186"
            ],
            [
             0.8,
             "#7fbc41"
            ],
            [
             0.9,
             "#4d9221"
            ],
            [
             1,
             "#276419"
            ]
           ],
           "sequential": [
            [
             0,
             "#0d0887"
            ],
            [
             0.1111111111111111,
             "#46039f"
            ],
            [
             0.2222222222222222,
             "#7201a8"
            ],
            [
             0.3333333333333333,
             "#9c179e"
            ],
            [
             0.4444444444444444,
             "#bd3786"
            ],
            [
             0.5555555555555556,
             "#d8576b"
            ],
            [
             0.6666666666666666,
             "#ed7953"
            ],
            [
             0.7777777777777778,
             "#fb9f3a"
            ],
            [
             0.8888888888888888,
             "#fdca26"
            ],
            [
             1,
             "#f0f921"
            ]
           ],
           "sequentialminus": [
            [
             0,
             "#0d0887"
            ],
            [
             0.1111111111111111,
             "#46039f"
            ],
            [
             0.2222222222222222,
             "#7201a8"
            ],
            [
             0.3333333333333333,
             "#9c179e"
            ],
            [
             0.4444444444444444,
             "#bd3786"
            ],
            [
             0.5555555555555556,
             "#d8576b"
            ],
            [
             0.6666666666666666,
             "#ed7953"
            ],
            [
             0.7777777777777778,
             "#fb9f3a"
            ],
            [
             0.8888888888888888,
             "#fdca26"
            ],
            [
             1,
             "#f0f921"
            ]
           ]
          },
          "colorway": [
           "#636efa",
           "#EF553B",
           "#00cc96",
           "#ab63fa",
           "#FFA15A",
           "#19d3f3",
           "#FF6692",
           "#B6E880",
           "#FF97FF",
           "#FECB52"
          ],
          "font": {
           "color": "#2a3f5f"
          },
          "geo": {
           "bgcolor": "white",
           "lakecolor": "white",
           "landcolor": "#E5ECF6",
           "showlakes": true,
           "showland": true,
           "subunitcolor": "white"
          },
          "hoverlabel": {
           "align": "left"
          },
          "hovermode": "closest",
          "mapbox": {
           "style": "light"
          },
          "paper_bgcolor": "white",
          "plot_bgcolor": "#E5ECF6",
          "polar": {
           "angularaxis": {
            "gridcolor": "white",
            "linecolor": "white",
            "ticks": ""
           },
           "bgcolor": "#E5ECF6",
           "radialaxis": {
            "gridcolor": "white",
            "linecolor": "white",
            "ticks": ""
           }
          },
          "scene": {
           "xaxis": {
            "backgroundcolor": "#E5ECF6",
            "gridcolor": "white",
            "gridwidth": 2,
            "linecolor": "white",
            "showbackground": true,
            "ticks": "",
            "zerolinecolor": "white"
           },
           "yaxis": {
            "backgroundcolor": "#E5ECF6",
            "gridcolor": "white",
            "gridwidth": 2,
            "linecolor": "white",
            "showbackground": true,
            "ticks": "",
            "zerolinecolor": "white"
           },
           "zaxis": {
            "backgroundcolor": "#E5ECF6",
            "gridcolor": "white",
            "gridwidth": 2,
            "linecolor": "white",
            "showbackground": true,
            "ticks": "",
            "zerolinecolor": "white"
           }
          },
          "shapedefaults": {
           "line": {
            "color": "#2a3f5f"
           }
          },
          "ternary": {
           "aaxis": {
            "gridcolor": "white",
            "linecolor": "white",
            "ticks": ""
           },
           "baxis": {
            "gridcolor": "white",
            "linecolor": "white",
            "ticks": ""
           },
           "bgcolor": "#E5ECF6",
           "caxis": {
            "gridcolor": "white",
            "linecolor": "white",
            "ticks": ""
           }
          },
          "title": {
           "x": 0.05
          },
          "xaxis": {
           "automargin": true,
           "gridcolor": "white",
           "linecolor": "white",
           "ticks": "",
           "title": {
            "standoff": 15
           },
           "zerolinecolor": "white",
           "zerolinewidth": 2
          },
          "yaxis": {
           "automargin": true,
           "gridcolor": "white",
           "linecolor": "white",
           "ticks": "",
           "title": {
            "standoff": 15
           },
           "zerolinecolor": "white",
           "zerolinewidth": 2
          }
         }
        },
        "width": 1100,
        "xaxis": {
         "autorange": true,
         "gridcolor": "#1f292f",
         "nticks": 5,
         "range": [
          -0.5,
          99.5
         ],
         "rangeslider": {
          "visible": false,
          "yaxis": {}
         },
         "type": "category"
        },
        "yaxis": {
         "autorange": true,
         "gridcolor": "#1f292f",
         "range": [
          1.1745094444444444,
          1.1955205555555555
         ]
        }
       }
      },
      "image/png": "[encoded data removed]",
      "text/html": [
       "<div>                            <div id=\"6fec3e9e-861f-4a9f-9f36-44249801452d\" class=\"plotly-graph-div\" style=\"height:600px; width:1100px;\"></div>            <script type=\"text/javascript\">                require([\"plotly\"], function(Plotly) {                    window.PLOTLYENV=window.PLOTLYENV || {};                                    if (document.getElementById(\"6fec3e9e-861f-4a9f-9f36-44249801452d\")) {                    Plotly.newPlot(                        \"6fec3e9e-861f-4a9f-9f36-44249801452d\",                        [{\"close\":[1.19226,1.19414,1.19216,1.19228,1.19244,1.19192,1.19104,1.19016,1.18826,1.18962,1.18969,1.19003,1.18998,1.18862,1.18824,1.18486,1.18566,1.18487,1.18492,1.18447,1.18784,1.18492,1.18496,1.18431,1.18447,1.18278,1.18476,1.18436,1.18654,1.18574,1.1857,1.18704,1.18634,1.1868,1.18637,1.18606,1.18744,1.18454,1.18362,1.18147,1.18231,1.1821,1.18238,1.18242,1.18158,1.18002,1.17911,1.17911,1.17961,1.18222,1.18516,1.18446,1.18461,1.18408,1.18318,1.18324,1.18687,1.18682,1.1877,1.18754,1.18684,1.18708,1.18532,1.18574,1.18604,1.18666,1.18638,1.185,1.17994,1.18044,1.17763,1.17764,1.17838,1.17838,1.1822,1.18325,1.18364,1.18336,1.18309,1.1849,1.18066,1.1803,1.18106,1.18116,1.18096,1.18181,1.18019,1.18112,1.18052,1.18021,1.18062,1.17733,1.17869,1.1799,1.17986,1.17949,1.17888,1.1788,1.17726,1.17778],\"decreasing\":{\"fillcolor\":\"#CC2E3C\",\"line\":{\"color\":\"#FF3A4C\"}},\"high\":[1.19384,1.19447,1.19439,1.19398,1.19292,1.19304,1.19246,1.19232,1.19134,1.19116,1.19056,1.19067,1.1909,1.1908,1.18982,1.18826,1.18615,1.18604,1.18542,1.18602,1.18842,1.18822,1.18548,1.18524,1.18467,1.18478,1.18572,1.18594,1.18743,1.18705,1.18629,1.18734,1.18808,1.18695,1.187,1.18694,1.1876,1.18954,1.18511,1.18429,1.18281,1.1825,1.1827,1.18346,1.18361,1.18185,1.18204,1.17991,1.17963,1.18253,1.18594,1.1868,1.18486,1.18501,1.18437,1.18468,1.18688,1.1875,1.18814,1.1878,1.18802,1.188,1.18735,1.18744,1.18622,1.18686,1.18752,1.18655,1.18509,1.1833,1.18044,1.17822,1.17854,1.17994,1.1828,1.18354,1.18388,1.18387,1.18348,1.18508,1.18499,1.18236,1.18131,1.1817,1.18126,1.18196,1.18225,1.18144,1.1819,1.18139,1.18086,1.18086,1.17887,1.18246,1.18026,1.18025,1.18022,1.1795,1.18026,1.17807],\"increasing\":{\"fillcolor\":\"#24A06B\",\"line\":{\"color\":\"#2EC886\"}},\"line\":{\"width\":1},\"low\":[1.19202,1.1922,1.19024,1.19112,1.192,1.19178,1.19076,1.18993,1.18798,1.18778,1.1893,1.18966,1.18967,1.1885,1.18762,1.18451,1.1846,1.18466,1.18462,1.18374,1.18404,1.18472,1.1841,1.1841,1.18406,1.18222,1.18075,1.18258,1.18414,1.18536,1.18514,1.18519,1.186,1.18554,1.18612,1.18599,1.18585,1.18426,1.18311,1.1807,1.18133,1.18155,1.18176,1.1812,1.18126,1.17815,1.17893,1.17896,1.17836,1.17923,1.18215,1.18368,1.18352,1.18384,1.18316,1.1825,1.18288,1.18555,1.18674,1.1866,1.18654,1.1856,1.1836,1.18508,1.18552,1.18587,1.18622,1.18412,1.1794,1.17918,1.17721,1.17719,1.17758,1.17801,1.1776,1.1813,1.18255,1.18288,1.18212,1.18258,1.18036,1.18006,1.17962,1.1809,1.18021,1.17971,1.17922,1.17958,1.1803,1.18012,1.1798,1.17654,1.17638,1.17838,1.17911,1.17902,1.17882,1.17722,1.1765,1.17556],\"opacity\":1,\"open\":[1.19366,1.19228,1.19416,1.19214,1.19226,1.19252,1.19194,1.19106,1.19018,1.18825,1.18961,1.18974,1.19001,1.18996,1.18864,1.18826,1.18486,1.1857,1.18486,1.18494,1.18448,1.18785,1.1849,1.18506,1.1843,1.18446,1.1828,1.18474,1.18434,1.18665,1.18572,1.18568,1.18702,1.18636,1.18678,1.18644,1.18608,1.18743,1.18456,1.1836,1.18148,1.1824,1.18209,1.18238,1.1824,1.18157,1.18004,1.17908,1.17912,1.1796,1.18224,1.18514,1.18448,1.18444,1.18406,1.1832,1.18323,1.18686,1.18681,1.1876,1.18756,1.18682,1.1871,1.18533,1.18575,1.18602,1.1867,1.18639,1.18498,1.17996,1.18043,1.17765,1.17766,1.17836,1.17836,1.18222,1.18324,1.18378,1.18338,1.1831,1.18488,1.18066,1.18028,1.18106,1.18117,1.18098,1.1818,1.18018,1.18114,1.181,1.18022,1.18061,1.17732,1.1787,1.17991,1.17997,1.1795,1.17886,1.17878,1.17726],\"x\":[\"s21-06-28 01:00\",\"s21-06-28 05:00\",\"s21-06-28 09:00\",\"s21-06-28 13:00\",\"s21-06-28 17:00\",\"s21-06-28 21:00\",\"s21-06-29 01:00\",\"s21-06-29 05:00\",\"s21-06-29 09:00\",\"s21-06-29 13:00\",\"s21-06-29 17:00\",\"s21-06-29 21:00\",\"s21-06-30 01:00\",\"s21-06-30 05:00\",\"s21-06-30 09:00\",\"s21-06-30 13:00\",\"s21-06-30 17:00\",\"s21-06-30 21:00\",\"s21-07-01 01:00\",\"s21-07-01 05:00\",\"s21-07-01 09:00\",\"s21-07-01 13:00\",\"s21-07-01 17:00\",\"s21-07-01 21:00\",\"s21-07-02 01:00\",\"s21-07-02 05:00\",\"s21-07-02 09:00\",\"s21-07-02 13:00\",\"s21-07-02 17:00\",\"s21-07-04 21:00\",\"s21-07-05 01:00\",\"s21-07-05 05:00\",\"s21-07-05 09:00\",\"s21-07-05 13:00\",\"s21-07-05 17:00\",\"s21-07-05 21:00\",\"s21-07-06 01:00\",\"s21-07-06 05:00\",\"s21-07-06 09:00\",\"s21-07-06 13:00\",\"s21-07-06 17:00\",\"s21-07-06 21:00\",\"s21-07-07 01:00\",\"s21-07-07 05:00\",\"s21-07-07 09:00\",\"s21-07-07 13:00\",\"s21-07-07 17:00\",\"s21-07-07 21:00\",\"s21-07-08 01:00\",\"s21-07-08 05:00\",\"s21-07-08 09:00\",\"s21-07-08 13:00\",\"s21-07-08 17:00\",\"s21-07-08 21:00\",\"s21-07-09 01:00\",\"s21-07-09 05:00\",\"s21-07-09 09:00\",\"s21-07-09 13:00\",\"s21-07-09 17:00\",\"s21-07-11 21:00\",\"s21-07-12 01:00\",\"s21-07-12 05:00\",\"s21-07-12 09:00\",\"s21-07-12 13:00\",\"s21-07-12 17:00\",\"s21-07-12 21:00\",\"s21-07-13 01:00\",\"s21-07-13 05:00\",\"s21-07-13 09:00\",\"s21-07-13 13:00\",\"s21-07-13 17:00\",\"s21-07-13 21:00\",\"s21-07-14 01:00\",\"s21-07-14 05:00\",\"s21-07-14 09:00\",\"s21-07-14 13:00\",\"s21-07-14 17:00\",\"s21-07-14 21:00\",\"s21-07-15 01:00\",\"s21-07-15 05:00\",\"s21-07-15 09:00\",\"s21-07-15 13:00\",\"s21-07-15 17:00\",\"s21-07-15 21:00\",\"s21-07-16 01:00\",\"s21-07-16 05:00\",\"s21-07-16 09:00\",\"s21-07-16 13:00\",\"s21-07-16 17:00\",\"s21-07-18 21:00\",\"s21-07-19 01:00\",\"s21-07-19 05:00\",\"s21-07-19 09:00\",\"s21-07-19 13:00\",\"s21-07-19 17:00\",\"s21-07-19 21:00\",\"s21-07-20 01:00\",\"s21-07-20 05:00\",\"s21-07-20 09:00\",\"s21-07-20 13:00\"],\"type\":\"candlestick\"}],                        {\"template\":{\"data\":{\"histogram2dcontour\":[{\"type\":\"histogram2dcontour\",\"colorbar\":{\"outlinewidth\":0,\"ticks\":\"\"},\"colorscale\":[[0.0,\"#0d0887\"],[0.1111111111111111,\"#46039f\"],[0.2222222222222222,\"#7201a8\"],[0.3333333333333333,\"#9c179e\"],[0.4444444444444444,\"#bd3786\"],[0.5555555555555556,\"#d8576b\"],[0.6666666666666666,\"#ed7953\"],[0.7777777777777778,\"#fb9f3a\"],[0.8888888888888888,\"#fdca26\"],[1.0,\"#f0f921\"]]}],\"choropleth\":[{\"type\":\"choropleth\",\"colorbar\":{\"outlinewidth\":0,\"ticks\":\"\"}}],\"histogram2d\":[{\"type\":\"histogram2d\",\"colorbar\":{\"outlinewidth\":0,\"ticks\":\"\"},\"colorscale\":[[0.0,\"#0d0887\"],[0.1111111111111111,\"#46039f\"],[0.2222222222222222,\"#7201a8\"],[0.3333333333333333,\"#9c179e\"],[0.4444444444444444,\"#bd3786\"],[0.5555555555555556,\"#d8576b\"],[0.6666666666666666,\"#ed7953\"],[0.7777777777777778,\"#fb9f3a\"],[0.8888888888888888,\"#fdca26\"],[1.0,\"#f0f921\"]]}],\"heatmap\":[{\"type\":\"heatmap\",\"colorbar\":{\"outlinewidth\":0,\"ticks\":\"\"},\"colorscale\":[[0.0,\"#0d0887\"],[0.1111111111111111,\"#46039f\"],[0.2222222222222222,\"#7201a8\"],[0.3333333333333333,\"#9c179e\"],[0.4444444444444444,\"#bd3786\"],[0.5555555555555556,\"#d8576b\"],[0.6666666666666666,\"#ed7953\"],[0.7777777777777778,\"#fb9f3a\"],[0.8888888888888888,\"#fdca26\"],[1.0,\"#f0f921\"]]}],\"heatmapgl\":[{\"type\":\"heatmapgl\",\"colorbar\":{\"outlinewidth\":0,\"ticks\":\"\"},\"colorscale\":[[0.0,\"#0d0887\"],[0.1111111111111111,\"#46039f\"],[0.2222222222222222,\"#7201a8\"],[0.3333333333333333,\"#9c179e\"],[0.4444444444444444,\"#bd3786\"],[0.5555555555555556,\"#d8576b\"],[0.6666666666666666,\"#ed7953\"],[0.7777777777777778,\"#fb9f3a\"],[0.8888888888888888,\"#fdca26\"],[1.0,\"#f0f921\"]]}],\"contourcarpet\":[{\"type\":\"contourcarpet\",\"colorbar\":{\"outlinewidth\":0,\"ticks\":\"\"}}],\"contour\":[{\"type\":\"contour\",\"colorbar\":{\"outlinewidth\":0,\"ticks\":\"\"},\"colorscale\":[[0.0,\"#0d0887\"],[0.1111111111111111,\"#46039f\"],[0.2222222222222222,\"#7201a8\"],[0.3333333333333333,\"#9c179e\"],[0.4444444444444444,\"#bd3786\"],[0.5555555555555556,\"#d8576b\"],[0.6666666666666666,\"#ed7953\"],[0.7777777777777778,\"#fb9f3a\"],[0.8888888888888888,\"#fdca26\"],[1.0,\"#f0f921\"]]}],\"surface\":[{\"type\":\"surface\",\"colorbar\":{\"outlinewidth\":0,\"ticks\":\"\"},\"colorscale\":[[0.0,\"#0d0887\"],[0.1111111111111111,\"#46039f\"],[0.2222222222222222,\"#7201a8\"],[0.3333333333333333,\"#9c179e\"],[0.4444444444444444,\"#bd3786\"],[0.5555555555555556,\"#d8576b\"],[0.6666666666666666,\"#ed7953\"],[0.7777777777777778,\"#fb9f3a\"],[0.8888888888888888,\"#fdca26\"],[1.0,\"#f0f921\"]]}],\"mesh3d\":[{\"type\":\"mesh3d\",\"colorbar\":{\"outlinewidth\":0,\"ticks\":\"\"}}],\"scatter\":[{\"fillpattern\":{\"fillmode\":\"overlay\",\"size\":10,\"solidity\":0.2},\"type\":\"scatter\"}],\"parcoords\":[{\"type\":\"parcoords\",\"line\":{\"colorbar\":{\"outlinewidth\":0,\"ticks\":\"\"}}}],\"scatterpolargl\":[{\"type\":\"scatterpolargl\",\"marker\":{\"colorbar\":{\"outlinewidth\":0,\"ticks\":\"\"}}}],\"bar\":[{\"error_x\":{\"color\":\"#2a3f5f\"},\"error_y\":{\"color\":\"#2a3f5f\"},\"marker\":{\"line\":{\"color\":\"#E5ECF6\",\"width\":0.5},\"pattern\":{\"fillmode\":\"overlay\",\"size\":10,\"solidity\":0.2}},\"type\":\"bar\"}],\"scattergeo\":[{\"type\":\"scattergeo\",\"marker\":{\"colorbar\":{\"outlinewidth\":0,\"ticks\":\"\"}}}],\"scatterpolar\":[{\"type\":\"scatterpolar\",\"marker\":{\"colorbar\":{\"outlinewidth\":0,\"ticks\":\"\"}}}],\"histogram\":[{\"marker\":{\"pattern\":{\"fillmode\":\"overlay\",\"size\":10,\"solidity\":0.2}},\"type\":\"histogram\"}],\"scattergl\":[{\"type\":\"scattergl\",\"marker\":{\"colorbar\":{\"outlinewidth\":0,\"ticks\":\"\"}}}],\"scatter3d\":[{\"type\":\"scatter3d\",\"line\":{\"colorbar\":{\"outlinewidth\":0,\"ticks\":\"\"}},\"marker\":{\"colorbar\":{\"outlinewidth\":0,\"ticks\":\"\"}}}],\"scattermapbox\":[{\"type\":\"scattermapbox\",\"marker\":{\"colorbar\":{\"outlinewidth\":0,\"ticks\":\"\"}}}],\"scatterternary\":[{\"type\":\"scatterternary\",\"marker\":{\"colorbar\":{\"outlinewidth\":0,\"ticks\":\"\"}}}],\"scattercarpet\":[{\"type\":\"scattercarpet\",\"marker\":{\"colorbar\":{\"outlinewidth\":0,\"ticks\":\"\"}}}],\"carpet\":[{\"aaxis\":{\"endlinecolor\":\"#2a3f5f\",\"gridcolor\":\"white\",\"linecolor\":\"white\",\"minorgridcolor\":\"white\",\"startlinecolor\":\"#2a3f5f\"},\"baxis\":{\"endlinecolor\":\"#2a3f5f\",\"gridcolor\":\"white\",\"linecolor\":\"white\",\"minorgridcolor\":\"white\",\"startlinecolor\":\"#2a3f5f\"},\"type\":\"carpet\"}],\"table\":[{\"cells\":{\"fill\":{\"color\":\"#EBF0F8\"},\"line\":{\"color\":\"white\"}},\"header\":{\"fill\":{\"color\":\"#C8D4E3\"},\"line\":{\"color\":\"white\"}},\"type\":\"table\"}],\"barpolar\":[{\"marker\":{\"line\":{\"color\":\"#E5ECF6\",\"width\":0.5},\"pattern\":{\"fillmode\":\"overlay\",\"size\":10,\"solidity\":0.2}},\"type\":\"barpolar\"}],\"pie\":[{\"automargin\":true,\"type\":\"pie\"}]},\"layout\":{\"autotypenumbers\":\"strict\",\"colorway\":[\"#636efa\",\"#EF553B\",\"#00cc96\",\"#ab63fa\",\"#FFA15A\",\"#19d3f3\",\"#FF6692\",\"#B6E880\",\"#FF97FF\",\"#FECB52\"],\"font\":{\"color\":\"#2a3f5f\"},\"hovermode\":\"closest\",\"hoverlabel\":{\"align\":\"left\"},\"paper_bgcolor\":\"white\",\"plot_bgcolor\":\"#E5ECF6\",\"polar\":{\"bgcolor\":\"#E5ECF6\",\"angularaxis\":{\"gridcolor\":\"white\",\"linecolor\":\"white\",\"ticks\":\"\"},\"radialaxis\":{\"gridcolor\":\"white\",\"linecolor\":\"white\",\"ticks\":\"\"}},\"ternary\":{\"bgcolor\":\"#E5ECF6\",\"aaxis\":{\"gridcolor\":\"white\",\"linecolor\":\"white\",\"ticks\":\"\"},\"baxis\":{\"gridcolor\":\"white\",\"linecolor\":\"white\",\"ticks\":\"\"},\"caxis\":{\"gridcolor\":\"white\",\"linecolor\":\"white\",\"ticks\":\"\"}},\"coloraxis\":{\"colorbar\":{\"outlinewidth\":0,\"ticks\":\"\"}},\"colorscale\":{\"sequential\":[[0.0,\"#0d0887\"],[0.1111111111111111,\"#46039f\"],[0.2222222222222222,\"#7201a8\"],[0.3333333333333333,\"#9c179e\"],[0.4444444444444444,\"#bd3786\"],[0.5555555555555556,\"#d8576b\"],[0.6666666666666666,\"#ed7953\"],[0.7777777777777778,\"#fb9f3a\"],[0.8888888888888888,\"#fdca26\"],[1.0,\"#f0f921\"]],\"sequentialminus\":[[0.0,\"#0d0887\"],[0.1111111111111111,\"#46039f\"],[0.2222222222222222,\"#7201a8\"],[0.3333333333333333,\"#9c179e\"],[0.4444444444444444,\"#bd3786\"],[0.5555555555555556,\"#d8576b\"],[0.6666666666666666,\"#ed7953\"],[0.7777777777777778,\"#fb9f3a\"],[0.8888888888888888,\"#fdca26\"],[1.0,\"#f0f921\"]],\"diverging\":[[0,\"#8e0152\"],[0.1,\"#c51b7d\"],[0.2,\"#de77ae\"],[0.3,\"#f1b6da\"],[0.4,\"#fde0ef\"],[0.5,\"#f7f7f7\"],[0.6,\"#e6f5d0\"],[0.7,\"#b8e186\"],[0.8,\"#7fbc41\"],[0.9,\"#4d9221\"],[1,\"#276419\"]]},\"xaxis\":{\"gridcolor\":\"white\",\"linecolor\":\"white\",\"ticks\":\"\",\"title\":{\"standoff\":15},\"zerolinecolor\":\"white\",\"automargin\":true,\"zerolinewidth\":2},\"yaxis\":{\"gridcolor\":\"white\",\"linecolor\":\"white\",\"ticks\":\"\",\"title\":{\"standoff\":15},\"zerolinecolor\":\"white\",\"automargin\":true,\"zerolinewidth\":2},\"scene\":{\"xaxis\":{\"backgroundcolor\":\"#E5ECF6\",\"gridcolor\":\"white\",\"linecolor\":\"white\",\"showbackground\":true,\"ticks\":\"\",\"zerolinecolor\":\"white\",\"gridwidth\":2},\"yaxis\":{\"backgroundcolor\":\"#E5ECF6\",\"gridcolor\":\"white\",\"linecolor\":\"white\",\"showbackground\":true,\"ticks\":\"\",\"zerolinecolor\":\"white\",\"gridwidth\":2},\"zaxis\":{\"backgroundcolor\":\"#E5ECF6\",\"gridcolor\":\"white\",\"linecolor\":\"white\",\"showbackground\":true,\"ticks\":\"\",\"zerolinecolor\":\"white\",\"gridwidth\":2}},\"shapedefaults\":{\"line\":{\"color\":\"#2a3f5f\"}},\"annotationdefaults\":{\"arrowcolor\":\"#2a3f5f\",\"arrowhead\":0,\"arrowwidth\":1},\"geo\":{\"bgcolor\":\"white\",\"landcolor\":\"#E5ECF6\",\"subunitcolor\":\"white\",\"showland\":true,\"showlakes\":true,\"lakecolor\":\"white\"},\"title\":{\"x\":0.05},\"mapbox\":{\"style\":\"light\"}}},\"yaxis\":{\"gridcolor\":\"#1f292f\"},\"xaxis\":{\"rangeslider\":{\"visible\":false},\"gridcolor\":\"#1f292f\",\"nticks\":5},\"margin\":{\"l\":10,\"r\":10,\"b\":10,\"t\":10},\"font\":{\"size\":8,\"color\":\"#e1e1e1\"},\"width\":1100,\"height\":600,\"paper_bgcolor\":\"#2c303c\",\"plot_bgcolor\":\"#2c303c\"},                        {\"responsive\": true}                    ).then(function(){\n",
       "                            \n",
       "var gd = document.getElementById('6fec3e9e-861f-4a9f-9f36-44249801452d');\n",
       "var x = new MutationObserver(function (mutations, observer) {{\n",
       "        var display = window.getComputedStyle(gd).display;\n",
       "        if (!display || display === 'none') {{\n",
       "            console.log([gd, 'removed!']);\n",
       "            Plotly.purge(gd);\n",
       "            observer.disconnect();\n",
       "        }}\n",
       "}});\n",
       "\n",
       "// Listen for the removal of the full notebook cells\n",
       "var notebookContainer = gd.closest('#notebook-container');\n",
       "if (notebookContainer) {{\n",
       "    x.observe(notebookContainer, {childList: true});\n",
       "}}\n",
       "\n",
       "// Listen for the clearing of the current output cell\n",
       "var outputEl = gd.closest('.output');\n",
       "if (outputEl) {{\n",
       "    x.observe(outputEl, {childList: true});\n",
       "}}\n",
       "\n",
       "                        })                };                });            </script>        </div>"
      ]
     },
     "metadata": {},
     "output_type": "display_data"
    }
   ],
   "source": [
    "fig = go.Figure()\n",
    "fig.add_trace(go.Candlestick(\n",
    "    x=df_plot.sTime,\n",
    "    open=df_plot.mid_o,\n",
    "    high=df_plot.mid_h,\n",
    "    low=df_plot.mid_l,\n",
    "    close=df_plot.mid_c,\n",
    "    line=dict(width=1), opacity=1,\n",
    "    increasing_fillcolor='#24A06B',\n",
    "    decreasing_fillcolor='#CC2E3C',\n",
    "    increasing_line_color='#2EC886',\n",
    "    decreasing_line_color='#FF3A4C',\n",
    "                        \n",
    "))\n",
    "\n",
    "\n",
    "fig.update_yaxes(\n",
    "    gridcolor=\"#1f292f\"\n",
    ")\n",
    "fig.update_xaxes(\n",
    "    gridcolor=\"#1f292f\",\n",
    "    rangeslider=dict(visible=False),\n",
    "    nticks=5\n",
    ")\n",
    "\n",
    "\n",
    "fig.update_layout(\n",
    "\n",
    "    width = 1100,\n",
    "    height = 600,\n",
    "    margin=dict(l=10, r=10, b=10, t=10),\n",
    "    paper_bgcolor=\"#2c303c\",\n",
    "    plot_bgcolor=\"#2c303c\", \n",
    "    font=dict(size=8, color=\"#e1e1e1\")\n",
    ")\n",
    "\n",
    "fig.show()"
   ]
  },
  {
   "cell_type": "code",
   "execution_count": null,
   "id": "d79bd8cb-01e0-40bb-a5d7-88cb39e2038d",
   "metadata": {},
   "outputs": [],
   "source": []
  },
  {
   "cell_type": "code",
   "execution_count": null,
   "id": "4b24dd6e-4508-41c4-a5dd-1ec0ea824150",
   "metadata": {},
   "outputs": [],
   "source": []
  },
  {
   "cell_type": "code",
   "execution_count": null,
   "id": "735ffae7-107d-4fd3-81fa-5f4a1ba04d4f",
   "metadata": {},
   "outputs": [],
   "source": []
  },
  {
   "cell_type": "code",
   "execution_count": null,
   "id": "f6c3629e-f225-41b1-b745-dcc67bbad5a0",
   "metadata": {},
   "outputs": [],
   "source": []
  }
 ],
 "metadata": {
  "kernelspec": {
   "display_name": "Python 3 (ipykernel)",
   "language": "python",
   "name": "python3"
  },
  "language_info": {
   "codemirror_mode": {
    "name": "ipython",
    "version": 3
   },
   "file_extension": ".py",
   "mimetype": "text/x-python",
   "name": "python",
   "nbconvert_exporter": "python",
   "pygments_lexer": "ipython3",
   "version": "3.12.1"
  }
 },
 "nbformat": 4,
 "nbformat_minor": 5
}
