{
 "cells": [
  {
   "cell_type": "code",
   "execution_count": 29,
   "id": "c57a360f",
   "metadata": {},
   "outputs": [],
   "source": [
    "import sys\n",
    "sys.path.append(\"../\")\n",
    "from plotting import CandlePlot\n",
    "import pandas as pd"
   ]
  },
  {
   "cell_type": "code",
   "execution_count": 30,
   "id": "41024369",
   "metadata": {},
   "outputs": [],
   "source": [
    "from technicals.patterns import apply_patterns"
   ]
  },
  {
   "cell_type": "code",
   "execution_count": 31,
   "id": "8c9f7457",
   "metadata": {},
   "outputs": [],
   "source": [
    "df = pd.read_pickle(\"../data/GBP_JPY_H1.pkl\")"
   ]
  },
  {
   "cell_type": "code",
   "execution_count": 32,
   "id": "b7c9f42d",
   "metadata": {},
   "outputs": [],
   "source": [
    "df_an = df[['time', 'mid_o', 'mid_h', 'mid_l', 'mid_c']].copy()"
   ]
  },
  {
   "cell_type": "code",
   "execution_count": 33,
   "id": "9a60edd2",
   "metadata": {},
   "outputs": [
    {
     "data": {
      "text/html": [
       "<div>\n",
       "<style scoped>\n",
       "    .dataframe tbody tr th:only-of-type {\n",
       "        vertical-align: middle;\n",
       "    }\n",
       "\n",
       "    .dataframe tbody tr th {\n",
       "        vertical-align: top;\n",
       "    }\n",
       "\n",
       "    .dataframe thead th {\n",
       "        text-align: right;\n",
       "    }\n",
       "</style>\n",
       "<table border=\"1\" class=\"dataframe\">\n",
       "  <thead>\n",
       "    <tr style=\"text-align: right;\">\n",
       "      <th></th>\n",
       "      <th>time</th>\n",
       "      <th>mid_o</th>\n",
       "      <th>mid_h</th>\n",
       "      <th>mid_l</th>\n",
       "      <th>mid_c</th>\n",
       "    </tr>\n",
       "  </thead>\n",
       "  <tbody>\n",
       "    <tr>\n",
       "      <th>3996</th>\n",
       "      <td>2024-01-19 17:00:00+00:00</td>\n",
       "      <td>187.864</td>\n",
       "      <td>187.960</td>\n",
       "      <td>187.682</td>\n",
       "      <td>187.942</td>\n",
       "    </tr>\n",
       "    <tr>\n",
       "      <th>3997</th>\n",
       "      <td>2024-01-19 18:00:00+00:00</td>\n",
       "      <td>187.941</td>\n",
       "      <td>188.184</td>\n",
       "      <td>187.934</td>\n",
       "      <td>188.093</td>\n",
       "    </tr>\n",
       "    <tr>\n",
       "      <th>3998</th>\n",
       "      <td>2024-01-19 19:00:00+00:00</td>\n",
       "      <td>188.096</td>\n",
       "      <td>188.178</td>\n",
       "      <td>188.072</td>\n",
       "      <td>188.160</td>\n",
       "    </tr>\n",
       "    <tr>\n",
       "      <th>3999</th>\n",
       "      <td>2024-01-19 20:00:00+00:00</td>\n",
       "      <td>188.159</td>\n",
       "      <td>188.204</td>\n",
       "      <td>188.077</td>\n",
       "      <td>188.190</td>\n",
       "    </tr>\n",
       "    <tr>\n",
       "      <th>4000</th>\n",
       "      <td>2024-01-19 21:00:00+00:00</td>\n",
       "      <td>188.182</td>\n",
       "      <td>188.246</td>\n",
       "      <td>188.099</td>\n",
       "      <td>188.238</td>\n",
       "    </tr>\n",
       "  </tbody>\n",
       "</table>\n",
       "</div>"
      ],
      "text/plain": [
       "                          time    mid_o    mid_h    mid_l    mid_c\n",
       "3996 2024-01-19 17:00:00+00:00  187.864  187.960  187.682  187.942\n",
       "3997 2024-01-19 18:00:00+00:00  187.941  188.184  187.934  188.093\n",
       "3998 2024-01-19 19:00:00+00:00  188.096  188.178  188.072  188.160\n",
       "3999 2024-01-19 20:00:00+00:00  188.159  188.204  188.077  188.190\n",
       "4000 2024-01-19 21:00:00+00:00  188.182  188.246  188.099  188.238"
      ]
     },
     "execution_count": 33,
     "metadata": {},
     "output_type": "execute_result"
    }
   ],
   "source": [
    "df_an.tail()"
   ]
  },
  {
   "cell_type": "code",
   "execution_count": 34,
   "id": "3a57a72b",
   "metadata": {},
   "outputs": [],
   "source": [
    "df_an = apply_patterns(df_an)"
   ]
  },
  {
   "cell_type": "code",
   "execution_count": 35,
   "id": "06fc50f0",
   "metadata": {},
   "outputs": [
    {
     "data": {
      "text/html": [
       "<div>\n",
       "<style scoped>\n",
       "    .dataframe tbody tr th:only-of-type {\n",
       "        vertical-align: middle;\n",
       "    }\n",
       "\n",
       "    .dataframe tbody tr th {\n",
       "        vertical-align: top;\n",
       "    }\n",
       "\n",
       "    .dataframe thead th {\n",
       "        text-align: right;\n",
       "    }\n",
       "</style>\n",
       "<table border=\"1\" class=\"dataframe\">\n",
       "  <thead>\n",
       "    <tr style=\"text-align: right;\">\n",
       "      <th></th>\n",
       "      <th>time</th>\n",
       "      <th>mid_o</th>\n",
       "      <th>mid_h</th>\n",
       "      <th>mid_l</th>\n",
       "      <th>mid_c</th>\n",
       "      <th>body_lower</th>\n",
       "      <th>body_upper</th>\n",
       "      <th>body_bottom_perc</th>\n",
       "      <th>body_top_perc</th>\n",
       "      <th>body_perc</th>\n",
       "      <th>...</th>\n",
       "      <th>body_perc_prev_2</th>\n",
       "      <th>HANGING_MAN</th>\n",
       "      <th>SHOOTING_STAR</th>\n",
       "      <th>SPINNING_TOP</th>\n",
       "      <th>MARUBOZU</th>\n",
       "      <th>ENGULFING</th>\n",
       "      <th>TWEEZER_TOP</th>\n",
       "      <th>TWEEZER_BOTTOM</th>\n",
       "      <th>MORNING_STAR</th>\n",
       "      <th>EVENING_STAR</th>\n",
       "    </tr>\n",
       "  </thead>\n",
       "  <tbody>\n",
       "    <tr>\n",
       "      <th>3996</th>\n",
       "      <td>2024-01-19 17:00:00+00:00</td>\n",
       "      <td>187.864</td>\n",
       "      <td>187.960</td>\n",
       "      <td>187.682</td>\n",
       "      <td>187.942</td>\n",
       "      <td>187.864</td>\n",
       "      <td>187.942</td>\n",
       "      <td>65.467626</td>\n",
       "      <td>93.525180</td>\n",
       "      <td>28.057554</td>\n",
       "      <td>...</td>\n",
       "      <td>50.872093</td>\n",
       "      <td>False</td>\n",
       "      <td>False</td>\n",
       "      <td>False</td>\n",
       "      <td>False</td>\n",
       "      <td>False</td>\n",
       "      <td>False</td>\n",
       "      <td>False</td>\n",
       "      <td>False</td>\n",
       "      <td>False</td>\n",
       "    </tr>\n",
       "    <tr>\n",
       "      <th>3997</th>\n",
       "      <td>2024-01-19 18:00:00+00:00</td>\n",
       "      <td>187.941</td>\n",
       "      <td>188.184</td>\n",
       "      <td>187.934</td>\n",
       "      <td>188.093</td>\n",
       "      <td>187.941</td>\n",
       "      <td>188.093</td>\n",
       "      <td>2.800000</td>\n",
       "      <td>63.600000</td>\n",
       "      <td>60.800000</td>\n",
       "      <td>...</td>\n",
       "      <td>33.018868</td>\n",
       "      <td>False</td>\n",
       "      <td>False</td>\n",
       "      <td>False</td>\n",
       "      <td>False</td>\n",
       "      <td>False</td>\n",
       "      <td>False</td>\n",
       "      <td>False</td>\n",
       "      <td>False</td>\n",
       "      <td>False</td>\n",
       "    </tr>\n",
       "    <tr>\n",
       "      <th>3998</th>\n",
       "      <td>2024-01-19 19:00:00+00:00</td>\n",
       "      <td>188.096</td>\n",
       "      <td>188.178</td>\n",
       "      <td>188.072</td>\n",
       "      <td>188.160</td>\n",
       "      <td>188.096</td>\n",
       "      <td>188.160</td>\n",
       "      <td>22.641509</td>\n",
       "      <td>83.018868</td>\n",
       "      <td>60.377358</td>\n",
       "      <td>...</td>\n",
       "      <td>28.057554</td>\n",
       "      <td>False</td>\n",
       "      <td>False</td>\n",
       "      <td>False</td>\n",
       "      <td>False</td>\n",
       "      <td>False</td>\n",
       "      <td>False</td>\n",
       "      <td>False</td>\n",
       "      <td>False</td>\n",
       "      <td>False</td>\n",
       "    </tr>\n",
       "    <tr>\n",
       "      <th>3999</th>\n",
       "      <td>2024-01-19 20:00:00+00:00</td>\n",
       "      <td>188.159</td>\n",
       "      <td>188.204</td>\n",
       "      <td>188.077</td>\n",
       "      <td>188.190</td>\n",
       "      <td>188.159</td>\n",
       "      <td>188.190</td>\n",
       "      <td>64.566929</td>\n",
       "      <td>88.976378</td>\n",
       "      <td>24.409449</td>\n",
       "      <td>...</td>\n",
       "      <td>60.800000</td>\n",
       "      <td>False</td>\n",
       "      <td>False</td>\n",
       "      <td>False</td>\n",
       "      <td>False</td>\n",
       "      <td>False</td>\n",
       "      <td>False</td>\n",
       "      <td>False</td>\n",
       "      <td>False</td>\n",
       "      <td>False</td>\n",
       "    </tr>\n",
       "    <tr>\n",
       "      <th>4000</th>\n",
       "      <td>2024-01-19 21:00:00+00:00</td>\n",
       "      <td>188.182</td>\n",
       "      <td>188.246</td>\n",
       "      <td>188.099</td>\n",
       "      <td>188.238</td>\n",
       "      <td>188.182</td>\n",
       "      <td>188.238</td>\n",
       "      <td>56.462585</td>\n",
       "      <td>94.557823</td>\n",
       "      <td>38.095238</td>\n",
       "      <td>...</td>\n",
       "      <td>60.377358</td>\n",
       "      <td>False</td>\n",
       "      <td>False</td>\n",
       "      <td>False</td>\n",
       "      <td>False</td>\n",
       "      <td>False</td>\n",
       "      <td>False</td>\n",
       "      <td>False</td>\n",
       "      <td>False</td>\n",
       "      <td>False</td>\n",
       "    </tr>\n",
       "  </tbody>\n",
       "</table>\n",
       "<p>5 rows × 31 columns</p>\n",
       "</div>"
      ],
      "text/plain": [
       "                          time    mid_o    mid_h    mid_l    mid_c  \\\n",
       "3996 2024-01-19 17:00:00+00:00  187.864  187.960  187.682  187.942   \n",
       "3997 2024-01-19 18:00:00+00:00  187.941  188.184  187.934  188.093   \n",
       "3998 2024-01-19 19:00:00+00:00  188.096  188.178  188.072  188.160   \n",
       "3999 2024-01-19 20:00:00+00:00  188.159  188.204  188.077  188.190   \n",
       "4000 2024-01-19 21:00:00+00:00  188.182  188.246  188.099  188.238   \n",
       "\n",
       "      body_lower  body_upper  body_bottom_perc  body_top_perc  body_perc  ...  \\\n",
       "3996     187.864     187.942         65.467626      93.525180  28.057554  ...   \n",
       "3997     187.941     188.093          2.800000      63.600000  60.800000  ...   \n",
       "3998     188.096     188.160         22.641509      83.018868  60.377358  ...   \n",
       "3999     188.159     188.190         64.566929      88.976378  24.409449  ...   \n",
       "4000     188.182     188.238         56.462585      94.557823  38.095238  ...   \n",
       "\n",
       "      body_perc_prev_2  HANGING_MAN  SHOOTING_STAR  SPINNING_TOP  MARUBOZU  \\\n",
       "3996         50.872093        False          False         False     False   \n",
       "3997         33.018868        False          False         False     False   \n",
       "3998         28.057554        False          False         False     False   \n",
       "3999         60.800000        False          False         False     False   \n",
       "4000         60.377358        False          False         False     False   \n",
       "\n",
       "      ENGULFING  TWEEZER_TOP  TWEEZER_BOTTOM  MORNING_STAR  EVENING_STAR  \n",
       "3996      False        False           False         False         False  \n",
       "3997      False        False           False         False         False  \n",
       "3998      False        False           False         False         False  \n",
       "3999      False        False           False         False         False  \n",
       "4000      False        False           False         False         False  \n",
       "\n",
       "[5 rows x 31 columns]"
      ]
     },
     "execution_count": 35,
     "metadata": {},
     "output_type": "execute_result"
    }
   ],
   "source": [
    "df_an.tail()"
   ]
  },
  {
   "cell_type": "code",
   "execution_count": 36,
   "id": "29d539d6",
   "metadata": {},
   "outputs": [],
   "source": [
    "import plotly.graph_objects as go"
   ]
  },
  {
   "cell_type": "code",
   "execution_count": 37,
   "id": "fc7b9b79",
   "metadata": {},
   "outputs": [
    {
     "data": {
      "text/html": [
       "<div>\n",
       "<style scoped>\n",
       "    .dataframe tbody tr th:only-of-type {\n",
       "        vertical-align: middle;\n",
       "    }\n",
       "\n",
       "    .dataframe tbody tr th {\n",
       "        vertical-align: top;\n",
       "    }\n",
       "\n",
       "    .dataframe thead th {\n",
       "        text-align: right;\n",
       "    }\n",
       "</style>\n",
       "<table border=\"1\" class=\"dataframe\">\n",
       "  <thead>\n",
       "    <tr style=\"text-align: right;\">\n",
       "      <th></th>\n",
       "      <th>time</th>\n",
       "      <th>mid_o</th>\n",
       "      <th>mid_h</th>\n",
       "      <th>mid_l</th>\n",
       "      <th>mid_c</th>\n",
       "      <th>body_lower</th>\n",
       "      <th>body_upper</th>\n",
       "      <th>body_bottom_perc</th>\n",
       "      <th>body_top_perc</th>\n",
       "      <th>body_perc</th>\n",
       "      <th>...</th>\n",
       "      <th>body_perc_prev_2</th>\n",
       "      <th>HANGING_MAN</th>\n",
       "      <th>SHOOTING_STAR</th>\n",
       "      <th>SPINNING_TOP</th>\n",
       "      <th>MARUBOZU</th>\n",
       "      <th>ENGULFING</th>\n",
       "      <th>TWEEZER_TOP</th>\n",
       "      <th>TWEEZER_BOTTOM</th>\n",
       "      <th>MORNING_STAR</th>\n",
       "      <th>EVENING_STAR</th>\n",
       "    </tr>\n",
       "  </thead>\n",
       "  <tbody>\n",
       "    <tr>\n",
       "      <th>137</th>\n",
       "      <td>2023-06-06 21:00:00+00:00</td>\n",
       "      <td>173.581</td>\n",
       "      <td>173.581</td>\n",
       "      <td>173.438</td>\n",
       "      <td>173.438</td>\n",
       "      <td>173.438</td>\n",
       "      <td>173.581</td>\n",
       "      <td>0.000000</td>\n",
       "      <td>100.000000</td>\n",
       "      <td>100.000000</td>\n",
       "      <td>...</td>\n",
       "      <td>27.884615</td>\n",
       "      <td>False</td>\n",
       "      <td>False</td>\n",
       "      <td>False</td>\n",
       "      <td>True</td>\n",
       "      <td>False</td>\n",
       "      <td>False</td>\n",
       "      <td>False</td>\n",
       "      <td>False</td>\n",
       "      <td>False</td>\n",
       "    </tr>\n",
       "    <tr>\n",
       "      <th>380</th>\n",
       "      <td>2023-06-21 00:00:00+00:00</td>\n",
       "      <td>180.426</td>\n",
       "      <td>180.800</td>\n",
       "      <td>180.421</td>\n",
       "      <td>180.799</td>\n",
       "      <td>180.426</td>\n",
       "      <td>180.799</td>\n",
       "      <td>1.319261</td>\n",
       "      <td>99.736148</td>\n",
       "      <td>98.416887</td>\n",
       "      <td>...</td>\n",
       "      <td>58.771930</td>\n",
       "      <td>False</td>\n",
       "      <td>False</td>\n",
       "      <td>False</td>\n",
       "      <td>True</td>\n",
       "      <td>False</td>\n",
       "      <td>False</td>\n",
       "      <td>False</td>\n",
       "      <td>False</td>\n",
       "      <td>False</td>\n",
       "    </tr>\n",
       "    <tr>\n",
       "      <th>589</th>\n",
       "      <td>2023-07-03 17:00:00+00:00</td>\n",
       "      <td>183.710</td>\n",
       "      <td>183.712</td>\n",
       "      <td>183.497</td>\n",
       "      <td>183.498</td>\n",
       "      <td>183.498</td>\n",
       "      <td>183.710</td>\n",
       "      <td>0.465116</td>\n",
       "      <td>99.069767</td>\n",
       "      <td>98.604651</td>\n",
       "      <td>...</td>\n",
       "      <td>54.251012</td>\n",
       "      <td>False</td>\n",
       "      <td>False</td>\n",
       "      <td>False</td>\n",
       "      <td>True</td>\n",
       "      <td>False</td>\n",
       "      <td>False</td>\n",
       "      <td>False</td>\n",
       "      <td>False</td>\n",
       "      <td>False</td>\n",
       "    </tr>\n",
       "    <tr>\n",
       "      <th>631</th>\n",
       "      <td>2023-07-05 11:00:00+00:00</td>\n",
       "      <td>183.159</td>\n",
       "      <td>183.501</td>\n",
       "      <td>183.159</td>\n",
       "      <td>183.496</td>\n",
       "      <td>183.159</td>\n",
       "      <td>183.496</td>\n",
       "      <td>0.000000</td>\n",
       "      <td>98.538012</td>\n",
       "      <td>98.538012</td>\n",
       "      <td>...</td>\n",
       "      <td>19.195046</td>\n",
       "      <td>False</td>\n",
       "      <td>False</td>\n",
       "      <td>False</td>\n",
       "      <td>True</td>\n",
       "      <td>True</td>\n",
       "      <td>False</td>\n",
       "      <td>False</td>\n",
       "      <td>False</td>\n",
       "      <td>False</td>\n",
       "    </tr>\n",
       "    <tr>\n",
       "      <th>1196</th>\n",
       "      <td>2023-08-08 00:00:00+00:00</td>\n",
       "      <td>182.186</td>\n",
       "      <td>182.692</td>\n",
       "      <td>182.186</td>\n",
       "      <td>182.684</td>\n",
       "      <td>182.186</td>\n",
       "      <td>182.684</td>\n",
       "      <td>0.000000</td>\n",
       "      <td>98.418972</td>\n",
       "      <td>98.418972</td>\n",
       "      <td>...</td>\n",
       "      <td>75.862069</td>\n",
       "      <td>False</td>\n",
       "      <td>False</td>\n",
       "      <td>False</td>\n",
       "      <td>True</td>\n",
       "      <td>False</td>\n",
       "      <td>False</td>\n",
       "      <td>False</td>\n",
       "      <td>False</td>\n",
       "      <td>False</td>\n",
       "    </tr>\n",
       "    <tr>\n",
       "      <th>1400</th>\n",
       "      <td>2023-08-18 12:00:00+00:00</td>\n",
       "      <td>184.668</td>\n",
       "      <td>185.131</td>\n",
       "      <td>184.668</td>\n",
       "      <td>185.123</td>\n",
       "      <td>184.668</td>\n",
       "      <td>185.123</td>\n",
       "      <td>0.000000</td>\n",
       "      <td>98.272138</td>\n",
       "      <td>98.272138</td>\n",
       "      <td>...</td>\n",
       "      <td>48.293963</td>\n",
       "      <td>False</td>\n",
       "      <td>False</td>\n",
       "      <td>False</td>\n",
       "      <td>True</td>\n",
       "      <td>True</td>\n",
       "      <td>False</td>\n",
       "      <td>False</td>\n",
       "      <td>False</td>\n",
       "      <td>False</td>\n",
       "    </tr>\n",
       "    <tr>\n",
       "      <th>2269</th>\n",
       "      <td>2023-10-09 17:00:00+00:00</td>\n",
       "      <td>181.405</td>\n",
       "      <td>181.694</td>\n",
       "      <td>181.405</td>\n",
       "      <td>181.693</td>\n",
       "      <td>181.405</td>\n",
       "      <td>181.693</td>\n",
       "      <td>0.000000</td>\n",
       "      <td>99.653979</td>\n",
       "      <td>99.653979</td>\n",
       "      <td>...</td>\n",
       "      <td>32.851986</td>\n",
       "      <td>False</td>\n",
       "      <td>False</td>\n",
       "      <td>False</td>\n",
       "      <td>True</td>\n",
       "      <td>True</td>\n",
       "      <td>False</td>\n",
       "      <td>False</td>\n",
       "      <td>False</td>\n",
       "      <td>False</td>\n",
       "    </tr>\n",
       "    <tr>\n",
       "      <th>3042</th>\n",
       "      <td>2023-11-22 23:00:00+00:00</td>\n",
       "      <td>186.836</td>\n",
       "      <td>186.836</td>\n",
       "      <td>186.668</td>\n",
       "      <td>186.669</td>\n",
       "      <td>186.669</td>\n",
       "      <td>186.836</td>\n",
       "      <td>0.595238</td>\n",
       "      <td>100.000000</td>\n",
       "      <td>99.404762</td>\n",
       "      <td>...</td>\n",
       "      <td>80.165289</td>\n",
       "      <td>False</td>\n",
       "      <td>False</td>\n",
       "      <td>False</td>\n",
       "      <td>True</td>\n",
       "      <td>True</td>\n",
       "      <td>False</td>\n",
       "      <td>False</td>\n",
       "      <td>False</td>\n",
       "      <td>False</td>\n",
       "    </tr>\n",
       "    <tr>\n",
       "      <th>3066</th>\n",
       "      <td>2023-11-23 23:00:00+00:00</td>\n",
       "      <td>187.349</td>\n",
       "      <td>187.548</td>\n",
       "      <td>187.349</td>\n",
       "      <td>187.546</td>\n",
       "      <td>187.349</td>\n",
       "      <td>187.546</td>\n",
       "      <td>0.000000</td>\n",
       "      <td>98.994975</td>\n",
       "      <td>98.994975</td>\n",
       "      <td>...</td>\n",
       "      <td>28.169014</td>\n",
       "      <td>False</td>\n",
       "      <td>False</td>\n",
       "      <td>False</td>\n",
       "      <td>True</td>\n",
       "      <td>True</td>\n",
       "      <td>False</td>\n",
       "      <td>False</td>\n",
       "      <td>False</td>\n",
       "      <td>False</td>\n",
       "    </tr>\n",
       "    <tr>\n",
       "      <th>3070</th>\n",
       "      <td>2023-11-24 03:00:00+00:00</td>\n",
       "      <td>187.301</td>\n",
       "      <td>187.418</td>\n",
       "      <td>187.301</td>\n",
       "      <td>187.418</td>\n",
       "      <td>187.301</td>\n",
       "      <td>187.418</td>\n",
       "      <td>0.000000</td>\n",
       "      <td>100.000000</td>\n",
       "      <td>100.000000</td>\n",
       "      <td>...</td>\n",
       "      <td>48.717949</td>\n",
       "      <td>False</td>\n",
       "      <td>False</td>\n",
       "      <td>False</td>\n",
       "      <td>True</td>\n",
       "      <td>True</td>\n",
       "      <td>False</td>\n",
       "      <td>False</td>\n",
       "      <td>False</td>\n",
       "      <td>False</td>\n",
       "    </tr>\n",
       "    <tr>\n",
       "      <th>3354</th>\n",
       "      <td>2023-12-11 23:00:00+00:00</td>\n",
       "      <td>183.528</td>\n",
       "      <td>183.528</td>\n",
       "      <td>183.346</td>\n",
       "      <td>183.346</td>\n",
       "      <td>183.346</td>\n",
       "      <td>183.528</td>\n",
       "      <td>0.000000</td>\n",
       "      <td>100.000000</td>\n",
       "      <td>100.000000</td>\n",
       "      <td>...</td>\n",
       "      <td>45.255474</td>\n",
       "      <td>False</td>\n",
       "      <td>False</td>\n",
       "      <td>False</td>\n",
       "      <td>True</td>\n",
       "      <td>True</td>\n",
       "      <td>False</td>\n",
       "      <td>False</td>\n",
       "      <td>False</td>\n",
       "      <td>False</td>\n",
       "    </tr>\n",
       "    <tr>\n",
       "      <th>3482</th>\n",
       "      <td>2023-12-19 07:00:00+00:00</td>\n",
       "      <td>181.832</td>\n",
       "      <td>182.638</td>\n",
       "      <td>181.829</td>\n",
       "      <td>182.625</td>\n",
       "      <td>181.832</td>\n",
       "      <td>182.625</td>\n",
       "      <td>0.370828</td>\n",
       "      <td>98.393078</td>\n",
       "      <td>98.022250</td>\n",
       "      <td>...</td>\n",
       "      <td>18.584071</td>\n",
       "      <td>False</td>\n",
       "      <td>False</td>\n",
       "      <td>False</td>\n",
       "      <td>True</td>\n",
       "      <td>False</td>\n",
       "      <td>False</td>\n",
       "      <td>False</td>\n",
       "      <td>False</td>\n",
       "      <td>False</td>\n",
       "    </tr>\n",
       "  </tbody>\n",
       "</table>\n",
       "<p>12 rows × 31 columns</p>\n",
       "</div>"
      ],
      "text/plain": [
       "                          time    mid_o    mid_h    mid_l    mid_c  \\\n",
       "137  2023-06-06 21:00:00+00:00  173.581  173.581  173.438  173.438   \n",
       "380  2023-06-21 00:00:00+00:00  180.426  180.800  180.421  180.799   \n",
       "589  2023-07-03 17:00:00+00:00  183.710  183.712  183.497  183.498   \n",
       "631  2023-07-05 11:00:00+00:00  183.159  183.501  183.159  183.496   \n",
       "1196 2023-08-08 00:00:00+00:00  182.186  182.692  182.186  182.684   \n",
       "1400 2023-08-18 12:00:00+00:00  184.668  185.131  184.668  185.123   \n",
       "2269 2023-10-09 17:00:00+00:00  181.405  181.694  181.405  181.693   \n",
       "3042 2023-11-22 23:00:00+00:00  186.836  186.836  186.668  186.669   \n",
       "3066 2023-11-23 23:00:00+00:00  187.349  187.548  187.349  187.546   \n",
       "3070 2023-11-24 03:00:00+00:00  187.301  187.418  187.301  187.418   \n",
       "3354 2023-12-11 23:00:00+00:00  183.528  183.528  183.346  183.346   \n",
       "3482 2023-12-19 07:00:00+00:00  181.832  182.638  181.829  182.625   \n",
       "\n",
       "      body_lower  body_upper  body_bottom_perc  body_top_perc   body_perc  \\\n",
       "137      173.438     173.581          0.000000     100.000000  100.000000   \n",
       "380      180.426     180.799          1.319261      99.736148   98.416887   \n",
       "589      183.498     183.710          0.465116      99.069767   98.604651   \n",
       "631      183.159     183.496          0.000000      98.538012   98.538012   \n",
       "1196     182.186     182.684          0.000000      98.418972   98.418972   \n",
       "1400     184.668     185.123          0.000000      98.272138   98.272138   \n",
       "2269     181.405     181.693          0.000000      99.653979   99.653979   \n",
       "3042     186.669     186.836          0.595238     100.000000   99.404762   \n",
       "3066     187.349     187.546          0.000000      98.994975   98.994975   \n",
       "3070     187.301     187.418          0.000000     100.000000  100.000000   \n",
       "3354     183.346     183.528          0.000000     100.000000  100.000000   \n",
       "3482     181.832     182.625          0.370828      98.393078   98.022250   \n",
       "\n",
       "      ...  body_perc_prev_2  HANGING_MAN  SHOOTING_STAR  SPINNING_TOP  \\\n",
       "137   ...         27.884615        False          False         False   \n",
       "380   ...         58.771930        False          False         False   \n",
       "589   ...         54.251012        False          False         False   \n",
       "631   ...         19.195046        False          False         False   \n",
       "1196  ...         75.862069        False          False         False   \n",
       "1400  ...         48.293963        False          False         False   \n",
       "2269  ...         32.851986        False          False         False   \n",
       "3042  ...         80.165289        False          False         False   \n",
       "3066  ...         28.169014        False          False         False   \n",
       "3070  ...         48.717949        False          False         False   \n",
       "3354  ...         45.255474        False          False         False   \n",
       "3482  ...         18.584071        False          False         False   \n",
       "\n",
       "      MARUBOZU  ENGULFING  TWEEZER_TOP  TWEEZER_BOTTOM  MORNING_STAR  \\\n",
       "137       True      False        False           False         False   \n",
       "380       True      False        False           False         False   \n",
       "589       True      False        False           False         False   \n",
       "631       True       True        False           False         False   \n",
       "1196      True      False        False           False         False   \n",
       "1400      True       True        False           False         False   \n",
       "2269      True       True        False           False         False   \n",
       "3042      True       True        False           False         False   \n",
       "3066      True       True        False           False         False   \n",
       "3070      True       True        False           False         False   \n",
       "3354      True       True        False           False         False   \n",
       "3482      True      False        False           False         False   \n",
       "\n",
       "      EVENING_STAR  \n",
       "137          False  \n",
       "380          False  \n",
       "589          False  \n",
       "631          False  \n",
       "1196         False  \n",
       "1400         False  \n",
       "2269         False  \n",
       "3042         False  \n",
       "3066         False  \n",
       "3070         False  \n",
       "3354         False  \n",
       "3482         False  \n",
       "\n",
       "[12 rows x 31 columns]"
      ]
     },
     "execution_count": 37,
     "metadata": {},
     "output_type": "execute_result"
    }
   ],
   "source": [
    "df_an[df_an.MARUBOZU==True]"
   ]
  },
  {
   "cell_type": "code",
   "execution_count": 38,
   "id": "1423fcd9",
   "metadata": {},
   "outputs": [
    {
     "data": {
      "application/vnd.plotly.v1+json": {
       "config": {
        "plotlyServerURL": "https://plot.ly"
       },
       "data": [
        {
         "close": [
          183.518,
          183.508,
          183.474,
          183.463,
          183.316,
          183.394,
          183.566,
          183.645,
          183.822,
          183.672,
          183.735,
          183.854,
          183.808,
          183.866,
          183.758,
          183.72,
          183.66,
          183.648,
          183.67,
          183.65,
          183.664,
          183.736,
          183.646,
          183.644,
          183.636,
          183.782,
          183.784,
          183.602,
          183.514,
          183.452,
          183.161,
          183.496,
          183.61,
          183.508,
          183.712,
          183.701,
          183.8,
          183.71,
          183.642,
          183.738,
          183.77,
          183.666,
          183.616,
          183.578,
          183.14,
          183.464,
          183.26,
          183.101,
          182.898,
          182.66,
          182.918,
          183.112,
          183.042,
          183.454,
          183.699,
          183.54,
          183.8,
          183.692,
          183.171,
          183.271,
          183.411,
          183.6,
          183.664,
          183.616,
          183.526,
          183.512,
          183.562,
          183.45,
          183.436,
          183.376,
          183.29,
          183.296,
          183.258,
          182.946,
          182.677,
          182.368,
          182.062,
          182.442,
          182.784,
          182.802,
          183.073,
          182.463,
          182.402,
          182.582,
          182.602,
          182.526,
          182.488,
          182.362,
          182.505,
          182.464,
          182.534,
          182.57,
          182.752,
          182.744,
          183.084,
          182.917,
          183.174,
          182.716,
          182.46,
          182.33,
          182.43,
          182.496,
          182.172,
          181.62,
          181.638,
          181.252,
          181.591,
          181.704,
          181.75,
          181.629,
          181.684,
          181.742,
          181.74,
          181.739,
          181.784,
          181.781,
          181.9,
          181.554,
          181.084,
          181.318,
          181.279,
          181.276,
          181.283,
          180.917,
          181.116,
          181.317,
          181.266,
          181.314,
          181.174,
          181.724,
          181.335,
          181.266,
          181.346,
          181.324,
          181.589,
          181.542,
          181.499,
          181.506,
          181.392,
          181.235,
          180.92,
          180.751,
          180.964,
          180.984,
          180.886,
          180.724,
          180.506,
          180.608,
          180.542,
          180.548,
          180.249,
          180.136,
          180.334,
          180.347,
          179.92,
          179.548,
          179.872,
          179.555,
          179.729,
          179.895,
          179.91,
          179.796,
          179.782,
          179.77,
          179.996,
          180.094,
          180.264,
          180.228,
          180.169,
          180.318,
          180.052,
          180.253,
          180.489,
          181.05,
          181.005,
          180.917,
          181.386,
          181.102,
          181.228,
          180.91,
          181.064,
          181.182,
          181.238,
          181.264,
          181.348,
          181.328,
          181.259,
          181.267,
          180.652,
          180.52,
          180.724,
          180.568,
          180.814,
          180.842,
          181.218,
          181.297,
          181.485,
          181.648,
          181.708,
          181.678
         ],
         "decreasing": {
          "fillcolor": "#CC2E3C",
          "line": {
           "color": "#FF3A4C"
          }
         },
         "high": [
          183.612,
          183.528,
          183.61,
          183.564,
          183.47,
          183.406,
          183.634,
          183.731,
          183.862,
          183.825,
          183.774,
          183.915,
          183.88,
          183.867,
          183.898,
          183.797,
          183.718,
          183.695,
          183.694,
          183.72,
          183.88,
          183.907,
          183.77,
          183.694,
          183.657,
          183.854,
          183.856,
          184.02,
          183.602,
          183.585,
          183.544,
          183.501,
          183.82,
          183.729,
          183.766,
          183.85,
          183.886,
          183.825,
          183.778,
          183.776,
          183.813,
          183.77,
          183.738,
          183.64,
          183.601,
          183.474,
          183.511,
          183.271,
          183.116,
          182.91,
          182.976,
          183.155,
          183.242,
          183.485,
          183.808,
          183.776,
          183.918,
          184.011,
          183.868,
          183.321,
          183.488,
          183.615,
          183.717,
          183.701,
          183.625,
          183.6,
          183.574,
          183.566,
          183.561,
          183.509,
          183.404,
          183.334,
          183.344,
          183.281,
          183.046,
          182.84,
          182.48,
          182.526,
          182.804,
          183.064,
          183.112,
          183.122,
          182.501,
          182.646,
          182.678,
          182.628,
          182.536,
          182.504,
          182.553,
          182.523,
          182.672,
          182.609,
          182.804,
          183.01,
          183.15,
          183.138,
          183.224,
          183.196,
          182.756,
          182.73,
          182.612,
          182.651,
          182.576,
          182.222,
          181.85,
          181.722,
          181.647,
          181.741,
          181.8,
          181.764,
          181.712,
          181.835,
          181.8,
          181.79,
          181.803,
          181.81,
          182.004,
          181.904,
          181.613,
          181.396,
          181.319,
          181.392,
          181.778,
          181.54,
          181.244,
          181.52,
          181.46,
          181.37,
          181.378,
          181.856,
          181.77,
          181.428,
          181.353,
          181.45,
          181.599,
          181.614,
          181.547,
          181.555,
          181.5,
          181.495,
          181.276,
          180.93,
          181.154,
          181.013,
          181.05,
          180.909,
          180.856,
          180.88,
          180.813,
          180.654,
          180.583,
          180.334,
          180.464,
          180.768,
          180.5,
          179.932,
          179.947,
          179.891,
          179.739,
          179.904,
          179.974,
          179.896,
          179.875,
          179.92,
          180.028,
          180.233,
          180.284,
          180.288,
          180.254,
          180.344,
          180.546,
          180.327,
          180.852,
          181.195,
          181.097,
          181.089,
          181.432,
          181.469,
          181.292,
          181.282,
          181.085,
          181.255,
          181.278,
          181.346,
          181.358,
          181.384,
          181.34,
          181.276,
          181.322,
          180.73,
          180.803,
          180.767,
          180.842,
          180.938,
          181.278,
          181.527,
          181.49,
          181.725,
          182.03,
          181.743
         ],
         "increasing": {
          "fillcolor": "#24A06B",
          "line": {
           "color": "#2EC886"
          }
         },
         "line": {
          "width": 1
         },
         "low": [
          183.44,
          183.457,
          183.416,
          183.368,
          183.238,
          183.263,
          183.322,
          183.562,
          183.614,
          183.524,
          183.596,
          183.736,
          183.725,
          183.777,
          183.74,
          183.644,
          183.626,
          183.635,
          183.586,
          183.632,
          183.647,
          183.648,
          183.636,
          183.603,
          183.571,
          183.581,
          183.672,
          183.584,
          183.204,
          183.262,
          183.158,
          183.159,
          183.442,
          183.324,
          183.336,
          183.626,
          183.668,
          183.668,
          183.606,
          183.641,
          183.732,
          183.648,
          183.601,
          183.43,
          183.066,
          183.114,
          183.234,
          183.101,
          182.736,
          182.569,
          182.614,
          182.504,
          182.832,
          182.948,
          183.398,
          183.506,
          183.481,
          183.574,
          183.041,
          182.827,
          183.192,
          183.38,
          183.572,
          183.578,
          183.505,
          183.418,
          183.484,
          183.35,
          183.18,
          183.352,
          183.267,
          183.228,
          183.234,
          182.89,
          182.639,
          182.366,
          182.056,
          182.018,
          182.384,
          182.654,
          182.418,
          182.136,
          182.092,
          182.34,
          182.373,
          182.5,
          182.452,
          182.341,
          182.35,
          182.432,
          182.442,
          182.473,
          182.438,
          182.644,
          182.735,
          182.828,
          182.91,
          182.644,
          182.375,
          182.146,
          182.331,
          182.298,
          182.118,
          181.612,
          181.51,
          181.104,
          181.131,
          181.498,
          181.643,
          181.578,
          181.59,
          181.644,
          181.724,
          181.679,
          181.638,
          181.664,
          181.661,
          181.544,
          181.008,
          181.085,
          181.138,
          181.15,
          181.228,
          180.793,
          180.861,
          181.062,
          181.094,
          181.124,
          181.106,
          181.072,
          181.31,
          181.127,
          181.157,
          181.319,
          181.31,
          181.507,
          181.46,
          181.456,
          181.36,
          181.208,
          180.778,
          180.669,
          180.726,
          180.784,
          180.822,
          180.674,
          180.5,
          180.462,
          180.495,
          180.458,
          180.246,
          180.045,
          179.824,
          180.335,
          179.814,
          179.47,
          179.528,
          179.507,
          179.542,
          179.666,
          179.871,
          179.704,
          179.728,
          179.724,
          179.497,
          179.896,
          180.092,
          180.103,
          180.122,
          180.164,
          179.88,
          180.01,
          180.204,
          180.464,
          180.866,
          180.872,
          180.66,
          180.96,
          180.836,
          180.794,
          180.857,
          181.031,
          181.028,
          181.157,
          181.213,
          181.168,
          181.2,
          181.066,
          180.61,
          180.202,
          180.392,
          180.505,
          180.476,
          180.671,
          180.734,
          181.192,
          181.245,
          181.438,
          181.622,
          181.499
         ],
         "opacity": 1,
         "open": [
          183.547,
          183.516,
          183.512,
          183.474,
          183.464,
          183.316,
          183.396,
          183.568,
          183.647,
          183.821,
          183.676,
          183.736,
          183.853,
          183.804,
          183.866,
          183.76,
          183.718,
          183.67,
          183.646,
          183.668,
          183.65,
          183.66,
          183.735,
          183.64,
          183.644,
          183.636,
          183.786,
          183.786,
          183.602,
          183.514,
          183.452,
          183.159,
          183.494,
          183.611,
          183.51,
          183.711,
          183.703,
          183.8,
          183.71,
          183.643,
          183.74,
          183.648,
          183.644,
          183.62,
          183.578,
          183.14,
          183.463,
          183.262,
          183.1,
          182.898,
          182.66,
          182.912,
          183.114,
          183.044,
          183.453,
          183.7,
          183.539,
          183.801,
          183.713,
          183.172,
          183.27,
          183.412,
          183.6,
          183.665,
          183.618,
          183.496,
          183.513,
          183.562,
          183.45,
          183.434,
          183.371,
          183.291,
          183.299,
          183.258,
          182.951,
          182.676,
          182.366,
          182.062,
          182.44,
          182.782,
          182.802,
          183.081,
          182.467,
          182.403,
          182.582,
          182.602,
          182.525,
          182.488,
          182.366,
          182.514,
          182.442,
          182.548,
          182.566,
          182.753,
          182.745,
          183.084,
          182.92,
          183.17,
          182.702,
          182.462,
          182.331,
          182.428,
          182.497,
          182.172,
          181.619,
          181.639,
          181.251,
          181.592,
          181.704,
          181.748,
          181.629,
          181.683,
          181.744,
          181.735,
          181.742,
          181.784,
          181.782,
          181.902,
          181.551,
          181.088,
          181.318,
          181.278,
          181.282,
          181.284,
          180.918,
          181.116,
          181.32,
          181.268,
          181.315,
          181.172,
          181.728,
          181.334,
          181.264,
          181.35,
          181.325,
          181.588,
          181.537,
          181.51,
          181.482,
          181.396,
          181.224,
          180.921,
          180.748,
          180.965,
          180.986,
          180.887,
          180.732,
          180.509,
          180.602,
          180.542,
          180.548,
          180.25,
          180.134,
          180.336,
          180.344,
          179.918,
          179.546,
          179.872,
          179.55,
          179.726,
          179.892,
          179.824,
          179.807,
          179.78,
          179.771,
          179.995,
          180.094,
          180.26,
          180.228,
          180.168,
          180.292,
          180.054,
          180.254,
          180.491,
          181.049,
          181.008,
          180.912,
          181.38,
          181.115,
          181.229,
          180.909,
          181.064,
          181.182,
          181.237,
          181.25,
          181.262,
          181.27,
          181.26,
          181.259,
          180.653,
          180.522,
          180.724,
          180.569,
          180.812,
          180.838,
          181.218,
          181.296,
          181.486,
          181.649,
          181.706
         ],
         "type": "candlestick",
         "x": [
          "s23-07-04 04:00",
          "s23-07-04 05:00",
          "s23-07-04 06:00",
          "s23-07-04 07:00",
          "s23-07-04 08:00",
          "s23-07-04 09:00",
          "s23-07-04 10:00",
          "s23-07-04 11:00",
          "s23-07-04 12:00",
          "s23-07-04 13:00",
          "s23-07-04 14:00",
          "s23-07-04 15:00",
          "s23-07-04 16:00",
          "s23-07-04 17:00",
          "s23-07-04 18:00",
          "s23-07-04 19:00",
          "s23-07-04 20:00",
          "s23-07-04 21:00",
          "s23-07-04 22:00",
          "s23-07-04 23:00",
          "s23-07-05 00:00",
          "s23-07-05 01:00",
          "s23-07-05 02:00",
          "s23-07-05 03:00",
          "s23-07-05 04:00",
          "s23-07-05 05:00",
          "s23-07-05 06:00",
          "s23-07-05 07:00",
          "s23-07-05 08:00",
          "s23-07-05 09:00",
          "s23-07-05 10:00",
          "s23-07-05 11:00",
          "s23-07-05 12:00",
          "s23-07-05 13:00",
          "s23-07-05 14:00",
          "s23-07-05 15:00",
          "s23-07-05 16:00",
          "s23-07-05 17:00",
          "s23-07-05 18:00",
          "s23-07-05 19:00",
          "s23-07-05 20:00",
          "s23-07-05 21:00",
          "s23-07-05 22:00",
          "s23-07-05 23:00",
          "s23-07-06 00:00",
          "s23-07-06 01:00",
          "s23-07-06 02:00",
          "s23-07-06 03:00",
          "s23-07-06 04:00",
          "s23-07-06 05:00",
          "s23-07-06 06:00",
          "s23-07-06 07:00",
          "s23-07-06 08:00",
          "s23-07-06 09:00",
          "s23-07-06 10:00",
          "s23-07-06 11:00",
          "s23-07-06 12:00",
          "s23-07-06 13:00",
          "s23-07-06 14:00",
          "s23-07-06 15:00",
          "s23-07-06 16:00",
          "s23-07-06 17:00",
          "s23-07-06 18:00",
          "s23-07-06 19:00",
          "s23-07-06 20:00",
          "s23-07-06 21:00",
          "s23-07-06 22:00",
          "s23-07-06 23:00",
          "s23-07-07 00:00",
          "s23-07-07 01:00",
          "s23-07-07 02:00",
          "s23-07-07 03:00",
          "s23-07-07 04:00",
          "s23-07-07 05:00",
          "s23-07-07 06:00",
          "s23-07-07 07:00",
          "s23-07-07 08:00",
          "s23-07-07 09:00",
          "s23-07-07 10:00",
          "s23-07-07 11:00",
          "s23-07-07 12:00",
          "s23-07-07 13:00",
          "s23-07-07 14:00",
          "s23-07-07 15:00",
          "s23-07-07 16:00",
          "s23-07-07 17:00",
          "s23-07-07 18:00",
          "s23-07-07 19:00",
          "s23-07-07 20:00",
          "s23-07-09 21:00",
          "s23-07-09 22:00",
          "s23-07-09 23:00",
          "s23-07-10 00:00",
          "s23-07-10 01:00",
          "s23-07-10 02:00",
          "s23-07-10 03:00",
          "s23-07-10 04:00",
          "s23-07-10 05:00",
          "s23-07-10 06:00",
          "s23-07-10 07:00",
          "s23-07-10 08:00",
          "s23-07-10 09:00",
          "s23-07-10 10:00",
          "s23-07-10 11:00",
          "s23-07-10 12:00",
          "s23-07-10 13:00",
          "s23-07-10 14:00",
          "s23-07-10 15:00",
          "s23-07-10 16:00",
          "s23-07-10 17:00",
          "s23-07-10 18:00",
          "s23-07-10 19:00",
          "s23-07-10 20:00",
          "s23-07-10 21:00",
          "s23-07-10 22:00",
          "s23-07-10 23:00",
          "s23-07-11 00:00",
          "s23-07-11 01:00",
          "s23-07-11 02:00",
          "s23-07-11 03:00",
          "s23-07-11 04:00",
          "s23-07-11 05:00",
          "s23-07-11 06:00",
          "s23-07-11 07:00",
          "s23-07-11 08:00",
          "s23-07-11 09:00",
          "s23-07-11 10:00",
          "s23-07-11 11:00",
          "s23-07-11 12:00",
          "s23-07-11 13:00",
          "s23-07-11 14:00",
          "s23-07-11 15:00",
          "s23-07-11 16:00",
          "s23-07-11 17:00",
          "s23-07-11 18:00",
          "s23-07-11 19:00",
          "s23-07-11 20:00",
          "s23-07-11 21:00",
          "s23-07-11 22:00",
          "s23-07-11 23:00",
          "s23-07-12 00:00",
          "s23-07-12 01:00",
          "s23-07-12 02:00",
          "s23-07-12 03:00",
          "s23-07-12 04:00",
          "s23-07-12 05:00",
          "s23-07-12 06:00",
          "s23-07-12 07:00",
          "s23-07-12 08:00",
          "s23-07-12 09:00",
          "s23-07-12 10:00",
          "s23-07-12 11:00",
          "s23-07-12 12:00",
          "s23-07-12 13:00",
          "s23-07-12 14:00",
          "s23-07-12 15:00",
          "s23-07-12 16:00",
          "s23-07-12 17:00",
          "s23-07-12 18:00",
          "s23-07-12 19:00",
          "s23-07-12 20:00",
          "s23-07-12 21:00",
          "s23-07-12 22:00",
          "s23-07-12 23:00",
          "s23-07-13 00:00",
          "s23-07-13 01:00",
          "s23-07-13 02:00",
          "s23-07-13 03:00",
          "s23-07-13 04:00",
          "s23-07-13 05:00",
          "s23-07-13 06:00",
          "s23-07-13 07:00",
          "s23-07-13 08:00",
          "s23-07-13 09:00",
          "s23-07-13 10:00",
          "s23-07-13 11:00",
          "s23-07-13 12:00",
          "s23-07-13 13:00",
          "s23-07-13 14:00",
          "s23-07-13 15:00",
          "s23-07-13 16:00",
          "s23-07-13 17:00",
          "s23-07-13 18:00",
          "s23-07-13 19:00",
          "s23-07-13 20:00",
          "s23-07-13 21:00",
          "s23-07-13 22:00",
          "s23-07-13 23:00",
          "s23-07-14 00:00",
          "s23-07-14 01:00",
          "s23-07-14 02:00",
          "s23-07-14 03:00",
          "s23-07-14 04:00",
          "s23-07-14 05:00",
          "s23-07-14 06:00",
          "s23-07-14 07:00",
          "s23-07-14 08:00",
          "s23-07-14 09:00",
          "s23-07-14 10:00",
          "s23-07-14 11:00"
         ]
        },
        {
         "close": [
          183.496
         ],
         "decreasing": {
          "fillcolor": "#0066FF",
          "line": {
           "color": "#0066FF"
          }
         },
         "high": [
          183.501
         ],
         "increasing": {
          "fillcolor": "#0066FF",
          "line": {
           "color": "#0066FF"
          }
         },
         "line": {
          "width": 1
         },
         "low": [
          183.159
         ],
         "opacity": 1,
         "open": [
          183.159
         ],
         "type": "candlestick",
         "x": [
          "s23-07-05 11:00"
         ]
        }
       ],
       "layout": {
        "font": {
         "color": "#e1e1e1",
         "size": 8
        },
        "height": 500,
        "margin": {
         "b": 10,
         "l": 10,
         "r": 10,
         "t": 10
        },
        "paper_bgcolor": "#2c303c",
        "plot_bgcolor": "#2c303c",
        "template": {
         "data": {
          "bar": [
           {
            "error_x": {
             "color": "#2a3f5f"
            },
            "error_y": {
             "color": "#2a3f5f"
            },
            "marker": {
             "line": {
              "color": "#E5ECF6",
              "width": 0.5
             },
             "pattern": {
              "fillmode": "overlay",
              "size": 10,
              "solidity": 0.2
             }
            },
            "type": "bar"
           }
          ],
          "barpolar": [
           {
            "marker": {
             "line": {
              "color": "#E5ECF6",
              "width": 0.5
             },
             "pattern": {
              "fillmode": "overlay",
              "size": 10,
              "solidity": 0.2
             }
            },
            "type": "barpolar"
           }
          ],
          "carpet": [
           {
            "aaxis": {
             "endlinecolor": "#2a3f5f",
             "gridcolor": "white",
             "linecolor": "white",
             "minorgridcolor": "white",
             "startlinecolor": "#2a3f5f"
            },
            "baxis": {
             "endlinecolor": "#2a3f5f",
             "gridcolor": "white",
             "linecolor": "white",
             "minorgridcolor": "white",
             "startlinecolor": "#2a3f5f"
            },
            "type": "carpet"
           }
          ],
          "choropleth": [
           {
            "colorbar": {
             "outlinewidth": 0,
             "ticks": ""
            },
            "type": "choropleth"
           }
          ],
          "contour": [
           {
            "colorbar": {
             "outlinewidth": 0,
             "ticks": ""
            },
            "colorscale": [
             [
              0,
              "#0d0887"
             ],
             [
              0.1111111111111111,
              "#46039f"
             ],
             [
              0.2222222222222222,
              "#7201a8"
             ],
             [
              0.3333333333333333,
              "#9c179e"
             ],
             [
              0.4444444444444444,
              "#bd3786"
             ],
             [
              0.5555555555555556,
              "#d8576b"
             ],
             [
              0.6666666666666666,
              "#ed7953"
             ],
             [
              0.7777777777777778,
              "#fb9f3a"
             ],
             [
              0.8888888888888888,
              "#fdca26"
             ],
             [
              1,
              "#f0f921"
             ]
            ],
            "type": "contour"
           }
          ],
          "contourcarpet": [
           {
            "colorbar": {
             "outlinewidth": 0,
             "ticks": ""
            },
            "type": "contourcarpet"
           }
          ],
          "heatmap": [
           {
            "colorbar": {
             "outlinewidth": 0,
             "ticks": ""
            },
            "colorscale": [
             [
              0,
              "#0d0887"
             ],
             [
              0.1111111111111111,
              "#46039f"
             ],
             [
              0.2222222222222222,
              "#7201a8"
             ],
             [
              0.3333333333333333,
              "#9c179e"
             ],
             [
              0.4444444444444444,
              "#bd3786"
             ],
             [
              0.5555555555555556,
              "#d8576b"
             ],
             [
              0.6666666666666666,
              "#ed7953"
             ],
             [
              0.7777777777777778,
              "#fb9f3a"
             ],
             [
              0.8888888888888888,
              "#fdca26"
             ],
             [
              1,
              "#f0f921"
             ]
            ],
            "type": "heatmap"
           }
          ],
          "heatmapgl": [
           {
            "colorbar": {
             "outlinewidth": 0,
             "ticks": ""
            },
            "colorscale": [
             [
              0,
              "#0d0887"
             ],
             [
              0.1111111111111111,
              "#46039f"
             ],
             [
              0.2222222222222222,
              "#7201a8"
             ],
             [
              0.3333333333333333,
              "#9c179e"
             ],
             [
              0.4444444444444444,
              "#bd3786"
             ],
             [
              0.5555555555555556,
              "#d8576b"
             ],
             [
              0.6666666666666666,
              "#ed7953"
             ],
             [
              0.7777777777777778,
              "#fb9f3a"
             ],
             [
              0.8888888888888888,
              "#fdca26"
             ],
             [
              1,
              "#f0f921"
             ]
            ],
            "type": "heatmapgl"
           }
          ],
          "histogram": [
           {
            "marker": {
             "pattern": {
              "fillmode": "overlay",
              "size": 10,
              "solidity": 0.2
             }
            },
            "type": "histogram"
           }
          ],
          "histogram2d": [
           {
            "colorbar": {
             "outlinewidth": 0,
             "ticks": ""
            },
            "colorscale": [
             [
              0,
              "#0d0887"
             ],
             [
              0.1111111111111111,
              "#46039f"
             ],
             [
              0.2222222222222222,
              "#7201a8"
             ],
             [
              0.3333333333333333,
              "#9c179e"
             ],
             [
              0.4444444444444444,
              "#bd3786"
             ],
             [
              0.5555555555555556,
              "#d8576b"
             ],
             [
              0.6666666666666666,
              "#ed7953"
             ],
             [
              0.7777777777777778,
              "#fb9f3a"
             ],
             [
              0.8888888888888888,
              "#fdca26"
             ],
             [
              1,
              "#f0f921"
             ]
            ],
            "type": "histogram2d"
           }
          ],
          "histogram2dcontour": [
           {
            "colorbar": {
             "outlinewidth": 0,
             "ticks": ""
            },
            "colorscale": [
             [
              0,
              "#0d0887"
             ],
             [
              0.1111111111111111,
              "#46039f"
             ],
             [
              0.2222222222222222,
              "#7201a8"
             ],
             [
              0.3333333333333333,
              "#9c179e"
             ],
             [
              0.4444444444444444,
              "#bd3786"
             ],
             [
              0.5555555555555556,
              "#d8576b"
             ],
             [
              0.6666666666666666,
              "#ed7953"
             ],
             [
              0.7777777777777778,
              "#fb9f3a"
             ],
             [
              0.8888888888888888,
              "#fdca26"
             ],
             [
              1,
              "#f0f921"
             ]
            ],
            "type": "histogram2dcontour"
           }
          ],
          "mesh3d": [
           {
            "colorbar": {
             "outlinewidth": 0,
             "ticks": ""
            },
            "type": "mesh3d"
           }
          ],
          "parcoords": [
           {
            "line": {
             "colorbar": {
              "outlinewidth": 0,
              "ticks": ""
             }
            },
            "type": "parcoords"
           }
          ],
          "pie": [
           {
            "automargin": true,
            "type": "pie"
           }
          ],
          "scatter": [
           {
            "fillpattern": {
             "fillmode": "overlay",
             "size": 10,
             "solidity": 0.2
            },
            "type": "scatter"
           }
          ],
          "scatter3d": [
           {
            "line": {
             "colorbar": {
              "outlinewidth": 0,
              "ticks": ""
             }
            },
            "marker": {
             "colorbar": {
              "outlinewidth": 0,
              "ticks": ""
             }
            },
            "type": "scatter3d"
           }
          ],
          "scattercarpet": [
           {
            "marker": {
             "colorbar": {
              "outlinewidth": 0,
              "ticks": ""
             }
            },
            "type": "scattercarpet"
           }
          ],
          "scattergeo": [
           {
            "marker": {
             "colorbar": {
              "outlinewidth": 0,
              "ticks": ""
             }
            },
            "type": "scattergeo"
           }
          ],
          "scattergl": [
           {
            "marker": {
             "colorbar": {
              "outlinewidth": 0,
              "ticks": ""
             }
            },
            "type": "scattergl"
           }
          ],
          "scattermapbox": [
           {
            "marker": {
             "colorbar": {
              "outlinewidth": 0,
              "ticks": ""
             }
            },
            "type": "scattermapbox"
           }
          ],
          "scatterpolar": [
           {
            "marker": {
             "colorbar": {
              "outlinewidth": 0,
              "ticks": ""
             }
            },
            "type": "scatterpolar"
           }
          ],
          "scatterpolargl": [
           {
            "marker": {
             "colorbar": {
              "outlinewidth": 0,
              "ticks": ""
             }
            },
            "type": "scatterpolargl"
           }
          ],
          "scatterternary": [
           {
            "marker": {
             "colorbar": {
              "outlinewidth": 0,
              "ticks": ""
             }
            },
            "type": "scatterternary"
           }
          ],
          "surface": [
           {
            "colorbar": {
             "outlinewidth": 0,
             "ticks": ""
            },
            "colorscale": [
             [
              0,
              "#0d0887"
             ],
             [
              0.1111111111111111,
              "#46039f"
             ],
             [
              0.2222222222222222,
              "#7201a8"
             ],
             [
              0.3333333333333333,
              "#9c179e"
             ],
             [
              0.4444444444444444,
              "#bd3786"
             ],
             [
              0.5555555555555556,
              "#d8576b"
             ],
             [
              0.6666666666666666,
              "#ed7953"
             ],
             [
              0.7777777777777778,
              "#fb9f3a"
             ],
             [
              0.8888888888888888,
              "#fdca26"
             ],
             [
              1,
              "#f0f921"
             ]
            ],
            "type": "surface"
           }
          ],
          "table": [
           {
            "cells": {
             "fill": {
              "color": "#EBF0F8"
             },
             "line": {
              "color": "white"
             }
            },
            "header": {
             "fill": {
              "color": "#C8D4E3"
             },
             "line": {
              "color": "white"
             }
            },
            "type": "table"
           }
          ]
         },
         "layout": {
          "annotationdefaults": {
           "arrowcolor": "#2a3f5f",
           "arrowhead": 0,
           "arrowwidth": 1
          },
          "autotypenumbers": "strict",
          "coloraxis": {
           "colorbar": {
            "outlinewidth": 0,
            "ticks": ""
           }
          },
          "colorscale": {
           "diverging": [
            [
             0,
             "#8e0152"
            ],
            [
             0.1,
             "#c51b7d"
            ],
            [
             0.2,
             "#de77ae"
            ],
            [
             0.3,
             "#f1b6da"
            ],
            [
             0.4,
             "#fde0ef"
            ],
            [
             0.5,
             "#f7f7f7"
            ],
            [
             0.6,
             "#e6f5d0"
            ],
            [
             0.7,
             "#b8e186"
            ],
            [
             0.8,
             "#7fbc41"
            ],
            [
             0.9,
             "#4d9221"
            ],
            [
             1,
             "#276419"
            ]
           ],
           "sequential": [
            [
             0,
             "#0d0887"
            ],
            [
             0.1111111111111111,
             "#46039f"
            ],
            [
             0.2222222222222222,
             "#7201a8"
            ],
            [
             0.3333333333333333,
             "#9c179e"
            ],
            [
             0.4444444444444444,
             "#bd3786"
            ],
            [
             0.5555555555555556,
             "#d8576b"
            ],
            [
             0.6666666666666666,
             "#ed7953"
            ],
            [
             0.7777777777777778,
             "#fb9f3a"
            ],
            [
             0.8888888888888888,
             "#fdca26"
            ],
            [
             1,
             "#f0f921"
            ]
           ],
           "sequentialminus": [
            [
             0,
             "#0d0887"
            ],
            [
             0.1111111111111111,
             "#46039f"
            ],
            [
             0.2222222222222222,
             "#7201a8"
            ],
            [
             0.3333333333333333,
             "#9c179e"
            ],
            [
             0.4444444444444444,
             "#bd3786"
            ],
            [
             0.5555555555555556,
             "#d8576b"
            ],
            [
             0.6666666666666666,
             "#ed7953"
            ],
            [
             0.7777777777777778,
             "#fb9f3a"
            ],
            [
             0.8888888888888888,
             "#fdca26"
            ],
            [
             1,
             "#f0f921"
            ]
           ]
          },
          "colorway": [
           "#636efa",
           "#EF553B",
           "#00cc96",
           "#ab63fa",
           "#FFA15A",
           "#19d3f3",
           "#FF6692",
           "#B6E880",
           "#FF97FF",
           "#FECB52"
          ],
          "font": {
           "color": "#2a3f5f"
          },
          "geo": {
           "bgcolor": "white",
           "lakecolor": "white",
           "landcolor": "#E5ECF6",
           "showlakes": true,
           "showland": true,
           "subunitcolor": "white"
          },
          "hoverlabel": {
           "align": "left"
          },
          "hovermode": "closest",
          "mapbox": {
           "style": "light"
          },
          "paper_bgcolor": "white",
          "plot_bgcolor": "#E5ECF6",
          "polar": {
           "angularaxis": {
            "gridcolor": "white",
            "linecolor": "white",
            "ticks": ""
           },
           "bgcolor": "#E5ECF6",
           "radialaxis": {
            "gridcolor": "white",
            "linecolor": "white",
            "ticks": ""
           }
          },
          "scene": {
           "xaxis": {
            "backgroundcolor": "#E5ECF6",
            "gridcolor": "white",
            "gridwidth": 2,
            "linecolor": "white",
            "showbackground": true,
            "ticks": "",
            "zerolinecolor": "white"
           },
           "yaxis": {
            "backgroundcolor": "#E5ECF6",
            "gridcolor": "white",
            "gridwidth": 2,
            "linecolor": "white",
            "showbackground": true,
            "ticks": "",
            "zerolinecolor": "white"
           },
           "zaxis": {
            "backgroundcolor": "#E5ECF6",
            "gridcolor": "white",
            "gridwidth": 2,
            "linecolor": "white",
            "showbackground": true,
            "ticks": "",
            "zerolinecolor": "white"
           }
          },
          "shapedefaults": {
           "line": {
            "color": "#2a3f5f"
           }
          },
          "ternary": {
           "aaxis": {
            "gridcolor": "white",
            "linecolor": "white",
            "ticks": ""
           },
           "baxis": {
            "gridcolor": "white",
            "linecolor": "white",
            "ticks": ""
           },
           "bgcolor": "#E5ECF6",
           "caxis": {
            "gridcolor": "white",
            "linecolor": "white",
            "ticks": ""
           }
          },
          "title": {
           "x": 0.05
          },
          "xaxis": {
           "automargin": true,
           "gridcolor": "white",
           "linecolor": "white",
           "ticks": "",
           "title": {
            "standoff": 15
           },
           "zerolinecolor": "white",
           "zerolinewidth": 2
          },
          "yaxis": {
           "automargin": true,
           "gridcolor": "white",
           "linecolor": "white",
           "ticks": "",
           "title": {
            "standoff": 15
           },
           "zerolinecolor": "white",
           "zerolinewidth": 2
          }
         }
        },
        "width": 900,
        "xaxis": {
         "anchor": "y",
         "autorange": true,
         "domain": [
          0,
          0.94
         ],
         "gridcolor": "#1f292f",
         "nticks": 5,
         "range": [
          -0.5,
          199.5
         ],
         "rangeslider": {
          "visible": false,
          "yaxis": {}
         },
         "type": "category"
        },
        "yaxis": {
         "anchor": "x",
         "autorange": true,
         "domain": [
          0,
          1
         ],
         "gridcolor": "#1f292f",
         "range": [
          179.21722222222223,
          184.27277777777778
         ]
        },
        "yaxis2": {
         "anchor": "x",
         "gridcolor": "#1f292f",
         "overlaying": "y",
         "side": "right"
        }
       }
      },
      "image/png": "[encoded data removed]",
      "text/html": [
       "<div>                            <div id=\"8b144e03-26c0-4f87-ad8d-8573b0a6c8c8\" class=\"plotly-graph-div\" style=\"height:500px; width:900px;\"></div>            <script type=\"text/javascript\">                require([\"plotly\"], function(Plotly) {                    window.PLOTLYENV=window.PLOTLYENV || {};                                    if (document.getElementById(\"8b144e03-26c0-4f87-ad8d-8573b0a6c8c8\")) {                    Plotly.newPlot(                        \"8b144e03-26c0-4f87-ad8d-8573b0a6c8c8\",                        [{\"close\":[183.518,183.508,183.474,183.463,183.316,183.394,183.566,183.645,183.822,183.672,183.735,183.854,183.808,183.866,183.758,183.72,183.66,183.648,183.67,183.65,183.664,183.736,183.646,183.644,183.636,183.782,183.784,183.602,183.514,183.452,183.161,183.496,183.61,183.508,183.712,183.701,183.8,183.71,183.642,183.738,183.77,183.666,183.616,183.578,183.14,183.464,183.26,183.101,182.898,182.66,182.918,183.112,183.042,183.454,183.699,183.54,183.8,183.692,183.171,183.271,183.411,183.6,183.664,183.616,183.526,183.512,183.562,183.45,183.436,183.376,183.29,183.296,183.258,182.946,182.677,182.368,182.062,182.442,182.784,182.802,183.073,182.463,182.402,182.582,182.602,182.526,182.488,182.362,182.505,182.464,182.534,182.57,182.752,182.744,183.084,182.917,183.174,182.716,182.46,182.33,182.43,182.496,182.172,181.62,181.638,181.252,181.591,181.704,181.75,181.629,181.684,181.742,181.74,181.739,181.784,181.781,181.9,181.554,181.084,181.318,181.279,181.276,181.283,180.917,181.116,181.317,181.266,181.314,181.174,181.724,181.335,181.266,181.346,181.324,181.589,181.542,181.499,181.506,181.392,181.235,180.92,180.751,180.964,180.984,180.886,180.724,180.506,180.608,180.542,180.548,180.249,180.136,180.334,180.347,179.92,179.548,179.872,179.555,179.729,179.895,179.91,179.796,179.782,179.77,179.996,180.094,180.264,180.228,180.169,180.318,180.052,180.253,180.489,181.05,181.005,180.917,181.386,181.102,181.228,180.91,181.064,181.182,181.238,181.264,181.348,181.328,181.259,181.267,180.652,180.52,180.724,180.568,180.814,180.842,181.218,181.297,181.485,181.648,181.708,181.678],\"decreasing\":{\"fillcolor\":\"#CC2E3C\",\"line\":{\"color\":\"#FF3A4C\"}},\"high\":[183.612,183.528,183.61,183.564,183.47,183.406,183.634,183.731,183.862,183.825,183.774,183.915,183.88,183.867,183.898,183.797,183.718,183.695,183.694,183.72,183.88,183.907,183.77,183.694,183.657,183.854,183.856,184.02,183.602,183.585,183.544,183.501,183.82,183.729,183.766,183.85,183.886,183.825,183.778,183.776,183.813,183.77,183.738,183.64,183.601,183.474,183.511,183.271,183.116,182.91,182.976,183.155,183.242,183.485,183.808,183.776,183.918,184.011,183.868,183.321,183.488,183.615,183.717,183.701,183.625,183.6,183.574,183.566,183.561,183.509,183.404,183.334,183.344,183.281,183.046,182.84,182.48,182.526,182.804,183.064,183.112,183.122,182.501,182.646,182.678,182.628,182.536,182.504,182.553,182.523,182.672,182.609,182.804,183.01,183.15,183.138,183.224,183.196,182.756,182.73,182.612,182.651,182.576,182.222,181.85,181.722,181.647,181.741,181.8,181.764,181.712,181.835,181.8,181.79,181.803,181.81,182.004,181.904,181.613,181.396,181.319,181.392,181.778,181.54,181.244,181.52,181.46,181.37,181.378,181.856,181.77,181.428,181.353,181.45,181.599,181.614,181.547,181.555,181.5,181.495,181.276,180.93,181.154,181.013,181.05,180.909,180.856,180.88,180.813,180.654,180.583,180.334,180.464,180.768,180.5,179.932,179.947,179.891,179.739,179.904,179.974,179.896,179.875,179.92,180.028,180.233,180.284,180.288,180.254,180.344,180.546,180.327,180.852,181.195,181.097,181.089,181.432,181.469,181.292,181.282,181.085,181.255,181.278,181.346,181.358,181.384,181.34,181.276,181.322,180.73,180.803,180.767,180.842,180.938,181.278,181.527,181.49,181.725,182.03,181.743],\"increasing\":{\"fillcolor\":\"#24A06B\",\"line\":{\"color\":\"#2EC886\"}},\"line\":{\"width\":1},\"low\":[183.44,183.457,183.416,183.368,183.238,183.263,183.322,183.562,183.614,183.524,183.596,183.736,183.725,183.777,183.74,183.644,183.626,183.635,183.586,183.632,183.647,183.648,183.636,183.603,183.571,183.581,183.672,183.584,183.204,183.262,183.158,183.159,183.442,183.324,183.336,183.626,183.668,183.668,183.606,183.641,183.732,183.648,183.601,183.43,183.066,183.114,183.234,183.101,182.736,182.569,182.614,182.504,182.832,182.948,183.398,183.506,183.481,183.574,183.041,182.827,183.192,183.38,183.572,183.578,183.505,183.418,183.484,183.35,183.18,183.352,183.267,183.228,183.234,182.89,182.639,182.366,182.056,182.018,182.384,182.654,182.418,182.136,182.092,182.34,182.373,182.5,182.452,182.341,182.35,182.432,182.442,182.473,182.438,182.644,182.735,182.828,182.91,182.644,182.375,182.146,182.331,182.298,182.118,181.612,181.51,181.104,181.131,181.498,181.643,181.578,181.59,181.644,181.724,181.679,181.638,181.664,181.661,181.544,181.008,181.085,181.138,181.15,181.228,180.793,180.861,181.062,181.094,181.124,181.106,181.072,181.31,181.127,181.157,181.319,181.31,181.507,181.46,181.456,181.36,181.208,180.778,180.669,180.726,180.784,180.822,180.674,180.5,180.462,180.495,180.458,180.246,180.045,179.824,180.335,179.814,179.47,179.528,179.507,179.542,179.666,179.871,179.704,179.728,179.724,179.497,179.896,180.092,180.103,180.122,180.164,179.88,180.01,180.204,180.464,180.866,180.872,180.66,180.96,180.836,180.794,180.857,181.031,181.028,181.157,181.213,181.168,181.2,181.066,180.61,180.202,180.392,180.505,180.476,180.671,180.734,181.192,181.245,181.438,181.622,181.499],\"opacity\":1,\"open\":[183.547,183.516,183.512,183.474,183.464,183.316,183.396,183.568,183.647,183.821,183.676,183.736,183.853,183.804,183.866,183.76,183.718,183.67,183.646,183.668,183.65,183.66,183.735,183.64,183.644,183.636,183.786,183.786,183.602,183.514,183.452,183.159,183.494,183.611,183.51,183.711,183.703,183.8,183.71,183.643,183.74,183.648,183.644,183.62,183.578,183.14,183.463,183.262,183.1,182.898,182.66,182.912,183.114,183.044,183.453,183.7,183.539,183.801,183.713,183.172,183.27,183.412,183.6,183.665,183.618,183.496,183.513,183.562,183.45,183.434,183.371,183.291,183.299,183.258,182.951,182.676,182.366,182.062,182.44,182.782,182.802,183.081,182.467,182.403,182.582,182.602,182.525,182.488,182.366,182.514,182.442,182.548,182.566,182.753,182.745,183.084,182.92,183.17,182.702,182.462,182.331,182.428,182.497,182.172,181.619,181.639,181.251,181.592,181.704,181.748,181.629,181.683,181.744,181.735,181.742,181.784,181.782,181.902,181.551,181.088,181.318,181.278,181.282,181.284,180.918,181.116,181.32,181.268,181.315,181.172,181.728,181.334,181.264,181.35,181.325,181.588,181.537,181.51,181.482,181.396,181.224,180.921,180.748,180.965,180.986,180.887,180.732,180.509,180.602,180.542,180.548,180.25,180.134,180.336,180.344,179.918,179.546,179.872,179.55,179.726,179.892,179.824,179.807,179.78,179.771,179.995,180.094,180.26,180.228,180.168,180.292,180.054,180.254,180.491,181.049,181.008,180.912,181.38,181.115,181.229,180.909,181.064,181.182,181.237,181.25,181.262,181.27,181.26,181.259,180.653,180.522,180.724,180.569,180.812,180.838,181.218,181.296,181.486,181.649,181.706],\"x\":[\"s23-07-04 04:00\",\"s23-07-04 05:00\",\"s23-07-04 06:00\",\"s23-07-04 07:00\",\"s23-07-04 08:00\",\"s23-07-04 09:00\",\"s23-07-04 10:00\",\"s23-07-04 11:00\",\"s23-07-04 12:00\",\"s23-07-04 13:00\",\"s23-07-04 14:00\",\"s23-07-04 15:00\",\"s23-07-04 16:00\",\"s23-07-04 17:00\",\"s23-07-04 18:00\",\"s23-07-04 19:00\",\"s23-07-04 20:00\",\"s23-07-04 21:00\",\"s23-07-04 22:00\",\"s23-07-04 23:00\",\"s23-07-05 00:00\",\"s23-07-05 01:00\",\"s23-07-05 02:00\",\"s23-07-05 03:00\",\"s23-07-05 04:00\",\"s23-07-05 05:00\",\"s23-07-05 06:00\",\"s23-07-05 07:00\",\"s23-07-05 08:00\",\"s23-07-05 09:00\",\"s23-07-05 10:00\",\"s23-07-05 11:00\",\"s23-07-05 12:00\",\"s23-07-05 13:00\",\"s23-07-05 14:00\",\"s23-07-05 15:00\",\"s23-07-05 16:00\",\"s23-07-05 17:00\",\"s23-07-05 18:00\",\"s23-07-05 19:00\",\"s23-07-05 20:00\",\"s23-07-05 21:00\",\"s23-07-05 22:00\",\"s23-07-05 23:00\",\"s23-07-06 00:00\",\"s23-07-06 01:00\",\"s23-07-06 02:00\",\"s23-07-06 03:00\",\"s23-07-06 04:00\",\"s23-07-06 05:00\",\"s23-07-06 06:00\",\"s23-07-06 07:00\",\"s23-07-06 08:00\",\"s23-07-06 09:00\",\"s23-07-06 10:00\",\"s23-07-06 11:00\",\"s23-07-06 12:00\",\"s23-07-06 13:00\",\"s23-07-06 14:00\",\"s23-07-06 15:00\",\"s23-07-06 16:00\",\"s23-07-06 17:00\",\"s23-07-06 18:00\",\"s23-07-06 19:00\",\"s23-07-06 20:00\",\"s23-07-06 21:00\",\"s23-07-06 22:00\",\"s23-07-06 23:00\",\"s23-07-07 00:00\",\"s23-07-07 01:00\",\"s23-07-07 02:00\",\"s23-07-07 03:00\",\"s23-07-07 04:00\",\"s23-07-07 05:00\",\"s23-07-07 06:00\",\"s23-07-07 07:00\",\"s23-07-07 08:00\",\"s23-07-07 09:00\",\"s23-07-07 10:00\",\"s23-07-07 11:00\",\"s23-07-07 12:00\",\"s23-07-07 13:00\",\"s23-07-07 14:00\",\"s23-07-07 15:00\",\"s23-07-07 16:00\",\"s23-07-07 17:00\",\"s23-07-07 18:00\",\"s23-07-07 19:00\",\"s23-07-07 20:00\",\"s23-07-09 21:00\",\"s23-07-09 22:00\",\"s23-07-09 23:00\",\"s23-07-10 00:00\",\"s23-07-10 01:00\",\"s23-07-10 02:00\",\"s23-07-10 03:00\",\"s23-07-10 04:00\",\"s23-07-10 05:00\",\"s23-07-10 06:00\",\"s23-07-10 07:00\",\"s23-07-10 08:00\",\"s23-07-10 09:00\",\"s23-07-10 10:00\",\"s23-07-10 11:00\",\"s23-07-10 12:00\",\"s23-07-10 13:00\",\"s23-07-10 14:00\",\"s23-07-10 15:00\",\"s23-07-10 16:00\",\"s23-07-10 17:00\",\"s23-07-10 18:00\",\"s23-07-10 19:00\",\"s23-07-10 20:00\",\"s23-07-10 21:00\",\"s23-07-10 22:00\",\"s23-07-10 23:00\",\"s23-07-11 00:00\",\"s23-07-11 01:00\",\"s23-07-11 02:00\",\"s23-07-11 03:00\",\"s23-07-11 04:00\",\"s23-07-11 05:00\",\"s23-07-11 06:00\",\"s23-07-11 07:00\",\"s23-07-11 08:00\",\"s23-07-11 09:00\",\"s23-07-11 10:00\",\"s23-07-11 11:00\",\"s23-07-11 12:00\",\"s23-07-11 13:00\",\"s23-07-11 14:00\",\"s23-07-11 15:00\",\"s23-07-11 16:00\",\"s23-07-11 17:00\",\"s23-07-11 18:00\",\"s23-07-11 19:00\",\"s23-07-11 20:00\",\"s23-07-11 21:00\",\"s23-07-11 22:00\",\"s23-07-11 23:00\",\"s23-07-12 00:00\",\"s23-07-12 01:00\",\"s23-07-12 02:00\",\"s23-07-12 03:00\",\"s23-07-12 04:00\",\"s23-07-12 05:00\",\"s23-07-12 06:00\",\"s23-07-12 07:00\",\"s23-07-12 08:00\",\"s23-07-12 09:00\",\"s23-07-12 10:00\",\"s23-07-12 11:00\",\"s23-07-12 12:00\",\"s23-07-12 13:00\",\"s23-07-12 14:00\",\"s23-07-12 15:00\",\"s23-07-12 16:00\",\"s23-07-12 17:00\",\"s23-07-12 18:00\",\"s23-07-12 19:00\",\"s23-07-12 20:00\",\"s23-07-12 21:00\",\"s23-07-12 22:00\",\"s23-07-12 23:00\",\"s23-07-13 00:00\",\"s23-07-13 01:00\",\"s23-07-13 02:00\",\"s23-07-13 03:00\",\"s23-07-13 04:00\",\"s23-07-13 05:00\",\"s23-07-13 06:00\",\"s23-07-13 07:00\",\"s23-07-13 08:00\",\"s23-07-13 09:00\",\"s23-07-13 10:00\",\"s23-07-13 11:00\",\"s23-07-13 12:00\",\"s23-07-13 13:00\",\"s23-07-13 14:00\",\"s23-07-13 15:00\",\"s23-07-13 16:00\",\"s23-07-13 17:00\",\"s23-07-13 18:00\",\"s23-07-13 19:00\",\"s23-07-13 20:00\",\"s23-07-13 21:00\",\"s23-07-13 22:00\",\"s23-07-13 23:00\",\"s23-07-14 00:00\",\"s23-07-14 01:00\",\"s23-07-14 02:00\",\"s23-07-14 03:00\",\"s23-07-14 04:00\",\"s23-07-14 05:00\",\"s23-07-14 06:00\",\"s23-07-14 07:00\",\"s23-07-14 08:00\",\"s23-07-14 09:00\",\"s23-07-14 10:00\",\"s23-07-14 11:00\"],\"type\":\"candlestick\"},{\"close\":[183.496],\"decreasing\":{\"fillcolor\":\"#0066FF\",\"line\":{\"color\":\"#0066FF\"}},\"high\":[183.501],\"increasing\":{\"fillcolor\":\"#0066FF\",\"line\":{\"color\":\"#0066FF\"}},\"line\":{\"width\":1},\"low\":[183.159],\"opacity\":1,\"open\":[183.159],\"x\":[\"s23-07-05 11:00\"],\"type\":\"candlestick\"}],                        {\"template\":{\"data\":{\"histogram2dcontour\":[{\"type\":\"histogram2dcontour\",\"colorbar\":{\"outlinewidth\":0,\"ticks\":\"\"},\"colorscale\":[[0.0,\"#0d0887\"],[0.1111111111111111,\"#46039f\"],[0.2222222222222222,\"#7201a8\"],[0.3333333333333333,\"#9c179e\"],[0.4444444444444444,\"#bd3786\"],[0.5555555555555556,\"#d8576b\"],[0.6666666666666666,\"#ed7953\"],[0.7777777777777778,\"#fb9f3a\"],[0.8888888888888888,\"#fdca26\"],[1.0,\"#f0f921\"]]}],\"choropleth\":[{\"type\":\"choropleth\",\"colorbar\":{\"outlinewidth\":0,\"ticks\":\"\"}}],\"histogram2d\":[{\"type\":\"histogram2d\",\"colorbar\":{\"outlinewidth\":0,\"ticks\":\"\"},\"colorscale\":[[0.0,\"#0d0887\"],[0.1111111111111111,\"#46039f\"],[0.2222222222222222,\"#7201a8\"],[0.3333333333333333,\"#9c179e\"],[0.4444444444444444,\"#bd3786\"],[0.5555555555555556,\"#d8576b\"],[0.6666666666666666,\"#ed7953\"],[0.7777777777777778,\"#fb9f3a\"],[0.8888888888888888,\"#fdca26\"],[1.0,\"#f0f921\"]]}],\"heatmap\":[{\"type\":\"heatmap\",\"colorbar\":{\"outlinewidth\":0,\"ticks\":\"\"},\"colorscale\":[[0.0,\"#0d0887\"],[0.1111111111111111,\"#46039f\"],[0.2222222222222222,\"#7201a8\"],[0.3333333333333333,\"#9c179e\"],[0.4444444444444444,\"#bd3786\"],[0.5555555555555556,\"#d8576b\"],[0.6666666666666666,\"#ed7953\"],[0.7777777777777778,\"#fb9f3a\"],[0.8888888888888888,\"#fdca26\"],[1.0,\"#f0f921\"]]}],\"heatmapgl\":[{\"type\":\"heatmapgl\",\"colorbar\":{\"outlinewidth\":0,\"ticks\":\"\"},\"colorscale\":[[0.0,\"#0d0887\"],[0.1111111111111111,\"#46039f\"],[0.2222222222222222,\"#7201a8\"],[0.3333333333333333,\"#9c179e\"],[0.4444444444444444,\"#bd3786\"],[0.5555555555555556,\"#d8576b\"],[0.6666666666666666,\"#ed7953\"],[0.7777777777777778,\"#fb9f3a\"],[0.8888888888888888,\"#fdca26\"],[1.0,\"#f0f921\"]]}],\"contourcarpet\":[{\"type\":\"contourcarpet\",\"colorbar\":{\"outlinewidth\":0,\"ticks\":\"\"}}],\"contour\":[{\"type\":\"contour\",\"colorbar\":{\"outlinewidth\":0,\"ticks\":\"\"},\"colorscale\":[[0.0,\"#0d0887\"],[0.1111111111111111,\"#46039f\"],[0.2222222222222222,\"#7201a8\"],[0.3333333333333333,\"#9c179e\"],[0.4444444444444444,\"#bd3786\"],[0.5555555555555556,\"#d8576b\"],[0.6666666666666666,\"#ed7953\"],[0.7777777777777778,\"#fb9f3a\"],[0.8888888888888888,\"#fdca26\"],[1.0,\"#f0f921\"]]}],\"surface\":[{\"type\":\"surface\",\"colorbar\":{\"outlinewidth\":0,\"ticks\":\"\"},\"colorscale\":[[0.0,\"#0d0887\"],[0.1111111111111111,\"#46039f\"],[0.2222222222222222,\"#7201a8\"],[0.3333333333333333,\"#9c179e\"],[0.4444444444444444,\"#bd3786\"],[0.5555555555555556,\"#d8576b\"],[0.6666666666666666,\"#ed7953\"],[0.7777777777777778,\"#fb9f3a\"],[0.8888888888888888,\"#fdca26\"],[1.0,\"#f0f921\"]]}],\"mesh3d\":[{\"type\":\"mesh3d\",\"colorbar\":{\"outlinewidth\":0,\"ticks\":\"\"}}],\"scatter\":[{\"fillpattern\":{\"fillmode\":\"overlay\",\"size\":10,\"solidity\":0.2},\"type\":\"scatter\"}],\"parcoords\":[{\"type\":\"parcoords\",\"line\":{\"colorbar\":{\"outlinewidth\":0,\"ticks\":\"\"}}}],\"scatterpolargl\":[{\"type\":\"scatterpolargl\",\"marker\":{\"colorbar\":{\"outlinewidth\":0,\"ticks\":\"\"}}}],\"bar\":[{\"error_x\":{\"color\":\"#2a3f5f\"},\"error_y\":{\"color\":\"#2a3f5f\"},\"marker\":{\"line\":{\"color\":\"#E5ECF6\",\"width\":0.5},\"pattern\":{\"fillmode\":\"overlay\",\"size\":10,\"solidity\":0.2}},\"type\":\"bar\"}],\"scattergeo\":[{\"type\":\"scattergeo\",\"marker\":{\"colorbar\":{\"outlinewidth\":0,\"ticks\":\"\"}}}],\"scatterpolar\":[{\"type\":\"scatterpolar\",\"marker\":{\"colorbar\":{\"outlinewidth\":0,\"ticks\":\"\"}}}],\"histogram\":[{\"marker\":{\"pattern\":{\"fillmode\":\"overlay\",\"size\":10,\"solidity\":0.2}},\"type\":\"histogram\"}],\"scattergl\":[{\"type\":\"scattergl\",\"marker\":{\"colorbar\":{\"outlinewidth\":0,\"ticks\":\"\"}}}],\"scatter3d\":[{\"type\":\"scatter3d\",\"line\":{\"colorbar\":{\"outlinewidth\":0,\"ticks\":\"\"}},\"marker\":{\"colorbar\":{\"outlinewidth\":0,\"ticks\":\"\"}}}],\"scattermapbox\":[{\"type\":\"scattermapbox\",\"marker\":{\"colorbar\":{\"outlinewidth\":0,\"ticks\":\"\"}}}],\"scatterternary\":[{\"type\":\"scatterternary\",\"marker\":{\"colorbar\":{\"outlinewidth\":0,\"ticks\":\"\"}}}],\"scattercarpet\":[{\"type\":\"scattercarpet\",\"marker\":{\"colorbar\":{\"outlinewidth\":0,\"ticks\":\"\"}}}],\"carpet\":[{\"aaxis\":{\"endlinecolor\":\"#2a3f5f\",\"gridcolor\":\"white\",\"linecolor\":\"white\",\"minorgridcolor\":\"white\",\"startlinecolor\":\"#2a3f5f\"},\"baxis\":{\"endlinecolor\":\"#2a3f5f\",\"gridcolor\":\"white\",\"linecolor\":\"white\",\"minorgridcolor\":\"white\",\"startlinecolor\":\"#2a3f5f\"},\"type\":\"carpet\"}],\"table\":[{\"cells\":{\"fill\":{\"color\":\"#EBF0F8\"},\"line\":{\"color\":\"white\"}},\"header\":{\"fill\":{\"color\":\"#C8D4E3\"},\"line\":{\"color\":\"white\"}},\"type\":\"table\"}],\"barpolar\":[{\"marker\":{\"line\":{\"color\":\"#E5ECF6\",\"width\":0.5},\"pattern\":{\"fillmode\":\"overlay\",\"size\":10,\"solidity\":0.2}},\"type\":\"barpolar\"}],\"pie\":[{\"automargin\":true,\"type\":\"pie\"}]},\"layout\":{\"autotypenumbers\":\"strict\",\"colorway\":[\"#636efa\",\"#EF553B\",\"#00cc96\",\"#ab63fa\",\"#FFA15A\",\"#19d3f3\",\"#FF6692\",\"#B6E880\",\"#FF97FF\",\"#FECB52\"],\"font\":{\"color\":\"#2a3f5f\"},\"hovermode\":\"closest\",\"hoverlabel\":{\"align\":\"left\"},\"paper_bgcolor\":\"white\",\"plot_bgcolor\":\"#E5ECF6\",\"polar\":{\"bgcolor\":\"#E5ECF6\",\"angularaxis\":{\"gridcolor\":\"white\",\"linecolor\":\"white\",\"ticks\":\"\"},\"radialaxis\":{\"gridcolor\":\"white\",\"linecolor\":\"white\",\"ticks\":\"\"}},\"ternary\":{\"bgcolor\":\"#E5ECF6\",\"aaxis\":{\"gridcolor\":\"white\",\"linecolor\":\"white\",\"ticks\":\"\"},\"baxis\":{\"gridcolor\":\"white\",\"linecolor\":\"white\",\"ticks\":\"\"},\"caxis\":{\"gridcolor\":\"white\",\"linecolor\":\"white\",\"ticks\":\"\"}},\"coloraxis\":{\"colorbar\":{\"outlinewidth\":0,\"ticks\":\"\"}},\"colorscale\":{\"sequential\":[[0.0,\"#0d0887\"],[0.1111111111111111,\"#46039f\"],[0.2222222222222222,\"#7201a8\"],[0.3333333333333333,\"#9c179e\"],[0.4444444444444444,\"#bd3786\"],[0.5555555555555556,\"#d8576b\"],[0.6666666666666666,\"#ed7953\"],[0.7777777777777778,\"#fb9f3a\"],[0.8888888888888888,\"#fdca26\"],[1.0,\"#f0f921\"]],\"sequentialminus\":[[0.0,\"#0d0887\"],[0.1111111111111111,\"#46039f\"],[0.2222222222222222,\"#7201a8\"],[0.3333333333333333,\"#9c179e\"],[0.4444444444444444,\"#bd3786\"],[0.5555555555555556,\"#d8576b\"],[0.6666666666666666,\"#ed7953\"],[0.7777777777777778,\"#fb9f3a\"],[0.8888888888888888,\"#fdca26\"],[1.0,\"#f0f921\"]],\"diverging\":[[0,\"#8e0152\"],[0.1,\"#c51b7d\"],[0.2,\"#de77ae\"],[0.3,\"#f1b6da\"],[0.4,\"#fde0ef\"],[0.5,\"#f7f7f7\"],[0.6,\"#e6f5d0\"],[0.7,\"#b8e186\"],[0.8,\"#7fbc41\"],[0.9,\"#4d9221\"],[1,\"#276419\"]]},\"xaxis\":{\"gridcolor\":\"white\",\"linecolor\":\"white\",\"ticks\":\"\",\"title\":{\"standoff\":15},\"zerolinecolor\":\"white\",\"automargin\":true,\"zerolinewidth\":2},\"yaxis\":{\"gridcolor\":\"white\",\"linecolor\":\"white\",\"ticks\":\"\",\"title\":{\"standoff\":15},\"zerolinecolor\":\"white\",\"automargin\":true,\"zerolinewidth\":2},\"scene\":{\"xaxis\":{\"backgroundcolor\":\"#E5ECF6\",\"gridcolor\":\"white\",\"linecolor\":\"white\",\"showbackground\":true,\"ticks\":\"\",\"zerolinecolor\":\"white\",\"gridwidth\":2},\"yaxis\":{\"backgroundcolor\":\"#E5ECF6\",\"gridcolor\":\"white\",\"linecolor\":\"white\",\"showbackground\":true,\"ticks\":\"\",\"zerolinecolor\":\"white\",\"gridwidth\":2},\"zaxis\":{\"backgroundcolor\":\"#E5ECF6\",\"gridcolor\":\"white\",\"linecolor\":\"white\",\"showbackground\":true,\"ticks\":\"\",\"zerolinecolor\":\"white\",\"gridwidth\":2}},\"shapedefaults\":{\"line\":{\"color\":\"#2a3f5f\"}},\"annotationdefaults\":{\"arrowcolor\":\"#2a3f5f\",\"arrowhead\":0,\"arrowwidth\":1},\"geo\":{\"bgcolor\":\"white\",\"landcolor\":\"#E5ECF6\",\"subunitcolor\":\"white\",\"showland\":true,\"showlakes\":true,\"lakecolor\":\"white\"},\"title\":{\"x\":0.05},\"mapbox\":{\"style\":\"light\"}}},\"xaxis\":{\"anchor\":\"y\",\"domain\":[0.0,0.94],\"rangeslider\":{\"visible\":false},\"gridcolor\":\"#1f292f\",\"nticks\":5},\"yaxis\":{\"anchor\":\"x\",\"domain\":[0.0,1.0],\"gridcolor\":\"#1f292f\"},\"yaxis2\":{\"anchor\":\"x\",\"overlaying\":\"y\",\"side\":\"right\",\"gridcolor\":\"#1f292f\"},\"margin\":{\"l\":10,\"r\":10,\"b\":10,\"t\":10},\"font\":{\"size\":8,\"color\":\"#e1e1e1\"},\"width\":900,\"height\":500,\"paper_bgcolor\":\"#2c303c\",\"plot_bgcolor\":\"#2c303c\"},                        {\"responsive\": true}                    ).then(function(){\n",
       "                            \n",
       "var gd = document.getElementById('8b144e03-26c0-4f87-ad8d-8573b0a6c8c8');\n",
       "var x = new MutationObserver(function (mutations, observer) {{\n",
       "        var display = window.getComputedStyle(gd).display;\n",
       "        if (!display || display === 'none') {{\n",
       "            console.log([gd, 'removed!']);\n",
       "            Plotly.purge(gd);\n",
       "            observer.disconnect();\n",
       "        }}\n",
       "}});\n",
       "\n",
       "// Listen for the removal of the full notebook cells\n",
       "var notebookContainer = gd.closest('#notebook-container');\n",
       "if (notebookContainer) {{\n",
       "    x.observe(notebookContainer, {childList: true});\n",
       "}}\n",
       "\n",
       "// Listen for the clearing of the current output cell\n",
       "var outputEl = gd.closest('.output');\n",
       "if (outputEl) {{\n",
       "    x.observe(outputEl, {childList: true});\n",
       "}}\n",
       "\n",
       "                        })                };                });            </script>        </div>"
      ]
     },
     "metadata": {},
     "output_type": "display_data"
    }
   ],
   "source": [
    "MARKER = '#0066FF'\n",
    "dfp = df_an.iloc[600:800]\n",
    "cp = CandlePlot(dfp, candles=True)\n",
    "df_temp = cp.df_plot[cp.df_plot.MARUBOZU==True]\n",
    "cp.fig.add_trace(go.Candlestick(\n",
    "                x=df_temp.sTime,\n",
    "                open=df_temp.mid_o,\n",
    "                high=df_temp.mid_h,\n",
    "                low=df_temp.mid_l,\n",
    "                close=df_temp.mid_c,\n",
    "                line=dict(width=1), opacity=1,\n",
    "                increasing_fillcolor=MARKER,\n",
    "                decreasing_fillcolor=MARKER,\n",
    "                increasing_line_color=MARKER,  \n",
    "                decreasing_line_color=MARKER\n",
    "            ))\n",
    "\n",
    "cp.show_plot()"
   ]
  },
  {
   "cell_type": "code",
   "execution_count": null,
   "id": "9d13cc26",
   "metadata": {},
   "outputs": [],
   "source": []
  },
  {
   "cell_type": "code",
   "execution_count": null,
   "id": "4fad38b1",
   "metadata": {},
   "outputs": [],
   "source": []
  },
  {
   "cell_type": "code",
   "execution_count": null,
   "id": "910128bf",
   "metadata": {},
   "outputs": [],
   "source": []
  },
  {
   "cell_type": "code",
   "execution_count": null,
   "id": "4ffaa886",
   "metadata": {},
   "outputs": [],
   "source": []
  },
  {
   "cell_type": "code",
   "execution_count": null,
   "id": "87a51219",
   "metadata": {},
   "outputs": [],
   "source": []
  }
 ],
 "metadata": {
  "kernelspec": {
   "display_name": "Python 3 (ipykernel)",
   "language": "python",
   "name": "python3"
  },
  "language_info": {
   "codemirror_mode": {
    "name": "ipython",
    "version": 3
   },
   "file_extension": ".py",
   "mimetype": "text/x-python",
   "name": "python",
   "nbconvert_exporter": "python",
   "pygments_lexer": "ipython3",
   "version": "3.12.1"
  }
 },
 "nbformat": 4,
 "nbformat_minor": 5
}
