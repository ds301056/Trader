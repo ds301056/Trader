{
 "cells": [
  {
   "cell_type": "code",
   "execution_count": 36,
   "id": "e0eb555f-9cd6-4e00-a68f-c3dcbe6df14d",
   "metadata": {},
   "outputs": [],
   "source": [
    "import requests  # This line should be executed first.\n",
    "import pandas as pd\n",
    "import json"
   ]
  },
  {
   "cell_type": "code",
   "execution_count": 56,
   "id": "381c01e1-bf1e-43e1-84c5-9dca5ad920ea",
   "metadata": {},
   "outputs": [],
   "source": [
    "API_KEY = \"950e89e18324a1decd3d88f4cc43a085-5f59d5913e0f487ebe5eec4cb06b20c1\"\n",
    "ACCOUNT_ID = \"101-001-27981277-001\" \n",
    "OANDA_URL = \"https://api-fxpractice.oanda.com/v3\""
   ]
  },
  {
   "cell_type": "code",
   "execution_count": 50,
   "id": "fab4d38d-750b-4621-a11f-ca2938009f08",
   "metadata": {},
   "outputs": [],
   "source": [
    "session = requests.Session()"
   ]
  },
  {
   "cell_type": "code",
   "execution_count": 58,
   "id": "2c092dbd-fc24-4b51-bf15-e5e4574d2acc",
   "metadata": {},
   "outputs": [],
   "source": [
    "session.headers.update({\n",
    "    \"Authorization\": f\"Bearer {API_KEY}\",\n",
    "    \"Content-Type\": \"application/json\"\n",
    "})   "
   ]
  },
  {
   "cell_type": "code",
   "execution_count": 64,
   "id": "308a97ce-355d-4fe0-9aae-dd59d6745676",
   "metadata": {},
   "outputs": [],
   "source": [
    "params = dict(\n",
    "    count = 10,\n",
    "    granularity = \"H1\",\n",
    "    price = \"MBA\"\n",
    ")"
   ]
  },
  {
   "cell_type": "code",
   "execution_count": 65,
   "id": "cbb5806b-35d5-40c7-a82b-b9d11c43a5fe",
   "metadata": {},
   "outputs": [],
   "source": [
    "url = f\"{OANDA_URL}/instruments/EUR_USD/candles\""
   ]
  },
  {
   "cell_type": "code",
   "execution_count": 66,
   "id": "7edf004c-91d2-45e7-97f3-0b5f2af69f81",
   "metadata": {},
   "outputs": [],
   "source": [
    "response = session.get(url, params=params, data=None, headers=None)"
   ]
  },
  {
   "cell_type": "code",
   "execution_count": 67,
   "id": "0ba0d485-979e-49d3-9b44-7d5bc3c10940",
   "metadata": {},
   "outputs": [
    {
     "data": {
      "text/plain": [
       "200"
      ]
     },
     "execution_count": 67,
     "metadata": {},
     "output_type": "execute_result"
    }
   ],
   "source": [
    "response.status_code"
   ]
  },
  {
   "cell_type": "code",
   "execution_count": 68,
   "id": "ca18c2ba-7eca-4752-ba54-b5faec22e197",
   "metadata": {},
   "outputs": [
    {
     "data": {
      "text/plain": [
       "{'instrument': 'EUR_USD',\n",
       " 'granularity': 'H1',\n",
       " 'candles': [{'complete': True,\n",
       "   'volume': 3813,\n",
       "   'time': '2024-01-17T19:00:00.000000000Z',\n",
       "   'bid': {'o': '1.08652', 'h': '1.08782', 'l': '1.08651', 'c': '1.08731'},\n",
       "   'mid': {'o': '1.08660', 'h': '1.08790', 'l': '1.08659', 'c': '1.08740'},\n",
       "   'ask': {'o': '1.08669', 'h': '1.08797', 'l': '1.08667', 'c': '1.08748'}},\n",
       "  {'complete': True,\n",
       "   'volume': 2977,\n",
       "   'time': '2024-01-17T20:00:00.000000000Z',\n",
       "   'bid': {'o': '1.08730', 'h': '1.08814', 'l': '1.08696', 'c': '1.08804'},\n",
       "   'mid': {'o': '1.08738', 'h': '1.08821', 'l': '1.08704', 'c': '1.08811'},\n",
       "   'ask': {'o': '1.08746', 'h': '1.08828', 'l': '1.08712', 'c': '1.08818'}},\n",
       "  {'complete': True,\n",
       "   'volume': 1195,\n",
       "   'time': '2024-01-17T21:00:00.000000000Z',\n",
       "   'bid': {'o': '1.08802', 'h': '1.08822', 'l': '1.08802', 'c': '1.08813'},\n",
       "   'mid': {'o': '1.08810', 'h': '1.08829', 'l': '1.08810', 'c': '1.08821'},\n",
       "   'ask': {'o': '1.08817', 'h': '1.08836', 'l': '1.08817', 'c': '1.08829'}},\n",
       "  {'complete': True,\n",
       "   'volume': 2187,\n",
       "   'time': '2024-01-17T22:00:00.000000000Z',\n",
       "   'bid': {'o': '1.08813', 'h': '1.08827', 'l': '1.08791', 'c': '1.08812'},\n",
       "   'mid': {'o': '1.08824', 'h': '1.08836', 'l': '1.08802', 'c': '1.08824'},\n",
       "   'ask': {'o': '1.08835', 'h': '1.08846', 'l': '1.08811', 'c': '1.08836'}},\n",
       "  {'complete': True,\n",
       "   'volume': 871,\n",
       "   'time': '2024-01-17T23:00:00.000000000Z',\n",
       "   'bid': {'o': '1.08820', 'h': '1.08854', 'l': '1.08801', 'c': '1.08853'},\n",
       "   'mid': {'o': '1.08834', 'h': '1.08862', 'l': '1.08818', 'c': '1.08861'},\n",
       "   'ask': {'o': '1.08848', 'h': '1.08869', 'l': '1.08827', 'c': '1.08869'}},\n",
       "  {'complete': True,\n",
       "   'volume': 2736,\n",
       "   'time': '2024-01-18T00:00:00.000000000Z',\n",
       "   'bid': {'o': '1.08854', 'h': '1.08935', 'l': '1.08795', 'c': '1.08932'},\n",
       "   'mid': {'o': '1.08862', 'h': '1.08943', 'l': '1.08804', 'c': '1.08940'},\n",
       "   'ask': {'o': '1.08871', 'h': '1.08951', 'l': '1.08811', 'c': '1.08947'}},\n",
       "  {'complete': True,\n",
       "   'volume': 4209,\n",
       "   'time': '2024-01-18T01:00:00.000000000Z',\n",
       "   'bid': {'o': '1.08933', 'h': '1.09002', 'l': '1.08917', 'c': '1.08953'},\n",
       "   'mid': {'o': '1.08941', 'h': '1.09009', 'l': '1.08924', 'c': '1.08962'},\n",
       "   'ask': {'o': '1.08949', 'h': '1.09017', 'l': '1.08932', 'c': '1.08970'}},\n",
       "  {'complete': True,\n",
       "   'volume': 2469,\n",
       "   'time': '2024-01-18T02:00:00.000000000Z',\n",
       "   'bid': {'o': '1.08956', 'h': '1.09022', 'l': '1.08924', 'c': '1.08927'},\n",
       "   'mid': {'o': '1.08964', 'h': '1.09030', 'l': '1.08932', 'c': '1.08935'},\n",
       "   'ask': {'o': '1.08971', 'h': '1.09039', 'l': '1.08939', 'c': '1.08943'}},\n",
       "  {'complete': True,\n",
       "   'volume': 2506,\n",
       "   'time': '2024-01-18T03:00:00.000000000Z',\n",
       "   'bid': {'o': '1.08925', 'h': '1.08976', 'l': '1.08898', 'c': '1.08948'},\n",
       "   'mid': {'o': '1.08932', 'h': '1.08983', 'l': '1.08906', 'c': '1.08956'},\n",
       "   'ask': {'o': '1.08940', 'h': '1.08990', 'l': '1.08913', 'c': '1.08963'}},\n",
       "  {'complete': False,\n",
       "   'volume': 505,\n",
       "   'time': '2024-01-18T04:00:00.000000000Z',\n",
       "   'bid': {'o': '1.08946', 'h': '1.08951', 'l': '1.08921', 'c': '1.08923'},\n",
       "   'mid': {'o': '1.08954', 'h': '1.08958', 'l': '1.08929', 'c': '1.08930'},\n",
       "   'ask': {'o': '1.08962', 'h': '1.08966', 'l': '1.08937', 'c': '1.08938'}}]}"
      ]
     },
     "execution_count": 68,
     "metadata": {},
     "output_type": "execute_result"
    }
   ],
   "source": [
    "response.json()"
   ]
  },
  {
   "cell_type": "code",
   "execution_count": null,
   "id": "263ac1ba-539b-4087-beb0-9615a67c452f",
   "metadata": {},
   "outputs": [],
   "source": []
  },
  {
   "cell_type": "code",
   "execution_count": null,
   "id": "980e102f-90d9-453c-9924-dcb0c9537af2",
   "metadata": {},
   "outputs": [],
   "source": []
  }
 ],
 "metadata": {
  "kernelspec": {
   "display_name": "Python 3 (ipykernel)",
   "language": "python",
   "name": "python3"
  },
  "language_info": {
   "codemirror_mode": {
    "name": "ipython",
    "version": 3
   },
   "file_extension": ".py",
   "mimetype": "text/x-python",
   "name": "python",
   "nbconvert_exporter": "python",
   "pygments_lexer": "ipython3",
   "version": "3.12.1"
  }
 },
 "nbformat": 4,
 "nbformat_minor": 5
}
